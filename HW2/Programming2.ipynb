{
  "cells": [
    {
      "cell_type": "markdown",
      "metadata": {
        "id": "view-in-github",
        "colab_type": "text"
      },
      "source": [
        "<a href=\"https://colab.research.google.com/github/nvb5140/CS583-Deep-Learning-NB/blob/main/HW2/Programming2.ipynb\" target=\"_parent\"><img src=\"https://colab.research.google.com/assets/colab-badge.svg\" alt=\"Open In Colab\"/></a>"
      ]
    },
    {
      "cell_type": "markdown",
      "metadata": {
        "id": "WrwB8mt6qMOD"
      },
      "source": [
        "# Programming Assignment: Build a CNN for image recognition.\n",
        "\n",
        "### Name: Nick Benelli\n"
      ]
    },
    {
      "cell_type": "markdown",
      "metadata": {
        "id": "WH76beDSqMOH"
      },
      "source": [
        "## 0. You will do the following:\n",
        "\n",
        "1. Read, complete, and run the code.\n",
        "\n",
        "2. **Make substantial improvements** to maximize the accuracy.\n",
        "    \n",
        "3. Convert the .IPYNB file to .HTML file.\n",
        "\n",
        "    * The HTML file must contain the code and the output after execution.\n",
        "    \n",
        "    * Missing **the output after execution** will not be graded.\n",
        "\n",
        "\n",
        "4. Upload the .HTML file to your Google Drive, Dropbox, or Github repo. (If you submit the file to Google Drive or Dropbox, you must make the file \"open-access\". The delay caused by \"deny of access\" may result in late penalty.)\n",
        "\n",
        "4. On Canvas, submit the Google Drive/Dropbox/Github link to the HTML file.\n",
        "\n",
        "\n",
        "## Requirements:\n",
        "\n",
        "1. You can use whatever CNN architecture, including VGG, Inception, and ResNet. However, you must build the networks layer by layer. You must NOT import the archetectures from ```keras.applications```.\n",
        "\n",
        "2. Make sure ```BatchNormalization``` is between a ```Conv```/```Dense``` layer and an ```activation``` layer.\n",
        "\n",
        "3. If you want to regularize a ```Conv```/```Dense``` layer, you should place a ```Dropout``` layer **before** the ```Conv```/```Dense``` layer.\n",
        "\n",
        "4. An accuracy above 70% is considered reasonable. An accuracy above 80% is considered good. Without data augmentation, achieving 80% accuracy is difficult.\n",
        "\n",
        "\n",
        "## Google Colab\n",
        "\n",
        "- If you do not have GPU, the training of a CNN can be slow. Google Colab is a good option.\n",
        "\n",
        "- Keep in mind that you must download it as an IPYNB file and then use IPython Notebook to convert it to HTML.\n",
        "\n",
        "- Also keep in mind that the IPYNB and HTML files must contain the outputs. (Otherwise, the instructor will not be able to know the correctness and performance.) Do the followings to keep the outputs.\n",
        "\n",
        "- In Colab, go to ```Runtime``` --> ```Change runtime type``` --> Do NOT check ```Omit code cell output when saving this notebook```. In this way, the downloaded IPYNB file contains the outputs."
      ]
    },
    {
      "cell_type": "markdown",
      "metadata": {
        "id": "S4n2ObdtqMOI"
      },
      "source": [
        "## 1. Data preparation"
      ]
    },
    {
      "cell_type": "markdown",
      "metadata": {
        "id": "IB66E1p0qMOJ"
      },
      "source": [
        "### 1.1. Load data\n"
      ]
    },
    {
      "cell_type": "code",
      "execution_count": 7,
      "metadata": {
        "colab": {
          "base_uri": "https://localhost:8080/"
        },
        "id": "soZqwfjJqMOK",
        "outputId": "5c30863f-213b-49cd-a2f3-9d9f2f1dd109"
      },
      "outputs": [
        {
          "output_type": "stream",
          "name": "stdout",
          "text": [
            "shape of x_train: (50000, 32, 32, 3)\n",
            "shape of y_train: (50000, 1)\n",
            "shape of x_test: (10000, 32, 32, 3)\n",
            "shape of y_test: (10000, 1)\n",
            "number of classes: 10\n"
          ]
        }
      ],
      "source": [
        "from keras.datasets import cifar10\n",
        "import numpy\n",
        "\n",
        "(x_train, y_train), (x_test, y_test) = cifar10.load_data()\n",
        "\n",
        "print('shape of x_train: ' + str(x_train.shape))\n",
        "print('shape of y_train: ' + str(y_train.shape))\n",
        "print('shape of x_test: ' + str(x_test.shape))\n",
        "print('shape of y_test: ' + str(y_test.shape))\n",
        "print('number of classes: ' + str(numpy.max(y_train) - numpy.min(y_train) + 1))"
      ]
    },
    {
      "cell_type": "markdown",
      "metadata": {
        "id": "h3KkvJkHqMON"
      },
      "source": [
        "### 1.2. One-hot encode the labels\n",
        "\n",
        "In the input, a label is a scalar in $\\{0, 1, \\cdots , 9\\}$. One-hot encode transform such a scalar to a $10$-dim vector. E.g., a scalar ```y_train[j]=3``` is transformed to the vector ```y_train_vec[j]=[0, 0, 0, 1, 0, 0, 0, 0, 0, 0]```.\n",
        "\n",
        "1. Define a function ```to_one_hot``` that transforms an $n\\times 1$ array to a $n\\times 10$ matrix.\n",
        "\n",
        "2. Apply the function to ```y_train``` and ```y_test```."
      ]
    },
    {
      "cell_type": "code",
      "execution_count": 8,
      "metadata": {
        "colab": {
          "base_uri": "https://localhost:8080/"
        },
        "id": "_SZqMRNWqMOQ",
        "outputId": "0c8a873a-e7ef-4acb-befe-45396e542093"
      },
      "outputs": [
        {
          "output_type": "stream",
          "name": "stdout",
          "text": [
            "Shape of y_train_vec: (50000, 10)\n",
            "Shape of y_test_vec: (10000, 10)\n",
            "[6]\n",
            "[0. 0. 0. 0. 0. 0. 1. 0. 0. 0.]\n"
          ]
        }
      ],
      "source": [
        "def to_one_hot(y, num_class=10):\n",
        "    '''\n",
        "    Covnert integer classes in a one-hot encoding vector. i.e 3 = [0,0,0,1,0]\n",
        "\n",
        "    Parameters\n",
        "    ----------\n",
        "    y : numpy.ndarray\n",
        "        label vector.\n",
        "    num_class : int, optional\n",
        "        number of classes in multi-class classifcation. The default is 10.\n",
        "\n",
        "    Returns\n",
        "    -------\n",
        "    y_one_hot : numpy.ndarray\n",
        "        one-hot encoding matrix of y.\n",
        "\n",
        "    '''\n",
        "    y_one_hot = numpy.zeros((len(y), num_class))\n",
        "    for i, y_i in enumerate(y):\n",
        "        y_one_hot[i, y_i] = 1\n",
        "    return y_one_hot\n",
        "\n",
        "y_train_vec = to_one_hot(y_train)\n",
        "y_test_vec = to_one_hot(y_test)\n",
        "\n",
        "print('Shape of y_train_vec: ' + str(y_train_vec.shape))\n",
        "print('Shape of y_test_vec: ' + str(y_test_vec.shape))\n",
        "\n",
        "print(y_train[0])\n",
        "print(y_train_vec[0])"
      ]
    },
    {
      "cell_type": "markdown",
      "metadata": {
        "id": "cC_uBHPCqMOR"
      },
      "source": [
        "#### Remark: the outputs should be\n",
        "* Shape of y_train_vec: (50000, 10)\n",
        "* Shape of y_test_vec: (10000, 10)\n",
        "* [6]\n",
        "* [0. 0. 0. 0. 0. 0. 1. 0. 0. 0.]"
      ]
    },
    {
      "cell_type": "markdown",
      "metadata": {
        "id": "n0Y6c1IzqMOR"
      },
      "source": [
        "### 1.3. Randomly partition the training set to training and validation sets\n",
        "\n",
        "Randomly partition the 50K training samples to 2 sets:\n",
        "* a training set containing 40K samples\n",
        "* a validation set containing 10K samples\n"
      ]
    },
    {
      "cell_type": "code",
      "execution_count": 9,
      "metadata": {
        "id": "OhG_8-qMqMOX",
        "colab": {
          "base_uri": "https://localhost:8080/"
        },
        "outputId": "a1dcfac8-eb85-4e51-c15c-3c0094bc40f3"
      },
      "outputs": [
        {
          "output_type": "stream",
          "name": "stdout",
          "text": [
            "Shape of x_tr: (40000, 32, 32, 3)\n",
            "Shape of y_tr: (40000, 10)\n",
            "Shape of x_val: (10000, 32, 32, 3)\n",
            "Shape of y_val: (10000, 10)\n"
          ]
        }
      ],
      "source": [
        "rand_indices = numpy.random.permutation(50000)\n",
        "train_indices = rand_indices[0:40000]\n",
        "valid_indices = rand_indices[40000:50000]\n",
        "\n",
        "x_val = x_train[valid_indices, :]\n",
        "y_val = y_train_vec[valid_indices, :]\n",
        "\n",
        "x_tr = x_train[train_indices, :]\n",
        "y_tr = y_train_vec[train_indices, :]\n",
        "\n",
        "print('Shape of x_tr: ' + str(x_tr.shape))\n",
        "print('Shape of y_tr: ' + str(y_tr.shape))\n",
        "print('Shape of x_val: ' + str(x_val.shape))\n",
        "print('Shape of y_val: ' + str(y_val.shape))"
      ]
    },
    {
      "cell_type": "markdown",
      "metadata": {
        "id": "3LIZYAZyqMOY"
      },
      "source": [
        "## 2. Build a CNN and tune its hyper-parameters\n",
        "\n",
        "1. Build a convolutional neural network model\n",
        "2. Use the validation data to tune the hyper-parameters (e.g., network structure, and optimization algorithm)\n",
        "    * Do NOT use test data for hyper-parameter tuning!!!\n",
        "3. Try to achieve a validation accuracy as high as possible."
      ]
    },
    {
      "cell_type": "markdown",
      "metadata": {
        "id": "qy1A0RoSqMOY"
      },
      "source": [
        "### Remark: \n",
        "\n",
        "The following CNN is just an example. You are supposed to make **substantial improvements** such as:\n",
        "* Add more layers.\n",
        "* Use regularizations, e.g., dropout.\n",
        "* Use batch normalization."
      ]
    },
    {
      "cell_type": "code",
      "execution_count": 10,
      "metadata": {
        "id": "G0QDYPX-qMOZ",
        "colab": {
          "base_uri": "https://localhost:8080/"
        },
        "outputId": "ce28e18e-903d-4c91-abf5-76b396ff8cf0"
      },
      "outputs": [
        {
          "output_type": "stream",
          "name": "stdout",
          "text": [
            "Model: \"sequential_1\"\n",
            "_________________________________________________________________\n",
            " Layer (type)                Output Shape              Param #   \n",
            "=================================================================\n",
            " conv2d_4 (Conv2D)           (None, 32, 32, 32)        896       \n",
            "                                                                 \n",
            " batch_normalization_5 (Batc  (None, 32, 32, 32)       128       \n",
            " hNormalization)                                                 \n",
            "                                                                 \n",
            " activation_5 (Activation)   (None, 32, 32, 32)        0         \n",
            "                                                                 \n",
            " conv2d_5 (Conv2D)           (None, 32, 32, 32)        9248      \n",
            "                                                                 \n",
            " batch_normalization_6 (Batc  (None, 32, 32, 32)       128       \n",
            " hNormalization)                                                 \n",
            "                                                                 \n",
            " activation_6 (Activation)   (None, 32, 32, 32)        0         \n",
            "                                                                 \n",
            " max_pooling2d_2 (MaxPooling  (None, 16, 16, 32)       0         \n",
            " 2D)                                                             \n",
            "                                                                 \n",
            " dropout_2 (Dropout)         (None, 16, 16, 32)        0         \n",
            "                                                                 \n",
            " conv2d_6 (Conv2D)           (None, 16, 16, 64)        18496     \n",
            "                                                                 \n",
            " batch_normalization_7 (Batc  (None, 16, 16, 64)       256       \n",
            " hNormalization)                                                 \n",
            "                                                                 \n",
            " activation_7 (Activation)   (None, 16, 16, 64)        0         \n",
            "                                                                 \n",
            " conv2d_7 (Conv2D)           (None, 16, 16, 64)        36928     \n",
            "                                                                 \n",
            " batch_normalization_8 (Batc  (None, 16, 16, 64)       256       \n",
            " hNormalization)                                                 \n",
            "                                                                 \n",
            " activation_8 (Activation)   (None, 16, 16, 64)        0         \n",
            "                                                                 \n",
            " max_pooling2d_3 (MaxPooling  (None, 8, 8, 64)         0         \n",
            " 2D)                                                             \n",
            "                                                                 \n",
            " flatten_1 (Flatten)         (None, 4096)              0         \n",
            "                                                                 \n",
            " dropout_3 (Dropout)         (None, 4096)              0         \n",
            "                                                                 \n",
            " dense_2 (Dense)             (None, 128)               524416    \n",
            "                                                                 \n",
            " batch_normalization_9 (Batc  (None, 128)              512       \n",
            " hNormalization)                                                 \n",
            "                                                                 \n",
            " activation_9 (Activation)   (None, 128)               0         \n",
            "                                                                 \n",
            " dense_3 (Dense)             (None, 10)                1290      \n",
            "                                                                 \n",
            "=================================================================\n",
            "Total params: 592,554\n",
            "Trainable params: 591,914\n",
            "Non-trainable params: 640\n",
            "_________________________________________________________________\n"
          ]
        }
      ],
      "source": [
        "from keras.layers import Conv2D, MaxPooling2D, Flatten, Dense, Dropout, BatchNormalization, Activation\n",
        "from keras.models import Sequential\n",
        "\n",
        "# Model Parms\n",
        "droput_rate = 0.5\n",
        "act_fun = 'relu'  # regression positve numb\n",
        "\n",
        "# Model\n",
        "model = Sequential()\n",
        "# set 1\n",
        "model.add(Conv2D(32, (3, 3), activation='relu', padding='same', input_shape=(32, 32, 3)))\n",
        "model.add(BatchNormalization())\n",
        "model.add(Activation('relu')) \n",
        "model.add(Conv2D(32, (3, 3), padding='same'))\n",
        "model.add(BatchNormalization())\n",
        "model.add(Activation('relu'))\n",
        "model.add(MaxPooling2D((2, 2)))\n",
        "\n",
        "# set 2\n",
        "model.add(Dropout(droput_rate))\n",
        "model.add(Conv2D(64, (3, 3), activation='relu', padding='same'))\n",
        "model.add(BatchNormalization())\n",
        "model.add(Activation('relu'))\n",
        "model.add(Conv2D(64, (3, 3), padding='same'))\n",
        "model.add(BatchNormalization())\n",
        "model.add(Activation('relu'))\n",
        "model.add(MaxPooling2D((2, 2)))\n",
        "\n",
        "# set 3 (final set)\n",
        "model.add(Flatten())\n",
        "model.add(Dropout(droput_rate)) # before first dense layer\n",
        "model.add(Dense(128, activation=act_fun))\n",
        "model.add(BatchNormalization())\n",
        "model.add(Activation(act_fun))\n",
        "model.add(Dense(10, activation='softmax'))  # multi-class classifcation\n",
        "\n",
        "\n",
        "model.summary()"
      ]
    },
    {
      "cell_type": "code",
      "execution_count": 11,
      "metadata": {
        "id": "FHo5pBU0qMOZ"
      },
      "outputs": [],
      "source": [
        "#from keras import optimizers\n",
        "from tensorflow.keras import optimizers\n",
        "from keras.preprocessing.image import ImageDataGenerator\n",
        "\n",
        "# Params\n",
        "batch_size = 32\n",
        "\n",
        "train_datagen = ImageDataGenerator(\n",
        "    rescale= 1./255.,\n",
        "    rotation_range=40,\n",
        "    width_shift_range=0.2,\n",
        "    height_shift_range=0.2,\n",
        "    shear_range=0.2,\n",
        "    zoom_range=0.2,\n",
        "    horizontal_flip=True)\n",
        "\n",
        "train_datagen.fit(x_tr)\n",
        "train_generator = train_datagen.flow(x_tr, y_tr, batch_size=batch_size)\n",
        "test_generator = ImageDataGenerator().flow(x_val, y_val, batch_size=batch_size)\n",
        "\n",
        "learning_rate = 1E-3 # to be tuned!\n",
        "\n",
        "model.compile(\n",
        "    loss='categorical_crossentropy',\n",
        "    optimizer=optimizers.RMSprop(learning_rate=learning_rate),\n",
        "    metrics=['acc'])"
      ]
    },
    {
      "cell_type": "code",
      "execution_count": 12,
      "metadata": {
        "id": "MmV12qgjqMOa",
        "colab": {
          "base_uri": "https://localhost:8080/"
        },
        "outputId": "0f764f4c-25bd-490c-9dcf-691718bdf085"
      },
      "outputs": [
        {
          "output_type": "stream",
          "name": "stdout",
          "text": [
            "Epoch 1/22\n",
            "1250/1250 [==============================] - 278s 221ms/step - loss: 1.4839 - acc: 0.4654 - val_loss: 1.1845 - val_acc: 0.5740\n",
            "Epoch 2/22\n",
            "1250/1250 [==============================] - 279s 223ms/step - loss: 1.1433 - acc: 0.5942 - val_loss: 1.4895 - val_acc: 0.5280\n",
            "Epoch 3/22\n",
            "1250/1250 [==============================] - 275s 220ms/step - loss: 1.0062 - acc: 0.6450 - val_loss: 1.2630 - val_acc: 0.5709\n",
            "Epoch 4/22\n",
            "1250/1250 [==============================] - 274s 219ms/step - loss: 0.9236 - acc: 0.6762 - val_loss: 0.8944 - val_acc: 0.6954\n",
            "Epoch 5/22\n",
            "1250/1250 [==============================] - 281s 225ms/step - loss: 0.8629 - acc: 0.7009 - val_loss: 1.0628 - val_acc: 0.6331\n",
            "Epoch 6/22\n",
            "1250/1250 [==============================] - 282s 225ms/step - loss: 0.8296 - acc: 0.7137 - val_loss: 0.8385 - val_acc: 0.7123\n",
            "Epoch 7/22\n",
            "1250/1250 [==============================] - 282s 225ms/step - loss: 0.7937 - acc: 0.7231 - val_loss: 0.8679 - val_acc: 0.7050\n",
            "Epoch 8/22\n",
            "1250/1250 [==============================] - 281s 225ms/step - loss: 0.7628 - acc: 0.7355 - val_loss: 0.9925 - val_acc: 0.6762\n",
            "Epoch 9/22\n",
            "1250/1250 [==============================] - 281s 225ms/step - loss: 0.7322 - acc: 0.7483 - val_loss: 0.8054 - val_acc: 0.7307\n",
            "Epoch 10/22\n",
            "1250/1250 [==============================] - 282s 225ms/step - loss: 0.7152 - acc: 0.7534 - val_loss: 0.6723 - val_acc: 0.7615\n",
            "Epoch 11/22\n",
            "1250/1250 [==============================] - 282s 226ms/step - loss: 0.6967 - acc: 0.7594 - val_loss: 0.7057 - val_acc: 0.7548\n",
            "Epoch 12/22\n",
            "1250/1250 [==============================] - 282s 226ms/step - loss: 0.6773 - acc: 0.7661 - val_loss: 0.7103 - val_acc: 0.7655\n",
            "Epoch 13/22\n",
            "1250/1250 [==============================] - 281s 225ms/step - loss: 0.6630 - acc: 0.7746 - val_loss: 0.7511 - val_acc: 0.7519\n",
            "Epoch 14/22\n",
            "1250/1250 [==============================] - 281s 225ms/step - loss: 0.6513 - acc: 0.7794 - val_loss: 0.7251 - val_acc: 0.7672\n",
            "Epoch 15/22\n",
            "1250/1250 [==============================] - 281s 225ms/step - loss: 0.6367 - acc: 0.7809 - val_loss: 0.7342 - val_acc: 0.7636\n",
            "Epoch 16/22\n",
            "1250/1250 [==============================] - 281s 225ms/step - loss: 0.6235 - acc: 0.7855 - val_loss: 0.7939 - val_acc: 0.7506\n",
            "Epoch 17/22\n",
            "1250/1250 [==============================] - 280s 224ms/step - loss: 0.6162 - acc: 0.7893 - val_loss: 0.6495 - val_acc: 0.7802\n",
            "Epoch 18/22\n",
            "1250/1250 [==============================] - 280s 224ms/step - loss: 0.6032 - acc: 0.7937 - val_loss: 0.6695 - val_acc: 0.7831\n",
            "Epoch 19/22\n",
            "1250/1250 [==============================] - 281s 225ms/step - loss: 0.5950 - acc: 0.7977 - val_loss: 0.5941 - val_acc: 0.7977\n",
            "Epoch 20/22\n",
            "1250/1250 [==============================] - 282s 226ms/step - loss: 0.5861 - acc: 0.8021 - val_loss: 0.8831 - val_acc: 0.7292\n",
            "Epoch 21/22\n",
            "1250/1250 [==============================] - 283s 226ms/step - loss: 0.5765 - acc: 0.8037 - val_loss: 0.7321 - val_acc: 0.7765\n",
            "Epoch 22/22\n",
            "1250/1250 [==============================] - 281s 225ms/step - loss: 0.5746 - acc: 0.8039 - val_loss: 0.7055 - val_acc: 0.7828\n"
          ]
        }
      ],
      "source": [
        "epochs = 30\n",
        "history = model.fit(x_tr, y_tr, batch_size=32, epochs=epochs, validation_data=(x_val, y_val))"
      ]
    },
    {
      "cell_type": "code",
      "execution_count": 13,
      "metadata": {
        "id": "LyCWGjvHqMOa",
        "colab": {
          "base_uri": "https://localhost:8080/",
          "height": 339
        },
        "outputId": "de222f8c-3bb3-4db3-ef49-2b1603f54d4a"
      },
      "outputs": [
        {
          "output_type": "display_data",
          "data": {
            "text/plain": [
              "<Figure size 432x288 with 1 Axes>"
            ],
            "image/png": "[encoded data removed]"
          },
          "metadata": {}
        },
        {
          "output_type": "stream",
          "name": "stdout",
          "text": [
            "Training Accuracy: 0.8038750290870667\n",
            "Validation Accuracy: 0.782800018787384\n"
          ]
        }
      ],
      "source": [
        "import matplotlib.pyplot as plt\n",
        "%matplotlib inline\n",
        "plt.style.use('fivethirtyeight')\n",
        "\n",
        "acc = history.history['acc']\n",
        "val_acc = history.history['val_acc']\n",
        "\n",
        "epochs = range(len(acc))\n",
        "\n",
        "plt.plot(epochs, acc, 'bo', label='Training acc')\n",
        "plt.plot(epochs, val_acc, 'r', label='Validation acc')\n",
        "plt.xlabel('Epochs')\n",
        "plt.ylabel('Accuracy')\n",
        "plt.legend()\n",
        "plt.show()\n",
        "\n",
        "print(f\"Training Accuracy: {acc[-1]}\")\n",
        "print(f\"Validation Accuracy: {val_acc[-1]}\")"
      ]
    },
    {
      "cell_type": "markdown",
      "metadata": {
        "id": "HKBxSDUwqMOb"
      },
      "source": [
        "## 3. Train (again) and evaluate the model\n",
        "\n",
        "- To this end, you have found the \"best\" hyper-parameters. \n",
        "- Now, fix the hyper-parameters and train the network on the entire training set (all the 50K training samples)\n",
        "- Evaluate your model on the test set."
      ]
    },
    {
      "cell_type": "markdown",
      "metadata": {
        "id": "GHMEj9bLqMOb"
      },
      "source": [
        "### 3.1. Train the model on the entire training set\n",
        "\n",
        "Why? Previously, you used 40K samples for training; you wasted 10K samples for the sake of hyper-parameter tuning. Now you already know the hyper-parameters, so why not using all the 50K samples for training?"
      ]
    },
    {
      "cell_type": "code",
      "execution_count": 14,
      "metadata": {
        "id": "UyImhVjzqMOb"
      },
      "outputs": [],
      "source": [
        "train_datagen = ImageDataGenerator(\n",
        "    rescale= 1./255.,\n",
        "    rotation_range=40,\n",
        "    width_shift_range=0.2,\n",
        "    height_shift_range=0.2,\n",
        "    shear_range=0.2,\n",
        "    zoom_range=0.2,\n",
        "    horizontal_flip=True\n",
        ")\n",
        "train_datagen.fit(x_tr)\n",
        "train_generator = train_datagen.flow(x_train, y_train_vec, batch_size=batch_size)\n",
        "learning_rate = 1E-3\n",
        "model.compile(\n",
        "    loss='categorical_crossentropy',\n",
        "    optimizer= optimizers.RMSprop(\n",
        "        learning_rate- learning_rate,\n",
        "        rho=0.9,\n",
        "        momentum=0.1),\n",
        "    metrics = ['acc']\n",
        ")"
      ]
    },
    {
      "cell_type": "code",
      "execution_count": null,
      "metadata": {
        "id": "-B2zeIzgqMOc"
      },
      "outputs": [],
      "source": [
        "history = model.fit(train_generator, epochs=ephochs)"
      ]
    },
    {
      "cell_type": "markdown",
      "metadata": {
        "id": "Kzkm1BS_qMOc"
      },
      "source": [
        "### 3.2. Evaluate the model on the test set\n",
        "\n",
        "Do NOT used the test set until now. Make sure that your model parameters and hyper-parameters are independent of the test set."
      ]
    },
    {
      "cell_type": "code",
      "execution_count": null,
      "metadata": {
        "id": "cMjUqGypqMOe"
      },
      "outputs": [],
      "source": [
        "loss_and_acc = model.evaluate(x_test, y_test_vec)\n",
        "print('loss = ' + str(loss_and_acc[0]))\n",
        "print('accuracy = ' + str(loss_and_acc[1]))"
      ]
    },
    {
      "cell_type": "code",
      "execution_count": null,
      "metadata": {
        "id": "lWXb2aWcqMOg"
      },
      "outputs": [],
      "source": [
        ""
      ]
    }
  ],
  "metadata": {
    "kernelspec": {
      "display_name": "Python 3",
      "language": "python",
      "name": "python3"
    },
    "language_info": {
      "codemirror_mode": {
        "name": "ipython",
        "version": 3
      },
      "file_extension": ".py",
      "mimetype": "text/x-python",
      "name": "python",
      "nbconvert_exporter": "python",
      "pygments_lexer": "ipython3",
      "version": "3.8.8"
    },
    "colab": {
      "name": "Programming2.ipynb",
      "provenance": [],
      "collapsed_sections": [],
      "include_colab_link": true
    }
  },
  "nbformat": 4,
  "nbformat_minor": 0
}