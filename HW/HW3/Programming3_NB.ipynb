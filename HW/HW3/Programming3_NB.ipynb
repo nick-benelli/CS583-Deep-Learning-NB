{
 "cells": [
  {
   "cell_type": "markdown",
   "metadata": {
    "id": "dc_SRAsZu_H1"
   },
   "source": [
    "# Programming Assignment: Build a seq2seq model for machine translation.\n",
    "\n",
    "### Name: Nick Benelli\n",
    "\n",
    "### Task: Translate English to French"
   ]
  },
  {
   "cell_type": "markdown",
   "metadata": {
    "id": "wDu7qU-1u_H4"
   },
   "source": [
    "## 0. You will do the following:\n",
    "\n",
    "1. Read and run my code.\n",
    "\n",
    "2. Complete the code in Section 1.1 and Section 4.2.\n",
    "\n",
    "    * Translation from **English** to **German** is not acceptable! Try another pair of languages.\n",
    "\n",
    "\n",
    "3. Make improvement: Using Bi-LSTM instead of LSTM.\n",
    "    \n",
    "4. Convert the .IPYNB file to .HTML file.\n",
    "\n",
    "    * The HTML file must contain the code and the output after execution.\n",
    "    \n",
    "    * Missing **the output after execution** will not be graded.\n",
    "\n",
    "\n",
    "5. Upload the .HTML file to your Google Drive, Dropbox, or Github repo. (If you submit the file to Google Drive or Dropbox, you must make the file \"open-access\". The delay caused by \"deny of access\" may result in late penalty.)\n",
    "\n",
    "6. On Canvas, submit the Google Drive/Dropbox/Github link to the HTML file.\n"
   ]
  },
  {
   "cell_type": "markdown",
   "metadata": {
    "id": "peEQFJOLu_H6"
   },
   "source": [
    "### Hint: \n",
    "\n",
    "To implement ```Bi-LSTM```, you will need the following code to build the encoder. Do NOT use Bi-LSTM for the decoder."
   ]
  },
  {
   "cell_type": "code",
   "execution_count": null,
   "metadata": {
    "id": "mvXe0T-Au_H7"
   },
   "outputs": [],
   "source": [
    "\"\"\"\n",
    "from keras.layers import Bidirectional, Concatenate\n",
    "\n",
    "encoder_bilstm = Bidirectional(LSTM(latent_dim, return_state=True, \n",
    "                                  dropout=0.5, name='encoder_lstm'))\n",
    "_, forward_h, forward_c, backward_h, backward_c = encoder_bilstm(encoder_inputs)\n",
    "\n",
    "state_h = Concatenate()([forward_h, backward_h])\n",
    "state_c = Concatenate()([forward_c, backward_c])\n",
    "\"\"\""
   ]
  },
  {
   "cell_type": "markdown",
   "metadata": {
    "id": "ZP-qDuXru_H9"
   },
   "source": [
    "## 1. Data preparation\n",
    "\n",
    "1. Download data (e.g., \"deu-eng.zip\") from http://www.manythings.org/anki/\n",
    "2. Unzip the .ZIP file.\n",
    "3. Put the .TXT file (e.g., \"deu.txt\") in the directory \"./Data/\"."
   ]
  },
  {
   "cell_type": "markdown",
   "metadata": {
    "id": "fHxa8tywu_H-"
   },
   "source": [
    "### 1.1. Load and clean text\n"
   ]
  },
  {
   "cell_type": "code",
   "execution_count": 1,
   "metadata": {
    "colab": {
     "base_uri": "https://localhost:8080/"
    },
    "id": "99zQh4OaxFVu",
    "outputId": "d07c2c92-e9d9-4bca-e533-96befb46c7af"
   },
   "outputs": [
    {
     "name": "stdout",
     "output_type": "stream",
     "text": [
      "Mounted at /content/drive\n"
     ]
    }
   ],
   "source": [
    "# Mount Google Drive\n",
    "from google.colab import drive\n",
    "drive.mount('/content/drive')\n",
    "#drive.mount('drive')"
   ]
  },
  {
   "cell_type": "code",
   "execution_count": 2,
   "metadata": {
    "colab": {
     "base_uri": "https://localhost:8080/"
    },
    "id": "Q8yuNjxqyA8C",
    "outputId": "1002137c-7b77-45c6-d00e-080cb1af6f5c"
   },
   "outputs": [
    {
     "name": "stdout",
     "output_type": "stream",
     "text": [
      "Current Path:\n",
      "/content\n",
      "Set new path to: /content/drive/My Drive/Colab Notebooks/\n",
      "/content/drive/My Drive/Colab Notebooks\n"
     ]
    }
   ],
   "source": [
    "import os\n",
    "\n",
    "print('Current Path:')\n",
    "# '/content'\n",
    "print(os.getcwd())\n",
    "\n",
    "new_filepath = '/content/drive/My Drive/Colab Notebooks/'\n",
    "print(f\"Set new path to: {new_filepath}\")\n",
    "os.chdir(new_filepath)\n",
    "print(os.getcwd())"
   ]
  },
  {
   "cell_type": "code",
   "execution_count": 3,
   "metadata": {
    "id": "igNu7t_Lu_H_"
   },
   "outputs": [],
   "source": [
    "import re\n",
    "import string\n",
    "from unicodedata import normalize\n",
    "import numpy\n",
    "\n",
    "# load doc into memory\n",
    "def load_doc(filename):\n",
    "    # open the file as read only\n",
    "    file = open(filename, mode='rt', encoding='utf-8')\n",
    "    # read all text\n",
    "    text = file.read()\n",
    "    # close the file\n",
    "    file.close()\n",
    "    return text\n",
    "\n",
    "\n",
    "# split a loaded document into sentences\n",
    "def to_pairs(doc):\n",
    "    lines = doc.strip().split('\\n')\n",
    "    pairs = [line.split('\\t') for line in  lines]\n",
    "    return pairs\n",
    "\n",
    "def clean_data(lines):\n",
    "    cleaned = list()\n",
    "    # prepare regex for char filtering\n",
    "    re_print = re.compile('[^%s]' % re.escape(string.printable))\n",
    "    # prepare translation table for removing punctuation\n",
    "    table = str.maketrans('', '', string.punctuation)\n",
    "    for pair in lines:\n",
    "        clean_pair = list()\n",
    "        for line in pair:\n",
    "            # normalize unicode characters\n",
    "            line = normalize('NFD', line).encode('ascii', 'ignore')\n",
    "            line = line.decode('UTF-8')\n",
    "            # tokenize on white space\n",
    "            line = line.split()\n",
    "            # convert to lowercase\n",
    "            line = [word.lower() for word in line]\n",
    "            # remove punctuation from each token\n",
    "            line = [word.translate(table) for word in line]\n",
    "            # remove non-printable chars form each token\n",
    "            line = [re_print.sub('', w) for w in line]\n",
    "            # remove tokens with numbers in them\n",
    "            line = [word for word in line if word.isalpha()]\n",
    "            # store as string\n",
    "            clean_pair.append(' '.join(line))\n",
    "        cleaned.append(clean_pair)\n",
    "    return numpy.array(cleaned)"
   ]
  },
  {
   "cell_type": "markdown",
   "metadata": {
    "id": "VImmWnuCu_IA"
   },
   "source": [
    "#### Fill the following blanks:"
   ]
  },
  {
   "cell_type": "code",
   "execution_count": 4,
   "metadata": {
    "id": "d9mqslEKu_IB"
   },
   "outputs": [],
   "source": [
    "# e.g., filename = 'Data/deu.txt'\n",
    "filename = 'fra-eng/fra.txt'\n",
    "to_language = 'French'\n",
    "do_train = True\n",
    "\n",
    "# e.g., n_train = 20000\n",
    "n_train = 20000 #<how many sentences are you going to use for training?>"
   ]
  },
  {
   "cell_type": "code",
   "execution_count": 5,
   "metadata": {
    "id": "495M0Z_Xu_IC"
   },
   "outputs": [],
   "source": [
    "# load dataset\n",
    "doc = load_doc(filename)\n",
    "\n",
    "# split into Language1-Language2 pairs\n",
    "pairs = to_pairs(doc)\n",
    "\n",
    "# clean sentences\n",
    "clean_pairs = clean_data(pairs)[0:n_train, :]"
   ]
  },
  {
   "cell_type": "code",
   "execution_count": 6,
   "metadata": {
    "colab": {
     "base_uri": "https://localhost:8080/"
    },
    "id": "oqhIthJ2u_ID",
    "outputId": "b3cebe43-9b7f-43ea-d126-d16effb054dd"
   },
   "outputs": [
    {
     "name": "stdout",
     "output_type": "stream",
     "text": [
      "[i am taller] => [je suis plus grand]\n",
      "[i apologize] => [je vous prie de mexcuser]\n",
      "[i asked tom] => [jai demande a tom]\n",
      "[i assume so] => [je le suppose]\n",
      "[i bought it] => [je lai achete]\n",
      "[i buried it] => [je lai enterre]\n",
      "[i buried it] => [je lai enterree]\n",
      "[i burned it] => [je lai brule]\n",
      "[i burned it] => [je lai brulee]\n",
      "[i buy tapes] => [jachete des cassettes]\n"
     ]
    }
   ],
   "source": [
    "for i in range(3000, 3010):\n",
    "    print('[' + clean_pairs[i, 0] + '] => [' + clean_pairs[i, 1] + ']')"
   ]
  },
  {
   "cell_type": "code",
   "execution_count": 7,
   "metadata": {
    "colab": {
     "base_uri": "https://localhost:8080/"
    },
    "id": "eboowbIuu_ID",
    "outputId": "35dfa34d-2432-491b-9069-5adcd0d8486f"
   },
   "outputs": [
    {
     "name": "stdout",
     "output_type": "stream",
     "text": [
      "Length of input_texts:  (20000,)\n",
      "Length of target_texts: (20000,)\n"
     ]
    }
   ],
   "source": [
    "input_texts = clean_pairs[:, 0]\n",
    "target_texts = ['\\t' + text + '\\n' for text in clean_pairs[:, 1]]\n",
    "\n",
    "print('Length of input_texts:  ' + str(input_texts.shape))\n",
    "print('Length of target_texts: ' + str(input_texts.shape))"
   ]
  },
  {
   "cell_type": "code",
   "execution_count": 8,
   "metadata": {
    "colab": {
     "base_uri": "https://localhost:8080/"
    },
    "id": "RopWMIG4u_IE",
    "outputId": "e5a9d428-4ae6-4f21-aed2-645ae39f725e"
   },
   "outputs": [
    {
     "name": "stdout",
     "output_type": "stream",
     "text": [
      "max length of input  sentences: 16\n",
      "max length of target sentences: 56\n"
     ]
    }
   ],
   "source": [
    "max_encoder_seq_length = max(len(line) for line in input_texts)\n",
    "max_decoder_seq_length = max(len(line) for line in target_texts)\n",
    "\n",
    "print('max length of input  sentences: %d' % (max_encoder_seq_length))\n",
    "print('max length of target sentences: %d' % (max_decoder_seq_length))"
   ]
  },
  {
   "cell_type": "markdown",
   "metadata": {
    "id": "Xba-Xtvbu_IE"
   },
   "source": [
    "**Remark:** To this end, you have two lists of sentences: input_texts and target_texts"
   ]
  },
  {
   "cell_type": "markdown",
   "metadata": {
    "id": "xNmuCHzUu_IF"
   },
   "source": [
    "## 2. Text processing\n",
    "\n",
    "### 2.1. Convert texts to sequences\n",
    "\n",
    "- Input: A list of $n$ sentences (with max length $t$).\n",
    "- It is represented by a $n\\times t$ matrix after the tokenization and zero-padding."
   ]
  },
  {
   "cell_type": "code",
   "execution_count": 9,
   "metadata": {
    "colab": {
     "base_uri": "https://localhost:8080/"
    },
    "id": "OfWDSplvu_IG",
    "outputId": "28ea2ba6-70d3-424c-d57b-db387f210da1"
   },
   "outputs": [
    {
     "name": "stdout",
     "output_type": "stream",
     "text": [
      "shape of encoder_input_seq: (20000, 16)\n",
      "shape of input_token_index: 27\n",
      "shape of decoder_input_seq: (20000, 56)\n",
      "shape of target_token_index: 29\n"
     ]
    }
   ],
   "source": [
    "from keras.preprocessing.text import Tokenizer\n",
    "from keras.preprocessing.sequence import pad_sequences\n",
    "\n",
    "# encode and pad sequences\n",
    "def text2sequences(max_len, lines):\n",
    "    tokenizer = Tokenizer(char_level=True, filters='')\n",
    "    tokenizer.fit_on_texts(lines)\n",
    "    seqs = tokenizer.texts_to_sequences(lines)\n",
    "    seqs_pad = pad_sequences(seqs, maxlen=max_len, padding='post')\n",
    "    return seqs_pad, tokenizer.word_index\n",
    "\n",
    "\n",
    "encoder_input_seq, input_token_index = text2sequences(max_encoder_seq_length, \n",
    "                                                      input_texts)\n",
    "decoder_input_seq, target_token_index = text2sequences(max_decoder_seq_length, \n",
    "                                                       target_texts)\n",
    "\n",
    "print('shape of encoder_input_seq: ' + str(encoder_input_seq.shape))\n",
    "print('shape of input_token_index: ' + str(len(input_token_index)))\n",
    "print('shape of decoder_input_seq: ' + str(decoder_input_seq.shape))\n",
    "print('shape of target_token_index: ' + str(len(target_token_index)))"
   ]
  },
  {
   "cell_type": "code",
   "execution_count": 10,
   "metadata": {
    "colab": {
     "base_uri": "https://localhost:8080/"
    },
    "id": "1fBruwk5u_IG",
    "outputId": "75345ee7-a9f4-4434-ce81-75f1e21d1785"
   },
   "outputs": [
    {
     "name": "stdout",
     "output_type": "stream",
     "text": [
      "num_encoder_tokens: 28\n",
      "num_decoder_tokens: 30\n"
     ]
    }
   ],
   "source": [
    "num_encoder_tokens = len(input_token_index) + 1\n",
    "num_decoder_tokens = len(target_token_index) + 1\n",
    "\n",
    "print('num_encoder_tokens: ' + str(num_encoder_tokens))\n",
    "print('num_decoder_tokens: ' + str(num_decoder_tokens))"
   ]
  },
  {
   "cell_type": "markdown",
   "metadata": {
    "id": "BG5NYVjau_IH"
   },
   "source": [
    "**Remark:** To this end, the input language and target language texts are converted to 2 matrices. \n",
    "\n",
    "- Their number of rows are both n_train.\n",
    "- Their number of columns are respective max_encoder_seq_length and max_decoder_seq_length."
   ]
  },
  {
   "cell_type": "markdown",
   "metadata": {
    "id": "iXW6eoa0u_IH"
   },
   "source": [
    "The followings print a sentence and its representation as a sequence."
   ]
  },
  {
   "cell_type": "code",
   "execution_count": 11,
   "metadata": {
    "colab": {
     "base_uri": "https://localhost:8080/",
     "height": 35
    },
    "id": "ozONd2Zlu_II",
    "outputId": "1accf995-4315-4123-9e89-3dc4b1b6f8e7"
   },
   "outputs": [
    {
     "data": {
      "application/vnd.google.colaboratory.intrinsic+json": {
       "type": "string"
      },
      "text/plain": [
       "'\\tserrezmoi dans vos bras\\n'"
      ]
     },
     "execution_count": 11,
     "metadata": {},
     "output_type": "execute_result"
    }
   ],
   "source": [
    "target_texts[100]"
   ]
  },
  {
   "cell_type": "code",
   "execution_count": 12,
   "metadata": {
    "colab": {
     "base_uri": "https://localhost:8080/"
    },
    "id": "nPNfjIHwu_II",
    "outputId": "19157650-d3bb-46d2-c42a-ca982cf687ef"
   },
   "outputs": [
    {
     "data": {
      "text/plain": [
       "array([ 7,  3,  1, 12, 12,  1, 23, 14, 10,  5,  2, 17,  4,  9,  3,  2, 18,\n",
       "       10,  3,  2, 21, 12,  4,  3,  8,  0,  0,  0,  0,  0,  0,  0,  0,  0,\n",
       "        0,  0,  0,  0,  0,  0,  0,  0,  0,  0,  0,  0,  0,  0,  0,  0,  0,\n",
       "        0,  0,  0,  0,  0], dtype=int32)"
      ]
     },
     "execution_count": 12,
     "metadata": {},
     "output_type": "execute_result"
    }
   ],
   "source": [
    "decoder_input_seq[100, :]"
   ]
  },
  {
   "cell_type": "markdown",
   "metadata": {
    "id": "eR-f1uMgu_IJ"
   },
   "source": [
    "## 2.2. One-hot encode\n",
    "\n",
    "- Input: A list of $n$ sentences (with max length $t$).\n",
    "- It is represented by a $n\\times t$ matrix after the tokenization and zero-padding.\n",
    "- It is represented by a $n\\times t \\times v$ tensor ($t$ is the number of unique chars) after the one-hot encoding."
   ]
  },
  {
   "cell_type": "code",
   "execution_count": 13,
   "metadata": {
    "colab": {
     "base_uri": "https://localhost:8080/"
    },
    "id": "bpQ4dtq7u_IJ",
    "outputId": "73c705e7-a0af-4573-8b02-edc4215f3600"
   },
   "outputs": [
    {
     "name": "stdout",
     "output_type": "stream",
     "text": [
      "(20000, 16, 28)\n",
      "(20000, 56, 30)\n"
     ]
    }
   ],
   "source": [
    "#from keras.utils import to_categorical\n",
    "from tensorflow.keras.utils import to_categorical\n",
    "\n",
    "# one hot encode target sequence\n",
    "def onehot_encode(sequences, max_len, vocab_size):\n",
    "    n = len(sequences)\n",
    "    data = numpy.zeros((n, max_len, vocab_size))\n",
    "    for i in range(n):\n",
    "        data[i, :, :] = to_categorical(sequences[i], num_classes=vocab_size)\n",
    "    return data\n",
    "\n",
    "encoder_input_data = onehot_encode(encoder_input_seq, max_encoder_seq_length, num_encoder_tokens)\n",
    "decoder_input_data = onehot_encode(decoder_input_seq, max_decoder_seq_length, num_decoder_tokens)\n",
    "\n",
    "decoder_target_seq = numpy.zeros(decoder_input_seq.shape)\n",
    "decoder_target_seq[:, 0:-1] = decoder_input_seq[:, 1:]\n",
    "decoder_target_data = onehot_encode(decoder_target_seq, \n",
    "                                    max_decoder_seq_length, \n",
    "                                    num_decoder_tokens)\n",
    "\n",
    "print(encoder_input_data.shape)\n",
    "print(decoder_input_data.shape)"
   ]
  },
  {
   "cell_type": "markdown",
   "metadata": {
    "id": "DQWLQ9RBu_IL"
   },
   "source": [
    "## 3. Build the networks (for training)\n",
    "\n",
    "- Build encoder, decoder, and connect the two modules to get \"model\". \n",
    "\n",
    "- Fit the model on the bilingual data to train the parameters in the encoder and decoder."
   ]
  },
  {
   "cell_type": "markdown",
   "metadata": {
    "id": "0nTDonWCu_IL"
   },
   "source": [
    "### 3.1. Encoder network\n",
    "\n",
    "- Input:  one-hot encode of the input language\n",
    "\n",
    "- Return: \n",
    "\n",
    "    -- output (all the hidden states   $h_1, \\cdots , h_t$) are always discarded\n",
    "    \n",
    "    -- the final hidden state  $h_t$\n",
    "    \n",
    "    -- the final conveyor belt $c_t$"
   ]
  },
  {
   "cell_type": "code",
   "execution_count": 14,
   "metadata": {
    "id": "Vs4beueIBHbD"
   },
   "outputs": [],
   "source": [
    "from tensorflow.keras.layers import Layer\n",
    "from tensorflow.keras import backend as K\n",
    "\n",
    "class Attention(Layer):\n",
    "    \n",
    "    def __init__(self, return_sequences=True):\n",
    "        self.return_sequences = return_sequences\n",
    "        super(Attention,self).__init__()\n",
    "        \n",
    "    def build(self, input_shape):\n",
    "        \n",
    "        self.W=self.add_weight(name=\"att_weight\", shape=(input_shape[-1],1),\n",
    "                               initializer=\"normal\")\n",
    "        self.b=self.add_weight(name=\"att_bias\", shape=(input_shape[1],1),\n",
    "                               initializer=\"zeros\")\n",
    "        \n",
    "        super(Attention,self).build(input_shape)\n",
    "        \n",
    "    def call(self, x):\n",
    "        \n",
    "        e = K.tanh(K.dot(x,self.W)+self.b)\n",
    "        a = K.softmax(e, axis=1)\n",
    "        output = x*a\n",
    "        \n",
    "        if self.return_sequences:\n",
    "            return output\n",
    "        \n",
    "        return K.sum(output, axis=1)"
   ]
  },
  {
   "cell_type": "code",
   "execution_count": 15,
   "metadata": {
    "id": "WKEJqeIi36bN"
   },
   "outputs": [],
   "source": [
    "from keras.layers import Input, LSTM, Bidirectional, Concatenate\n",
    "from keras.models import Model\n",
    "\n",
    "latent_dim = 256\n",
    "\n",
    "# inputs of the encoder network\n",
    "encoder_inputs = Input(shape=(None, num_encoder_tokens), \n",
    "                       name='encoder_inputs')\n",
    "\n",
    "# set the LSTM layer\n",
    "#encoder_lstm = LSTM(latent_dim, return_state=True, \n",
    "#                    dropout=0.5, name='encoder_lstm')\n",
    "#_, state_h, state_c = encoder_lstm(encoder_inputs)\n",
    "\n",
    "# set encoder biLSTM\n",
    "encoder_bilstm = Bidirectional(LSTM(latent_dim, return_state=True, \n",
    "                                  dropout=0.5, name='encoder_lstm'))\n",
    "_, forward_h, forward_c, backward_h, backward_c = encoder_bilstm(encoder_inputs)\n",
    "\n",
    "state_h = Concatenate()([forward_h, backward_h])\n",
    "state_c = Concatenate()([forward_c, backward_c])\n",
    "\n",
    "# build the encoder network model\n",
    "encoder_model = Model(inputs=encoder_inputs, \n",
    "                      outputs=[state_h, state_c],\n",
    "                      name='encoder')\n"
   ]
  },
  {
   "cell_type": "markdown",
   "metadata": {
    "id": "swRwWMPKu_IM"
   },
   "source": [
    "Print a summary and save the encoder network structure to \"./encoder.pdf\""
   ]
  },
  {
   "cell_type": "code",
   "execution_count": 16,
   "metadata": {
    "colab": {
     "base_uri": "https://localhost:8080/"
    },
    "id": "xHgJpKsMu_IM",
    "outputId": "09c20826-71c5-4c53-942f-467cdace432b"
   },
   "outputs": [
    {
     "name": "stdout",
     "output_type": "stream",
     "text": [
      "Model: \"encoder\"\n",
      "__________________________________________________________________________________________________\n",
      " Layer (type)                   Output Shape         Param #     Connected to                     \n",
      "==================================================================================================\n",
      " encoder_inputs (InputLayer)    [(None, None, 28)]   0           []                               \n",
      "                                                                                                  \n",
      " bidirectional (Bidirectional)  [(None, 512),        583680      ['encoder_inputs[0][0]']         \n",
      "                                 (None, 256),                                                     \n",
      "                                 (None, 256),                                                     \n",
      "                                 (None, 256),                                                     \n",
      "                                 (None, 256)]                                                     \n",
      "                                                                                                  \n",
      " concatenate (Concatenate)      (None, 512)          0           ['bidirectional[0][1]',          \n",
      "                                                                  'bidirectional[0][3]']          \n",
      "                                                                                                  \n",
      " concatenate_1 (Concatenate)    (None, 512)          0           ['bidirectional[0][2]',          \n",
      "                                                                  'bidirectional[0][4]']          \n",
      "                                                                                                  \n",
      "==================================================================================================\n",
      "Total params: 583,680\n",
      "Trainable params: 583,680\n",
      "Non-trainable params: 0\n",
      "__________________________________________________________________________________________________\n"
     ]
    }
   ],
   "source": [
    "from IPython.display import SVG\n",
    "from keras.utils.vis_utils import model_to_dot, plot_model\n",
    "\n",
    "SVG(model_to_dot(encoder_model, show_shapes=False).create(prog='dot', format='svg'))\n",
    "\n",
    "plot_model(\n",
    "    model=encoder_model, show_shapes=False,\n",
    "    to_file='encoder.pdf'\n",
    ")\n",
    "\n",
    "encoder_model.summary()"
   ]
  },
  {
   "cell_type": "markdown",
   "metadata": {
    "id": "cWP82Gftu_IN"
   },
   "source": [
    "### 3.2. Decoder network\n",
    "\n",
    "- Inputs:  \n",
    "\n",
    "    -- one-hot encode of the target language\n",
    "    \n",
    "    -- The initial hidden state $h_t$ \n",
    "    \n",
    "    -- The initial conveyor belt $c_t$ \n",
    "\n",
    "- Return: \n",
    "\n",
    "    -- output (all the hidden states) $h_1, \\cdots , h_t$\n",
    "\n",
    "    -- the final hidden state  $h_t$ (discarded in the training and used in the prediction)\n",
    "    \n",
    "    -- the final conveyor belt $c_t$ (discarded in the training and used in the prediction)"
   ]
  },
  {
   "cell_type": "code",
   "execution_count": 17,
   "metadata": {
    "id": "P61ZCo-Au_IO"
   },
   "outputs": [],
   "source": [
    "from keras.layers import Input, LSTM, Dense\n",
    "from keras.models import Model\n",
    "\n",
    "bilatent_dim = 2 * latent_dim;\n",
    "\n",
    "# inputs of the decoder network\n",
    "decoder_input_h = Input(shape=(bilatent_dim,), name='decoder_input_h')\n",
    "decoder_input_c = Input(shape=(bilatent_dim,), name='decoder_input_c')\n",
    "decoder_input_x = Input(shape=(None, num_decoder_tokens), name='decoder_input_x')\n",
    "\n",
    "# set the LSTM layer\n",
    "\n",
    "decoder_lstm = LSTM(bilatent_dim, return_sequences=True, \n",
    "                    return_state=True, dropout=0.5, name='decoder_lstm')\n",
    "decoder_lstm_outputs, state_h, state_c = decoder_lstm(decoder_input_x, \n",
    "                                                      initial_state=[decoder_input_h, decoder_input_c])\n",
    "\n",
    "# set the dense layer\n",
    "decoder_dense = Dense(num_decoder_tokens, activation='softmax', name='decoder_dense')\n",
    "decoder_outputs = decoder_dense(decoder_lstm_outputs)\n",
    "\n",
    "# build the decoder network model\n",
    "decoder_model = Model(inputs=[decoder_input_x, decoder_input_h, decoder_input_c],\n",
    "                      outputs=[decoder_outputs, state_h, state_c],\n",
    "                      name='decoder')"
   ]
  },
  {
   "cell_type": "markdown",
   "metadata": {
    "id": "5WIScPf9u_IO"
   },
   "source": [
    "Print a summary and save the encoder network structure to \"./decoder.pdf\""
   ]
  },
  {
   "cell_type": "code",
   "execution_count": 18,
   "metadata": {
    "colab": {
     "base_uri": "https://localhost:8080/"
    },
    "id": "mvdpzT2ru_IO",
    "outputId": "c9b76c7d-af76-4d36-ae85-455420ba1181"
   },
   "outputs": [
    {
     "name": "stdout",
     "output_type": "stream",
     "text": [
      "Model: \"decoder\"\n",
      "__________________________________________________________________________________________________\n",
      " Layer (type)                   Output Shape         Param #     Connected to                     \n",
      "==================================================================================================\n",
      " decoder_input_x (InputLayer)   [(None, None, 30)]   0           []                               \n",
      "                                                                                                  \n",
      " decoder_input_h (InputLayer)   [(None, 512)]        0           []                               \n",
      "                                                                                                  \n",
      " decoder_input_c (InputLayer)   [(None, 512)]        0           []                               \n",
      "                                                                                                  \n",
      " decoder_lstm (LSTM)            [(None, None, 512),  1112064     ['decoder_input_x[0][0]',        \n",
      "                                 (None, 512),                     'decoder_input_h[0][0]',        \n",
      "                                 (None, 512)]                     'decoder_input_c[0][0]']        \n",
      "                                                                                                  \n",
      " decoder_dense (Dense)          (None, None, 30)     15390       ['decoder_lstm[0][0]']           \n",
      "                                                                                                  \n",
      "==================================================================================================\n",
      "Total params: 1,127,454\n",
      "Trainable params: 1,127,454\n",
      "Non-trainable params: 0\n",
      "__________________________________________________________________________________________________\n"
     ]
    }
   ],
   "source": [
    "from IPython.display import SVG\n",
    "from keras.utils.vis_utils import model_to_dot, plot_model\n",
    "\n",
    "SVG(model_to_dot(decoder_model, show_shapes=False).create(prog='dot', format='svg'))\n",
    "\n",
    "plot_model(\n",
    "    model=decoder_model, show_shapes=False,\n",
    "    to_file='decoder.pdf'\n",
    ")\n",
    "\n",
    "decoder_model.summary()"
   ]
  },
  {
   "cell_type": "markdown",
   "metadata": {
    "id": "A4ttO69Ku_IO"
   },
   "source": [
    "### 3.3. Connect the encoder and decoder"
   ]
  },
  {
   "cell_type": "code",
   "execution_count": 19,
   "metadata": {
    "id": "7EqF6A92u_IP"
   },
   "outputs": [],
   "source": [
    "# input layers\n",
    "encoder_input_x = Input(shape=(None, num_encoder_tokens), name='encoder_input_x')\n",
    "decoder_input_x = Input(shape=(None, num_decoder_tokens), name='decoder_input_x')\n",
    "\n",
    "# connect encoder to decoder\n",
    "encoder_final_states = encoder_model([encoder_input_x])\n",
    "decoder_lstm_output, _, _ = decoder_lstm(decoder_input_x, initial_state=encoder_final_states)\n",
    "decoder_pred = decoder_dense(decoder_lstm_output)\n",
    "\n",
    "model = Model(inputs=[encoder_input_x, decoder_input_x], \n",
    "              outputs=decoder_pred, \n",
    "              name='model_training')"
   ]
  },
  {
   "cell_type": "code",
   "execution_count": 20,
   "metadata": {
    "colab": {
     "base_uri": "https://localhost:8080/"
    },
    "id": "Oxq3rP1Eu_IP",
    "outputId": "09fe845a-5fe6-4a75-bb41-4d0c20f0b32f"
   },
   "outputs": [
    {
     "name": "stdout",
     "output_type": "stream",
     "text": [
      "KerasTensor(type_spec=TensorSpec(shape=(None, 512), dtype=tf.float32, name=None), name='decoder_lstm/PartitionedCall:2', description=\"created by layer 'decoder_lstm'\")\n",
      "KerasTensor(type_spec=TensorSpec(shape=(None, 512), dtype=tf.float32, name='decoder_input_h'), name='decoder_input_h', description=\"created by layer 'decoder_input_h'\")\n"
     ]
    }
   ],
   "source": [
    "print(state_h)\n",
    "print(decoder_input_h)"
   ]
  },
  {
   "cell_type": "code",
   "execution_count": 21,
   "metadata": {
    "colab": {
     "base_uri": "https://localhost:8080/"
    },
    "id": "I5ryKf3hu_IQ",
    "outputId": "f29ee6b5-d655-49fc-fd31-872129eb757b"
   },
   "outputs": [
    {
     "name": "stdout",
     "output_type": "stream",
     "text": [
      "Model: \"model_training\"\n",
      "__________________________________________________________________________________________________\n",
      " Layer (type)                   Output Shape         Param #     Connected to                     \n",
      "==================================================================================================\n",
      " encoder_input_x (InputLayer)   [(None, None, 28)]   0           []                               \n",
      "                                                                                                  \n",
      " decoder_input_x (InputLayer)   [(None, None, 30)]   0           []                               \n",
      "                                                                                                  \n",
      " encoder (Functional)           [(None, 512),        583680      ['encoder_input_x[0][0]']        \n",
      "                                 (None, 512)]                                                     \n",
      "                                                                                                  \n",
      " decoder_lstm (LSTM)            [(None, None, 512),  1112064     ['decoder_input_x[0][0]',        \n",
      "                                 (None, 512),                     'encoder[0][0]',                \n",
      "                                 (None, 512)]                     'encoder[0][1]']                \n",
      "                                                                                                  \n",
      " decoder_dense (Dense)          (None, None, 30)     15390       ['decoder_lstm[1][0]']           \n",
      "                                                                                                  \n",
      "==================================================================================================\n",
      "Total params: 1,711,134\n",
      "Trainable params: 1,711,134\n",
      "Non-trainable params: 0\n",
      "__________________________________________________________________________________________________\n"
     ]
    }
   ],
   "source": [
    "from IPython.display import SVG\n",
    "from keras.utils.vis_utils import model_to_dot, plot_model\n",
    "\n",
    "SVG(model_to_dot(model, show_shapes=False).create(prog='dot', format='svg'))\n",
    "\n",
    "plot_model(\n",
    "    model=model, show_shapes=False,\n",
    "    to_file='model_training.pdf'\n",
    ")\n",
    "\n",
    "model.summary()"
   ]
  },
  {
   "cell_type": "markdown",
   "metadata": {
    "id": "pKWPGJYOu_IQ"
   },
   "source": [
    "### 3.5. Fit the model on the bilingual dataset\n",
    "\n",
    "- encoder_input_data: one-hot encode of the input language\n",
    "\n",
    "- decoder_input_data: one-hot encode of the input language\n",
    "\n",
    "- decoder_target_data: labels (left shift of decoder_input_data)\n",
    "\n",
    "- tune the hyper-parameters\n",
    "\n",
    "- stop when the validation loss stop decreasing."
   ]
  },
  {
   "cell_type": "code",
   "execution_count": 22,
   "metadata": {
    "colab": {
     "base_uri": "https://localhost:8080/"
    },
    "id": "2TRXrVThu_IQ",
    "outputId": "e233c352-7cf4-4fe0-8dd1-eef9f84f6ef8"
   },
   "outputs": [
    {
     "name": "stdout",
     "output_type": "stream",
     "text": [
      "shape of encoder_input_data(20000, 16, 28)\n",
      "shape of decoder_input_data(20000, 56, 30)\n",
      "shape of decoder_target_data(20000, 56, 30)\n"
     ]
    }
   ],
   "source": [
    "print('shape of encoder_input_data' + str(encoder_input_data.shape))\n",
    "print('shape of decoder_input_data' + str(decoder_input_data.shape))\n",
    "print('shape of decoder_target_data' + str(decoder_target_data.shape))"
   ]
  },
  {
   "cell_type": "code",
   "execution_count": null,
   "metadata": {
    "colab": {
     "base_uri": "https://localhost:8080/"
    },
    "id": "SgeK2nHru_IR",
    "outputId": "17f0dc55-4b73-4ecc-b79a-4f70d4ffb905"
   },
   "outputs": [
    {
     "name": "stdout",
     "output_type": "stream",
     "text": [
      "Training Model:\n",
      "Epoch 1/50\n",
      "250/250 [==============================] - 230s 901ms/step - loss: 0.9715 - val_loss: 0.8413\n",
      "Epoch 2/50\n",
      "250/250 [==============================] - 223s 891ms/step - loss: 0.7316 - val_loss: 0.7398\n",
      "Epoch 3/50\n",
      "250/250 [==============================] - 223s 891ms/step - loss: 0.6750 - val_loss: 0.6772\n",
      "Epoch 4/50\n",
      "250/250 [==============================] - 221s 884ms/step - loss: 0.6399 - val_loss: 0.6371\n",
      "Epoch 5/50\n",
      "250/250 [==============================] - 233s 933ms/step - loss: 0.6131 - val_loss: 0.6060\n",
      "Epoch 6/50\n",
      "250/250 [==============================] - 236s 943ms/step - loss: 0.5941 - val_loss: 0.5861\n",
      "Epoch 7/50\n",
      "250/250 [==============================] - 229s 917ms/step - loss: 0.5754 - val_loss: 0.5700\n",
      "Epoch 8/50\n",
      "250/250 [==============================] - 234s 935ms/step - loss: 0.5602 - val_loss: 0.5463\n",
      "Epoch 9/50\n",
      "250/250 [==============================] - 230s 919ms/step - loss: 0.5481 - val_loss: 0.5373\n",
      "Epoch 10/50\n",
      "250/250 [==============================] - 230s 922ms/step - loss: 0.5348 - val_loss: 0.5225\n",
      "Epoch 11/50\n",
      "250/250 [==============================] - 238s 950ms/step - loss: 0.5236 - val_loss: 0.5194\n",
      "Epoch 12/50\n",
      "250/250 [==============================] - 238s 952ms/step - loss: 0.5158 - val_loss: 0.5087\n",
      "Epoch 13/50\n",
      "250/250 [==============================] - 233s 931ms/step - loss: 0.5086 - val_loss: 0.5012\n",
      "Epoch 14/50\n",
      "250/250 [==============================] - 232s 930ms/step - loss: 0.4990 - val_loss: 0.4952\n",
      "Epoch 15/50\n",
      "250/250 [==============================] - 228s 912ms/step - loss: 0.4910 - val_loss: 0.4879\n",
      "Epoch 16/50\n",
      "250/250 [==============================] - 239s 958ms/step - loss: 0.4827 - val_loss: 0.4823\n",
      "Epoch 17/50\n",
      "250/250 [==============================] - 239s 956ms/step - loss: 0.4764 - val_loss: 0.4819\n",
      "Epoch 18/50\n",
      "250/250 [==============================] - 262s 1s/step - loss: 0.4705 - val_loss: 0.4758\n",
      "Epoch 19/50\n",
      "250/250 [==============================] - 261s 1s/step - loss: 0.4652 - val_loss: 0.4696\n",
      "Epoch 20/50\n",
      "250/250 [==============================] - 264s 1s/step - loss: 0.4587 - val_loss: 0.4714\n",
      "Epoch 21/50\n",
      "250/250 [==============================] - 241s 964ms/step - loss: 0.4544 - val_loss: 0.4643\n",
      "Epoch 22/50\n",
      "250/250 [==============================] - 225s 898ms/step - loss: 0.4506 - val_loss: 0.4631\n",
      "Epoch 23/50\n",
      "250/250 [==============================] - 243s 974ms/step - loss: 0.4439 - val_loss: 0.4621\n",
      "Epoch 24/50\n",
      "250/250 [==============================] - 252s 1s/step - loss: 0.4386 - val_loss: 0.4616\n",
      "Epoch 25/50\n",
      "250/250 [==============================] - 236s 944ms/step - loss: 0.4362 - val_loss: 0.4597\n",
      "Epoch 26/50\n",
      "250/250 [==============================] - 239s 958ms/step - loss: 0.4313 - val_loss: 0.4561\n",
      "Epoch 27/50\n",
      "250/250 [==============================] - 233s 933ms/step - loss: 0.4251 - val_loss: 0.4591\n",
      "Epoch 28/50\n",
      "250/250 [==============================] - 254s 1s/step - loss: 0.4232 - val_loss: 0.4573\n",
      "Epoch 29/50\n",
      "250/250 [==============================] - 258s 1s/step - loss: 0.4194 - val_loss: 0.4554\n",
      "Epoch 30/50\n",
      "250/250 [==============================] - 245s 982ms/step - loss: 0.4155 - val_loss: 0.4570\n",
      "Epoch 31/50\n",
      "250/250 [==============================] - 241s 965ms/step - loss: 0.4108 - val_loss: 0.4520\n",
      "Epoch 32/50\n",
      "250/250 [==============================] - 245s 979ms/step - loss: 0.4088 - val_loss: 0.4505\n",
      "Epoch 33/50\n",
      "250/250 [==============================] - 239s 958ms/step - loss: 0.4053 - val_loss: 0.4492\n",
      "Epoch 34/50\n",
      "250/250 [==============================] - 240s 959ms/step - loss: 0.4021 - val_loss: 0.4504\n",
      "Epoch 35/50\n",
      "250/250 [==============================] - 239s 958ms/step - loss: 0.4003 - val_loss: 0.4488\n",
      "Epoch 36/50\n",
      "250/250 [==============================] - 245s 980ms/step - loss: 0.3961 - val_loss: 0.4489\n",
      "Epoch 37/50\n",
      "250/250 [==============================] - 245s 981ms/step - loss: 0.3931 - val_loss: 0.4500\n",
      "Epoch 38/50\n",
      "250/250 [==============================] - 248s 991ms/step - loss: 0.3912 - val_loss: 0.4503\n",
      "Epoch 39/50\n",
      "250/250 [==============================] - 256s 1s/step - loss: 0.3870 - val_loss: 0.4486\n",
      "Epoch 40/50\n",
      "250/250 [==============================] - 264s 1s/step - loss: 0.3851 - val_loss: 0.4532\n",
      "Epoch 41/50\n",
      "250/250 [==============================] - 270s 1s/step - loss: 0.3826 - val_loss: 0.4483\n",
      "Epoch 42/50\n",
      "250/250 [==============================] - 269s 1s/step - loss: 0.3803 - val_loss: 0.4488\n",
      "Epoch 43/50\n",
      "250/250 [==============================] - 262s 1s/step - loss: 0.3782 - val_loss: 0.4503\n",
      "Epoch 44/50\n",
      "250/250 [==============================] - 257s 1s/step - loss: 0.3751 - val_loss: 0.4480\n",
      "Epoch 45/50\n",
      "250/250 [==============================] - 253s 1s/step - loss: 0.3736 - val_loss: 0.4491\n",
      "Epoch 46/50\n",
      "250/250 [==============================] - 257s 1s/step - loss: 0.3728 - val_loss: 0.4524\n",
      "Epoch 47/50\n",
      "250/250 [==============================] - 236s 944ms/step - loss: 0.3685 - val_loss: 0.4485\n",
      "Epoch 48/50\n",
      "250/250 [==============================] - 238s 954ms/step - loss: 0.3674 - val_loss: 0.4482\n",
      "Epoch 49/50\n",
      "237/250 [===========================>..] - ETA: 11s - loss: 0.3640"
     ]
    }
   ],
   "source": [
    "print('Training Model:')\n",
    "model.compile(optimizer='rmsprop', loss='categorical_crossentropy')\n",
    "\n",
    "model.fit([encoder_input_data, decoder_input_data],  # training data\n",
    "          decoder_target_data,                       # labels (left shift of the target sequences)\n",
    "          batch_size=64, epochs=50, validation_split=0.2)\n",
    "\n",
    "print(\"Saving Model and Weights\")\n",
    "model.save('seq2seq.h5')\n",
    "model.save_weights('seq2seq_wgts0')"
   ]
  },
  {
   "cell_type": "code",
   "execution_count": null,
   "metadata": {
    "colab": {
     "base_uri": "https://localhost:8080/"
    },
    "id": "HDqRU4LPQ1O2",
    "outputId": "803ef96b-dcf3-4c95-c847-2788b00df3bf"
   },
   "outputs": [
    {
     "name": "stdout",
     "output_type": "stream",
     "text": [
      "Model and Weights Loaded from: /content/drive/MyDrive/Colab Notebooks\n"
     ]
    }
   ],
   "source": [
    "## Load Model\n",
    "#from tensorflow import keras\n",
    "#model = keras.models.load_model('seq2seq.h5')\n",
    "#model.load_weights('seq2seq_wgts0')\n",
    "#print(f\"Model and Weights Loaded from: {os.getcwd()}\")\n",
    "#model.summary()"
   ]
  },
  {
   "cell_type": "markdown",
   "metadata": {
    "id": "k_IwVcjqu_IR"
   },
   "source": [
    "## 4. Make predictions\n",
    "\n",
    "\n",
    "### 4.1. Translate English to XXX\n",
    "\n",
    "1. Encoder read a sentence (source language) and output its final states, $h_t$ and $c_t$.\n",
    "2. Take the [star] sign \"\\t\" and the final state $h_t$ and $c_t$ as input and run the decoder.\n",
    "3. Get the new states and predicted probability distribution.\n",
    "4. sample a char from the predicted probability distribution\n",
    "5. take the sampled char and the new states as input and repeat the process (stop if reach the [stop] sign \"\\n\")."
   ]
  },
  {
   "cell_type": "code",
   "execution_count": 30,
   "metadata": {
    "id": "VB02AwsDu_IR"
   },
   "outputs": [],
   "source": [
    "# Reverse-lookup token index to decode sequences back to something readable.\n",
    "reverse_input_char_index = dict((i, char) for char, i in input_token_index.items())\n",
    "reverse_target_char_index = dict((i, char) for char, i in target_token_index.items())"
   ]
  },
  {
   "cell_type": "code",
   "execution_count": 31,
   "metadata": {
    "id": "p6X-lbNfu_IR"
   },
   "outputs": [],
   "source": [
    "def decode_sequence(input_seq):\n",
    "    states_value = encoder_model.predict(input_seq)\n",
    "\n",
    "    target_seq = numpy.zeros((1, 1, num_decoder_tokens))\n",
    "    target_seq[0, 0, target_token_index['\\t']] = 1.\n",
    "\n",
    "    stop_condition = False\n",
    "    decoded_sentence = ''\n",
    "    while not stop_condition:\n",
    "        output_tokens, h, c = decoder_model.predict([target_seq] + states_value)\n",
    "\n",
    "        # this line of code is greedy selection\n",
    "        # try to use multinomial sampling instead (with temperature)\n",
    "        sampled_token_index = numpy.argmax(output_tokens[0, -1, :])\n",
    "        \n",
    "        sampled_char = reverse_target_char_index[sampled_token_index]\n",
    "        decoded_sentence += sampled_char\n",
    "\n",
    "        if (sampled_char == '\\n' or\n",
    "           len(decoded_sentence) > max_decoder_seq_length):\n",
    "            stop_condition = True\n",
    "\n",
    "        target_seq = numpy.zeros((1, 1, num_decoder_tokens))\n",
    "        target_seq[0, 0, sampled_token_index] = 1.\n",
    "\n",
    "        states_value = [h, c]\n",
    "\n",
    "    return decoded_sentence\n"
   ]
  },
  {
   "cell_type": "code",
   "execution_count": 32,
   "metadata": {
    "colab": {
     "base_uri": "https://localhost:8080/"
    },
    "id": "q-CFDpQiu_IS",
    "outputId": "f7d1edc8-a67f-470c-f372-3b5618e35bd6"
   },
   "outputs": [
    {
     "name": "stdout",
     "output_type": "stream",
     "text": [
      "-\n",
      "English:        im in bed\n",
      "French (true):  je suis alitee\n",
      "French (pred):  je suis deserve\n",
      "-\n",
      "English:        im inside\n",
      "French (true):  je me trouve a linterieur\n",
      "French (pred):  je suis detendue\n",
      "-\n",
      "English:        im inside\n",
      "French (true):  je suis a linterieur\n",
      "French (pred):  je suis detendue\n",
      "-\n",
      "English:        im joking\n",
      "French (true):  je rigole\n",
      "French (pred):  je me trouve perdu\n",
      "-\n",
      "English:        im loaded\n",
      "French (true):  je suis saoul\n",
      "French (pred):  je suis detendue\n",
      "-\n",
      "English:        im lonely\n",
      "French (true):  je me sens seul\n",
      "French (pred):  je suis forle\n",
      "-\n",
      "English:        im lonely\n",
      "French (true):  je me sens seule\n",
      "French (pred):  je suis forle\n",
      "-\n",
      "English:        im losing\n",
      "French (true):  je suis en train de perdre\n",
      "French (pred):  je suis en train de parler\n",
      "-\n",
      "English:        im moving\n",
      "French (true):  je suis en train de demenager\n",
      "French (pred):  je suis en train de mentir\n",
      "-\n",
      "English:        im normal\n",
      "French (true):  je suis normal\n",
      "French (pred):  je suis devence\n",
      "-\n",
      "English:        im normal\n",
      "French (true):  je suis normale\n",
      "French (pred):  je suis devence\n",
      "-\n",
      "English:        im paying\n",
      "French (true):  cest moi qui paie\n",
      "French (pred):  je suis en train de parler\n",
      "-\n",
      "English:        im paying\n",
      "French (true):  je suis en train de payer\n",
      "French (pred):  je suis en train de parler\n",
      "-\n",
      "English:        im pooped\n",
      "French (true):  je suis creve\n",
      "French (pred):  je suis peure\n",
      "-\n",
      "English:        im rested\n",
      "French (true):  je suis repose\n",
      "French (pred):  je suis retindue\n",
      "-\n",
      "English:        im rested\n",
      "French (true):  je suis reposee\n",
      "French (pred):  je suis retindue\n",
      "-\n",
      "English:        im ruined\n",
      "French (true):  je suis ruine\n",
      "French (pred):  je suis detendue\n",
      "-\n",
      "English:        im ruined\n",
      "French (true):  je suis ruinee\n",
      "French (pred):  je suis detendue\n",
      "-\n",
      "English:        im shaken\n",
      "French (true):  je suis remue\n",
      "French (pred):  je suis desendue\n",
      "-\n",
      "English:        im shaken\n",
      "French (true):  je suis remuee\n",
      "French (pred):  je suis desendue\n"
     ]
    }
   ],
   "source": [
    "for seq_index in range(2100, 2120):\n",
    "    # Take one sequence (part of the training set)\n",
    "    # for trying out decoding.\n",
    "    input_seq = encoder_input_data[seq_index: seq_index + 1]\n",
    "    decoded_sentence = decode_sequence(input_seq)\n",
    "    print('-')\n",
    "    print('English:       ', input_texts[seq_index])\n",
    "    print(f'{to_language} (true): ', target_texts[seq_index][1:-1])\n",
    "    print(f'{to_language} (pred): ', decoded_sentence[0:-1])\n"
   ]
  },
  {
   "cell_type": "markdown",
   "metadata": {
    "id": "KvdfUFAYu_IS"
   },
   "source": [
    "### 4.2. Translate an English sentence to the target language\n",
    "\n",
    "1. Tokenization\n",
    "2. One-hot encode\n",
    "3. Translate"
   ]
  },
  {
   "cell_type": "code",
   "execution_count": 33,
   "metadata": {
    "id": "WRD0sR_EJZnU"
   },
   "outputs": [],
   "source": [
    "import re\n",
    "from unicodedata import normalize\n",
    "\n",
    "def clean_string(s):\n",
    "    # Remove punctuation\n",
    "    s = re.sub(r'[^\\w\\s]', '', s)\n",
    "    \n",
    "    # normalize characers\n",
    "    s = normalize('NFD', s).encode('ascii', 'ignore')\n",
    "    s = s.decode('UTF-8')\n",
    "    \n",
    "    # Make everything lower case\n",
    "    s = s.lower()\n",
    "    # break into list\n",
    "    s_list = s.split()\n",
    "    \n",
    "    # join list of words\n",
    "    s = ' '.join(s_list)\n",
    "    return s"
   ]
  },
  {
   "cell_type": "code",
   "execution_count": 34,
   "metadata": {
    "colab": {
     "base_uri": "https://localhost:8080/"
    },
    "id": "-XtzBujfu_IS",
    "outputId": "1200fd43-74f3-414d-a48d-c4ce16ffb701"
   },
   "outputs": [
    {
     "name": "stdout",
     "output_type": "stream",
     "text": [
      "source sentence is: I love you\n",
      "translated sentence is: je vous aime tous les deux\n",
      "\n"
     ]
    }
   ],
   "source": [
    "# example:\n",
    "input_sentence = 'I love you'\n",
    "input_sentence_clean =  clean_string(input_sentence)\n",
    "\n",
    "input_sequence = list(map(lambda x: input_token_index[x],input_sentence_clean))\n",
    "\n",
    "# vectorize\n",
    "input_x = onehot_encode([input_sequence], len(input_sentence_clean), num_encoder_tokens)\n",
    "\n",
    "translated_sentence = decode_sequence(input_x)\n",
    "\n",
    "print('source sentence is: ' + input_sentence)\n",
    "print('translated sentence is: ' + translated_sentence)"
   ]
  },
  {
   "cell_type": "code",
   "execution_count": null,
   "metadata": {
    "id": "faRqJsqiu_IS"
   },
   "outputs": [],
   "source": []
  }
 ],
 "metadata": {
  "colab": {
   "collapsed_sections": [],
   "name": "Programming3.ipynb",
   "provenance": []
  },
  "kernelspec": {
   "display_name": "Python 3",
   "language": "python",
   "name": "python3"
  },
  "language_info": {
   "codemirror_mode": {
    "name": "ipython",
    "version": 3
   },
   "file_extension": ".py",
   "mimetype": "text/x-python",
   "name": "python",
   "nbconvert_exporter": "python",
   "pygments_lexer": "ipython3",
   "version": "3.8.8"
  }
 },
 "nbformat": 4,
 "nbformat_minor": 1
}
