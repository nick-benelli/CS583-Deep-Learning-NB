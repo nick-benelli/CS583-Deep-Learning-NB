{
  "cells": [
    {
      "cell_type": "markdown",
      "metadata": {
        "id": "view-in-github",
        "colab_type": "text"
      },
      "source": [
        "<a href=\"https://colab.research.google.com/github/nvb5140/CS583-Deep-Learning-NB/blob/main/HW/HW2/Programming2.ipynb\" target=\"_parent\"><img src=\"https://colab.research.google.com/assets/colab-badge.svg\" alt=\"Open In Colab\"/></a>"
      ]
    },
    {
      "cell_type": "markdown",
      "metadata": {
        "id": "WrwB8mt6qMOD"
      },
      "source": [
        "# Programming Assignment: Build a CNN for image recognition.\n",
        "\n",
        "### Name: Nick Benelli\n"
      ]
    },
    {
      "cell_type": "markdown",
      "metadata": {
        "id": "WH76beDSqMOH"
      },
      "source": [
        "## 0. You will do the following:\n",
        "\n",
        "1. Read, complete, and run the code.\n",
        "\n",
        "2. **Make substantial improvements** to maximize the accuracy.\n",
        "    \n",
        "3. Convert the .IPYNB file to .HTML file.\n",
        "\n",
        "    * The HTML file must contain the code and the output after execution.\n",
        "    \n",
        "    * Missing **the output after execution** will not be graded.\n",
        "\n",
        "\n",
        "4. Upload the .HTML file to your Google Drive, Dropbox, or Github repo. (If you submit the file to Google Drive or Dropbox, you must make the file \"open-access\". The delay caused by \"deny of access\" may result in late penalty.)\n",
        "\n",
        "4. On Canvas, submit the Google Drive/Dropbox/Github link to the HTML file.\n",
        "\n",
        "\n",
        "## Requirements:\n",
        "\n",
        "1. You can use whatever CNN architecture, including VGG, Inception, and ResNet. However, you must build the networks layer by layer. You must NOT import the archetectures from ```keras.applications```.\n",
        "\n",
        "2. Make sure ```BatchNormalization``` is between a ```Conv```/```Dense``` layer and an ```activation``` layer.\n",
        "\n",
        "3. If you want to regularize a ```Conv```/```Dense``` layer, you should place a ```Dropout``` layer **before** the ```Conv```/```Dense``` layer.\n",
        "\n",
        "4. An accuracy above 70% is considered reasonable. An accuracy above 80% is considered good. Without data augmentation, achieving 80% accuracy is difficult.\n",
        "\n",
        "\n",
        "## Google Colab\n",
        "\n",
        "- If you do not have GPU, the training of a CNN can be slow. Google Colab is a good option.\n",
        "\n",
        "- Keep in mind that you must download it as an IPYNB file and then use IPython Notebook to convert it to HTML.\n",
        "\n",
        "- Also keep in mind that the IPYNB and HTML files must contain the outputs. (Otherwise, the instructor will not be able to know the correctness and performance.) Do the followings to keep the outputs.\n",
        "\n",
        "- In Colab, go to ```Runtime``` --> ```Change runtime type``` --> Do NOT check ```Omit code cell output when saving this notebook```. In this way, the downloaded IPYNB file contains the outputs."
      ]
    },
    {
      "cell_type": "markdown",
      "metadata": {
        "id": "S4n2ObdtqMOI"
      },
      "source": [
        "## 1. Data preparation"
      ]
    },
    {
      "cell_type": "markdown",
      "metadata": {
        "id": "IB66E1p0qMOJ"
      },
      "source": [
        "### 1.1. Load data\n"
      ]
    },
    {
      "cell_type": "code",
      "execution_count": 2,
      "metadata": {
        "colab": {
          "base_uri": "https://localhost:8080/"
        },
        "id": "soZqwfjJqMOK",
        "outputId": "28636e43-4f11-4471-b65d-05cac717e6fe"
      },
      "outputs": [
        {
          "output_type": "stream",
          "name": "stdout",
          "text": [
            "Downloading data from https://www.cs.toronto.edu/~kriz/cifar-10-python.tar.gz\n",
            "170500096/170498071 [==============================] - 2s 0us/step\n",
            "170508288/170498071 [==============================] - 2s 0us/step\n",
            "Training (train) and Testings (test) Sets:\n",
            "shape of x_train: (50000, 32, 32, 3)\n",
            "shape of y_train: (50000, 1)\n",
            "shape of x_test: (10000, 32, 32, 3)\n",
            "shape of y_test: (10000, 1)\n",
            "number of classes: 10\n"
          ]
        }
      ],
      "source": [
        "from keras.datasets import cifar10\n",
        "import numpy\n",
        "\n",
        "(x_train, y_train), (x_test, y_test) = cifar10.load_data()\n",
        "\n",
        "print('Training (train) and Testings (test) Sets:')\n",
        "print('shape of x_train: ' + str(x_train.shape))\n",
        "print('shape of y_train: ' + str(y_train.shape))\n",
        "print('shape of x_test: ' + str(x_test.shape))\n",
        "print('shape of y_test: ' + str(y_test.shape))\n",
        "print('number of classes: ' + str(numpy.max(y_train) - numpy.min(y_train) + 1))"
      ]
    },
    {
      "cell_type": "markdown",
      "metadata": {
        "id": "h3KkvJkHqMON"
      },
      "source": [
        "### 1.2. One-hot encode the labels\n",
        "\n",
        "In the input, a label is a scalar in $\\{0, 1, \\cdots , 9\\}$. One-hot encode transform such a scalar to a $10$-dim vector. E.g., a scalar ```y_train[j]=3``` is transformed to the vector ```y_train_vec[j]=[0, 0, 0, 1, 0, 0, 0, 0, 0, 0]```.\n",
        "\n",
        "1. Define a function ```to_one_hot``` that transforms an $n\\times 1$ array to a $n\\times 10$ matrix.\n",
        "\n",
        "2. Apply the function to ```y_train``` and ```y_test```."
      ]
    },
    {
      "cell_type": "code",
      "execution_count": 3,
      "metadata": {
        "colab": {
          "base_uri": "https://localhost:8080/"
        },
        "id": "_SZqMRNWqMOQ",
        "outputId": "71bb46f9-df7c-49cb-d3c5-8c28d7a17860"
      },
      "outputs": [
        {
          "output_type": "stream",
          "name": "stdout",
          "text": [
            "Shape of y_train_vec: (50000, 10)\n",
            "Shape of y_test_vec: (10000, 10)\n",
            "[6]\n",
            "[0. 0. 0. 0. 0. 0. 1. 0. 0. 0.]\n"
          ]
        }
      ],
      "source": [
        "def to_one_hot(y, num_class=10):\n",
        "    '''\n",
        "    Covnert integer classes in a one-hot encoding vector. i.e 3 = [0,0,0,1,0]\n",
        "\n",
        "    Parameters\n",
        "    ----------\n",
        "    y : numpy.ndarray\n",
        "        label vector.\n",
        "    num_class : int, optional\n",
        "        number of classes in multi-class classifcation. The default is 10.\n",
        "\n",
        "    Returns\n",
        "    -------\n",
        "    y_one_hot : numpy.ndarray\n",
        "        one-hot encoding matrix of y.\n",
        "\n",
        "    '''\n",
        "    y_one_hot = numpy.zeros((len(y), num_class))\n",
        "    for i, y_i in enumerate(y):\n",
        "        y_one_hot[i, y_i] = 1\n",
        "    return y_one_hot\n",
        "\n",
        "y_train_vec = to_one_hot(y_train)\n",
        "y_test_vec = to_one_hot(y_test)\n",
        "\n",
        "print('Shape of y_train_vec: ' + str(y_train_vec.shape))\n",
        "print('Shape of y_test_vec: ' + str(y_test_vec.shape))\n",
        "\n",
        "print(y_train[0])\n",
        "print(y_train_vec[0])"
      ]
    },
    {
      "cell_type": "markdown",
      "metadata": {
        "id": "cC_uBHPCqMOR"
      },
      "source": [
        "#### Remark: the outputs should be\n",
        "* Shape of y_train_vec: (50000, 10)\n",
        "* Shape of y_test_vec: (10000, 10)\n",
        "* [6]\n",
        "* [0. 0. 0. 0. 0. 0. 1. 0. 0. 0.]"
      ]
    },
    {
      "cell_type": "markdown",
      "metadata": {
        "id": "n0Y6c1IzqMOR"
      },
      "source": [
        "### 1.3. Randomly partition the training set to training and validation sets\n",
        "\n",
        "Randomly partition the 50K training samples to 2 sets:\n",
        "* a training set containing 40K samples\n",
        "* a validation set containing 10K samples\n"
      ]
    },
    {
      "cell_type": "code",
      "execution_count": 4,
      "metadata": {
        "id": "OhG_8-qMqMOX",
        "colab": {
          "base_uri": "https://localhost:8080/"
        },
        "outputId": "a7d49a6f-74bb-47b6-ec8d-8c44c2c96019"
      },
      "outputs": [
        {
          "output_type": "stream",
          "name": "stdout",
          "text": [
            "Train (tr) and Validation (val) Sets:\n",
            "Shape of x_tr: (40000, 32, 32, 3)\n",
            "Shape of y_tr: (40000, 10)\n",
            "Shape of x_val: (10000, 32, 32, 3)\n",
            "Shape of y_val: (10000, 10)\n"
          ]
        }
      ],
      "source": [
        "rand_indices = numpy.random.permutation(50000)\n",
        "train_indices = rand_indices[0:40000]\n",
        "valid_indices = rand_indices[40000:50000]\n",
        "\n",
        "x_val = x_train[valid_indices, :]\n",
        "y_val = y_train_vec[valid_indices, :]\n",
        "\n",
        "x_tr = x_train[train_indices, :]\n",
        "y_tr = y_train_vec[train_indices, :]\n",
        "\n",
        "print('Train (tr) and Validation (val) Sets:')\n",
        "print('Shape of x_tr: ' + str(x_tr.shape))\n",
        "print('Shape of y_tr: ' + str(y_tr.shape))\n",
        "print('Shape of x_val: ' + str(x_val.shape))\n",
        "print('Shape of y_val: ' + str(y_val.shape))"
      ]
    },
    {
      "cell_type": "markdown",
      "metadata": {
        "id": "3LIZYAZyqMOY"
      },
      "source": [
        "## 2. Build a CNN and tune its hyper-parameters\n",
        "\n",
        "1. Build a convolutional neural network model\n",
        "2. Use the validation data to tune the hyper-parameters (e.g., network structure, and optimization algorithm)\n",
        "    * Do NOT use test data for hyper-parameter tuning!!!\n",
        "3. Try to achieve a validation accuracy as high as possible."
      ]
    },
    {
      "cell_type": "markdown",
      "metadata": {
        "id": "qy1A0RoSqMOY"
      },
      "source": [
        "### Remark: \n",
        "\n",
        "The following CNN is just an example. You are supposed to make **substantial improvements** such as:\n",
        "* Add more layers.\n",
        "* Use regularizations, e.g., dropout.\n",
        "* Use batch normalization."
      ]
    },
    {
      "cell_type": "code",
      "source": [
        "# Model Hyperparameters\n",
        "dropout_rate = 0.4"
      ],
      "metadata": {
        "id": "1RXZa9_tdUdo"
      },
      "execution_count": 5,
      "outputs": []
    },
    {
      "cell_type": "code",
      "execution_count": 6,
      "metadata": {
        "id": "G0QDYPX-qMOZ",
        "colab": {
          "base_uri": "https://localhost:8080/"
        },
        "outputId": "cbd15266-3bd7-48f1-c064-6bede0262608"
      },
      "outputs": [
        {
          "output_type": "stream",
          "name": "stdout",
          "text": [
            "Model: \"sequential\"\n",
            "_________________________________________________________________\n",
            " Layer (type)                Output Shape              Param #   \n",
            "=================================================================\n",
            " conv2d (Conv2D)             (None, 32, 32, 32)        896       \n",
            "                                                                 \n",
            " batch_normalization (BatchN  (None, 32, 32, 32)       128       \n",
            " ormalization)                                                   \n",
            "                                                                 \n",
            " activation (Activation)     (None, 32, 32, 32)        0         \n",
            "                                                                 \n",
            " conv2d_1 (Conv2D)           (None, 32, 32, 32)        9248      \n",
            "                                                                 \n",
            " batch_normalization_1 (Batc  (None, 32, 32, 32)       128       \n",
            " hNormalization)                                                 \n",
            "                                                                 \n",
            " activation_1 (Activation)   (None, 32, 32, 32)        0         \n",
            "                                                                 \n",
            " max_pooling2d (MaxPooling2D  (None, 16, 16, 32)       0         \n",
            " )                                                               \n",
            "                                                                 \n",
            " dropout (Dropout)           (None, 16, 16, 32)        0         \n",
            "                                                                 \n",
            " conv2d_2 (Conv2D)           (None, 16, 16, 64)        18496     \n",
            "                                                                 \n",
            " batch_normalization_2 (Batc  (None, 16, 16, 64)       256       \n",
            " hNormalization)                                                 \n",
            "                                                                 \n",
            " activation_2 (Activation)   (None, 16, 16, 64)        0         \n",
            "                                                                 \n",
            " conv2d_3 (Conv2D)           (None, 16, 16, 64)        36928     \n",
            "                                                                 \n",
            " batch_normalization_3 (Batc  (None, 16, 16, 64)       256       \n",
            " hNormalization)                                                 \n",
            "                                                                 \n",
            " activation_3 (Activation)   (None, 16, 16, 64)        0         \n",
            "                                                                 \n",
            " max_pooling2d_1 (MaxPooling  (None, 8, 8, 64)         0         \n",
            " 2D)                                                             \n",
            "                                                                 \n",
            " dropout_1 (Dropout)         (None, 8, 8, 64)          0         \n",
            "                                                                 \n",
            " conv2d_4 (Conv2D)           (None, 8, 8, 64)          36928     \n",
            "                                                                 \n",
            " batch_normalization_4 (Batc  (None, 8, 8, 64)         256       \n",
            " hNormalization)                                                 \n",
            "                                                                 \n",
            " activation_4 (Activation)   (None, 8, 8, 64)          0         \n",
            "                                                                 \n",
            " conv2d_5 (Conv2D)           (None, 8, 8, 64)          36928     \n",
            "                                                                 \n",
            " batch_normalization_5 (Batc  (None, 8, 8, 64)         256       \n",
            " hNormalization)                                                 \n",
            "                                                                 \n",
            " activation_5 (Activation)   (None, 8, 8, 64)          0         \n",
            "                                                                 \n",
            " max_pooling2d_2 (MaxPooling  (None, 4, 4, 64)         0         \n",
            " 2D)                                                             \n",
            "                                                                 \n",
            " flatten (Flatten)           (None, 1024)              0         \n",
            "                                                                 \n",
            " dropout_2 (Dropout)         (None, 1024)              0         \n",
            "                                                                 \n",
            " dense (Dense)               (None, 128)               131200    \n",
            "                                                                 \n",
            " batch_normalization_6 (Batc  (None, 128)              512       \n",
            " hNormalization)                                                 \n",
            "                                                                 \n",
            " activation_6 (Activation)   (None, 128)               0         \n",
            "                                                                 \n",
            " dense_1 (Dense)             (None, 10)                1290      \n",
            "                                                                 \n",
            "=================================================================\n",
            "Total params: 273,706\n",
            "Trainable params: 272,810\n",
            "Non-trainable params: 896\n",
            "_________________________________________________________________\n"
          ]
        }
      ],
      "source": [
        "from keras.layers import Conv2D, MaxPooling2D, Flatten, Dense, Dropout, BatchNormalization, Activation\n",
        "from keras.models import Sequential\n",
        "\n",
        "\n",
        "# Model\n",
        "model = Sequential()\n",
        "# set 1\n",
        "model.add(Conv2D(32, (3, 3), activation='relu', padding='same', input_shape=(32, 32, 3)))\n",
        "model.add(BatchNormalization())\n",
        "model.add(Activation('relu')) \n",
        "model.add(Conv2D(32, (3, 3), padding='same'))\n",
        "model.add(BatchNormalization())\n",
        "model.add(Activation('relu'))\n",
        "model.add(MaxPooling2D((2, 2)))\n",
        "\n",
        "# set 2\n",
        "model.add(Dropout(dropout_rate))\n",
        "model.add(Conv2D(64, (3, 3), activation='relu', padding='same'))\n",
        "model.add(BatchNormalization())\n",
        "model.add(Activation('relu'))\n",
        "model.add(Conv2D(64, (3, 3), padding='same'))\n",
        "model.add(BatchNormalization())\n",
        "model.add(Activation('relu'))\n",
        "model.add(MaxPooling2D((2, 2)))\n",
        "\n",
        "# set 3\n",
        "model.add(Dropout(dropout_rate))\n",
        "model.add(Conv2D(64, (3, 3), activation='relu', padding='same'))\n",
        "model.add(BatchNormalization())\n",
        "model.add(Activation('relu'))\n",
        "model.add(Conv2D(64, (3, 3), padding='same'))\n",
        "model.add(BatchNormalization())\n",
        "model.add(Activation('relu'))\n",
        "model.add(MaxPooling2D((2, 2)))\n",
        "\n",
        "# (final set)\n",
        "model.add(Flatten())\n",
        "model.add(Dropout(dropout_rate)) # before first dense layer\n",
        "model.add(Dense(128, activation='relu'))\n",
        "model.add(BatchNormalization())\n",
        "model.add(Activation('relu'))\n",
        "model.add(Dense(10, activation='softmax'))  # multi-class classifcation\n",
        "\n",
        "# model summary\n",
        "model.summary()"
      ]
    },
    {
      "cell_type": "code",
      "execution_count": 7,
      "metadata": {
        "id": "FHo5pBU0qMOZ"
      },
      "outputs": [],
      "source": [
        "#from keras import optimizers\n",
        "from tensorflow.keras import optimizers\n",
        "from keras.preprocessing.image import ImageDataGenerator\n",
        "\n",
        "# Hyperparams\n",
        "batch_size = 32\n",
        "epochs = 30\n",
        "\n",
        "# Data Augmentation \n",
        "rescale = 1./255\n",
        "rotation_range = 40\n",
        "width_shift_range = 0.2\n",
        "height_shift_range = 0.2\n",
        "shear_range = 0.2\n",
        "zoom_range = 0.2\n",
        "horizontal_flip=True\n",
        "\n",
        "# Model Parameters\n",
        "learning_rate = 1E-3 # to be tuned!\n",
        "loss='categorical_crossentropy'\n",
        "rho=0.9\n",
        "momentum=0.1\n",
        "metrics = ['acc']\n",
        "\n",
        "# Data Augmenation\n",
        "train_datagen = ImageDataGenerator(\n",
        "    rescale = rescale,\n",
        "    rotation_range = rotation_range,\n",
        "    width_shift_range = width_shift_range,\n",
        "    height_shift_range = height_shift_range,\n",
        "    shear_range = shear_range,\n",
        "    zoom_range = zoom_range,\n",
        "    horizontal_flip = horizontal_flip)\n",
        "\n",
        "train_datagen.fit(x_tr)\n",
        "train_generator = train_datagen.flow(x_tr, y_tr, batch_size=batch_size)\n",
        "test_generator = ImageDataGenerator().flow(x_val, y_val, batch_size=batch_size)\n",
        "\n",
        "# Compile Model\n",
        "model.compile(\n",
        "    loss=loss,\n",
        "    optimizer= optimizers.RMSprop(\n",
        "        learning_rate= learning_rate,\n",
        "        rho=rho,\n",
        "        momentum=momentum),\n",
        "    metrics = metrics\n",
        ")\n"
      ]
    },
    {
      "cell_type": "code",
      "execution_count": 8,
      "metadata": {
        "id": "MmV12qgjqMOa",
        "colab": {
          "base_uri": "https://localhost:8080/"
        },
        "outputId": "1894d51d-45a7-46a2-c737-21b91a9fea6d"
      },
      "outputs": [
        {
          "output_type": "stream",
          "name": "stdout",
          "text": [
            "Epoch 1/30\n",
            "1250/1250 [==============================] - 323s 257ms/step - loss: 1.5994 - acc: 0.4193 - val_loss: 1.3220 - val_acc: 0.5464\n",
            "Epoch 2/30\n",
            "1250/1250 [==============================] - 312s 249ms/step - loss: 1.1502 - acc: 0.5917 - val_loss: 2.4598 - val_acc: 0.3046\n",
            "Epoch 3/30\n",
            "1250/1250 [==============================] - 326s 261ms/step - loss: 0.9972 - acc: 0.6496 - val_loss: 0.9958 - val_acc: 0.6702\n",
            "Epoch 4/30\n",
            "1250/1250 [==============================] - 317s 254ms/step - loss: 0.9213 - acc: 0.6754 - val_loss: 0.8289 - val_acc: 0.7167\n",
            "Epoch 5/30\n",
            "1250/1250 [==============================] - 317s 254ms/step - loss: 0.8601 - acc: 0.7015 - val_loss: 1.0624 - val_acc: 0.6379\n",
            "Epoch 6/30\n",
            "1250/1250 [==============================] - 314s 251ms/step - loss: 0.8140 - acc: 0.7189 - val_loss: 0.7758 - val_acc: 0.7209\n",
            "Epoch 7/30\n",
            "1250/1250 [==============================] - 321s 257ms/step - loss: 0.7759 - acc: 0.7317 - val_loss: 0.7653 - val_acc: 0.7387\n",
            "Epoch 8/30\n",
            "1250/1250 [==============================] - 321s 257ms/step - loss: 0.7453 - acc: 0.7437 - val_loss: 0.6957 - val_acc: 0.7616\n",
            "Epoch 9/30\n",
            "1250/1250 [==============================] - 331s 265ms/step - loss: 0.7121 - acc: 0.7535 - val_loss: 0.7657 - val_acc: 0.7360\n",
            "Epoch 10/30\n",
            "1250/1250 [==============================] - 328s 262ms/step - loss: 0.6906 - acc: 0.7626 - val_loss: 0.8580 - val_acc: 0.7295\n",
            "Epoch 11/30\n",
            "1250/1250 [==============================] - 313s 251ms/step - loss: 0.6808 - acc: 0.7667 - val_loss: 0.7840 - val_acc: 0.7482\n",
            "Epoch 12/30\n",
            "1250/1250 [==============================] - 324s 259ms/step - loss: 0.6619 - acc: 0.7703 - val_loss: 0.6880 - val_acc: 0.7758\n",
            "Epoch 13/30\n",
            "1250/1250 [==============================] - 330s 264ms/step - loss: 0.6450 - acc: 0.7771 - val_loss: 0.5956 - val_acc: 0.7970\n",
            "Epoch 14/30\n",
            "1250/1250 [==============================] - 327s 262ms/step - loss: 0.6309 - acc: 0.7864 - val_loss: 0.7027 - val_acc: 0.7615\n",
            "Epoch 15/30\n",
            "1250/1250 [==============================] - 334s 267ms/step - loss: 0.6200 - acc: 0.7864 - val_loss: 0.5931 - val_acc: 0.8017\n",
            "Epoch 16/30\n",
            "1250/1250 [==============================] - 346s 277ms/step - loss: 0.6051 - acc: 0.7941 - val_loss: 0.6475 - val_acc: 0.7802\n",
            "Epoch 17/30\n",
            "1250/1250 [==============================] - 338s 270ms/step - loss: 0.5979 - acc: 0.7931 - val_loss: 0.6610 - val_acc: 0.7800\n",
            "Epoch 18/30\n",
            "1250/1250 [==============================] - 340s 272ms/step - loss: 0.5804 - acc: 0.8004 - val_loss: 0.5916 - val_acc: 0.8033\n",
            "Epoch 19/30\n",
            "1250/1250 [==============================] - 325s 260ms/step - loss: 0.5780 - acc: 0.8020 - val_loss: 1.2116 - val_acc: 0.6412\n",
            "Epoch 20/30\n",
            "1250/1250 [==============================] - 325s 260ms/step - loss: 0.5690 - acc: 0.8040 - val_loss: 0.5230 - val_acc: 0.8238\n",
            "Epoch 21/30\n",
            "1250/1250 [==============================] - 322s 257ms/step - loss: 0.5628 - acc: 0.8083 - val_loss: 0.7828 - val_acc: 0.7498\n",
            "Epoch 22/30\n",
            "1250/1250 [==============================] - 321s 257ms/step - loss: 0.5525 - acc: 0.8104 - val_loss: 0.6601 - val_acc: 0.7830\n",
            "Epoch 23/30\n",
            "1250/1250 [==============================] - 309s 247ms/step - loss: 0.5399 - acc: 0.8152 - val_loss: 0.6025 - val_acc: 0.8113\n",
            "Epoch 24/30\n",
            "1250/1250 [==============================] - 310s 248ms/step - loss: 0.5360 - acc: 0.8172 - val_loss: 0.5431 - val_acc: 0.8234\n",
            "Epoch 25/30\n",
            "1250/1250 [==============================] - 333s 266ms/step - loss: 0.5311 - acc: 0.8190 - val_loss: 0.6259 - val_acc: 0.7887\n",
            "Epoch 26/30\n",
            "1250/1250 [==============================] - 334s 267ms/step - loss: 0.5231 - acc: 0.8210 - val_loss: 0.6063 - val_acc: 0.8009\n",
            "Epoch 27/30\n",
            "1250/1250 [==============================] - 325s 260ms/step - loss: 0.5158 - acc: 0.8240 - val_loss: 0.5748 - val_acc: 0.8068\n",
            "Epoch 28/30\n",
            "1250/1250 [==============================] - 327s 262ms/step - loss: 0.5135 - acc: 0.8233 - val_loss: 0.6636 - val_acc: 0.7988\n",
            "Epoch 29/30\n",
            "1250/1250 [==============================] - 325s 260ms/step - loss: 0.5054 - acc: 0.8260 - val_loss: 0.5951 - val_acc: 0.8029\n",
            "Epoch 30/30\n",
            "1250/1250 [==============================] - 326s 261ms/step - loss: 0.5017 - acc: 0.8262 - val_loss: 0.5378 - val_acc: 0.8221\n"
          ]
        }
      ],
      "source": [
        "# Run the Model\n",
        "history = model.fit(x_tr, y_tr, batch_size=32, epochs=epochs, validation_data=(x_val, y_val))"
      ]
    },
    {
      "cell_type": "code",
      "execution_count": 9,
      "metadata": {
        "id": "LyCWGjvHqMOa",
        "colab": {
          "base_uri": "https://localhost:8080/",
          "height": 360
        },
        "outputId": "b5d81867-f366-4069-822f-3a696b52b4f3"
      },
      "outputs": [
        {
          "output_type": "display_data",
          "data": {
            "text/plain": [
              "<Figure size 432x288 with 1 Axes>"
            ],
            "image/png": "[encoded data removed]"
          },
          "metadata": {}
        },
        {
          "output_type": "stream",
          "name": "stdout",
          "text": [
            "Training Accuracy: 0.8261500000953674\n",
            "Validation Accuracy: 0.8220999836921692\n"
          ]
        }
      ],
      "source": [
        "import matplotlib.pyplot as plt\n",
        "%matplotlib inline\n",
        "plt.style.use('fivethirtyeight')\n",
        "\n",
        "acc = history.history['acc']\n",
        "val_acc = history.history['val_acc']\n",
        "\n",
        "epochs = range(len(acc))\n",
        "\n",
        "# Plot Training vs. Validation\n",
        "plt.plot(epochs, acc, 'bo', label='Training acc')\n",
        "plt.plot(epochs, val_acc, 'r', label='Validation acc')\n",
        "plt.title('Training and Validation Accuracy')\n",
        "plt.xlabel('Epochs')\n",
        "plt.ylabel('Accuracy')\n",
        "plt.legend()\n",
        "plt.show()\n",
        "\n",
        "print(f\"Training Accuracy: {acc[-1]}\")\n",
        "print(f\"Validation Accuracy: {val_acc[-1]}\")"
      ]
    },
    {
      "cell_type": "markdown",
      "metadata": {
        "id": "HKBxSDUwqMOb"
      },
      "source": [
        "## 3. Train (again) and evaluate the model\n",
        "\n",
        "- To this end, you have found the \"best\" hyper-parameters. \n",
        "- Now, fix the hyper-parameters and train the network on the entire training set (all the 50K training samples)\n",
        "- Evaluate your model on the test set."
      ]
    },
    {
      "cell_type": "markdown",
      "metadata": {
        "id": "GHMEj9bLqMOb"
      },
      "source": [
        "### 3.1. Train the model on the entire training set\n",
        "\n",
        "Why? Previously, you used 40K samples for training; you wasted 10K samples for the sake of hyper-parameter tuning. Now you already know the hyper-parameters, so why not using all the 50K samples for training?"
      ]
    },
    {
      "cell_type": "code",
      "execution_count": 14,
      "metadata": {
        "id": "UyImhVjzqMOb"
      },
      "outputs": [],
      "source": [
        "# Data Augmentation\n",
        "train_datagen = ImageDataGenerator(\n",
        "    rescale= rescale,\n",
        "    rotation_range=rotation_range,\n",
        "    width_shift_range=width_shift_range,\n",
        "    height_shift_range=height_shift_range,\n",
        "    shear_range=shear_range,\n",
        "    zoom_range=zoom_range,\n",
        "    horizontal_flip=horizontal_flip\n",
        ")\n",
        "train_datagen.fit(x_train)\n",
        "train_generator = train_datagen.flow(x_train, y_train_vec, batch_size=batch_size)\n",
        "\n",
        "\n",
        "model.compile(\n",
        "    loss=loss,\n",
        "    optimizer= optimizers.RMSprop(\n",
        "        learning_rate= learning_rate,\n",
        "        rho=rho,\n",
        "        momentum=momentum),\n",
        "    metrics = metrics\n",
        ")"
      ]
    },
    {
      "cell_type": "code",
      "execution_count": null,
      "metadata": {
        "id": "-B2zeIzgqMOc"
      },
      "outputs": [],
      "source": [
        "history = model.fit(train_generator, epochs=ephochs)"
      ]
    },
    {
      "cell_type": "markdown",
      "metadata": {
        "id": "Kzkm1BS_qMOc"
      },
      "source": [
        "### 3.2. Evaluate the model on the test set\n",
        "\n",
        "Do NOT used the test set until now. Make sure that your model parameters and hyper-parameters are independent of the test set."
      ]
    },
    {
      "cell_type": "code",
      "execution_count": null,
      "metadata": {
        "id": "cMjUqGypqMOe"
      },
      "outputs": [],
      "source": [
        "loss_and_acc = model.evaluate(x_test, y_test_vec)\n",
        "print('loss = ' + str(loss_and_acc[0]))\n",
        "print('accuracy = ' + str(loss_and_acc[1]))"
      ]
    },
    {
      "cell_type": "code",
      "execution_count": null,
      "metadata": {
        "id": "lWXb2aWcqMOg"
      },
      "outputs": [],
      "source": [
        ""
      ]
    }
  ],
  "metadata": {
    "kernelspec": {
      "display_name": "Python 3",
      "language": "python",
      "name": "python3"
    },
    "language_info": {
      "codemirror_mode": {
        "name": "ipython",
        "version": 3
      },
      "file_extension": ".py",
      "mimetype": "text/x-python",
      "name": "python",
      "nbconvert_exporter": "python",
      "pygments_lexer": "ipython3",
      "version": "3.8.8"
    },
    "colab": {
      "name": "Programming2.ipynb",
      "provenance": [],
      "collapsed_sections": [],
      "include_colab_link": true
    }
  },
  "nbformat": 4,
  "nbformat_minor": 0
}