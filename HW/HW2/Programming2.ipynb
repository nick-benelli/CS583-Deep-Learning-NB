{
  "cells": [
    {
      "cell_type": "markdown",
      "metadata": {
        "id": "view-in-github",
        "colab_type": "text"
      },
      "source": [
        "<a href=\"https://colab.research.google.com/github/nvb5140/CS583-Deep-Learning-NB/blob/main/HW/HW2/Programming2.ipynb\" target=\"_parent\"><img src=\"https://colab.research.google.com/assets/colab-badge.svg\" alt=\"Open In Colab\"/></a>"
      ]
    },
    {
      "cell_type": "markdown",
      "metadata": {
        "id": "WrwB8mt6qMOD"
      },
      "source": [
        "# Programming Assignment: Build a CNN for image recognition.\n",
        "\n",
        "### Name: Nick Benelli\n"
      ]
    },
    {
      "cell_type": "markdown",
      "metadata": {
        "id": "WH76beDSqMOH"
      },
      "source": [
        "## 0. You will do the following:\n",
        "\n",
        "1. Read, complete, and run the code.\n",
        "\n",
        "2. **Make substantial improvements** to maximize the accuracy.\n",
        "    \n",
        "3. Convert the .IPYNB file to .HTML file.\n",
        "\n",
        "    * The HTML file must contain the code and the output after execution.\n",
        "    \n",
        "    * Missing **the output after execution** will not be graded.\n",
        "\n",
        "\n",
        "4. Upload the .HTML file to your Google Drive, Dropbox, or Github repo. (If you submit the file to Google Drive or Dropbox, you must make the file \"open-access\". The delay caused by \"deny of access\" may result in late penalty.)\n",
        "\n",
        "4. On Canvas, submit the Google Drive/Dropbox/Github link to the HTML file.\n",
        "\n",
        "\n",
        "## Requirements:\n",
        "\n",
        "1. You can use whatever CNN architecture, including VGG, Inception, and ResNet. However, you must build the networks layer by layer. You must NOT import the archetectures from ```keras.applications```.\n",
        "\n",
        "2. Make sure ```BatchNormalization``` is between a ```Conv```/```Dense``` layer and an ```activation``` layer.\n",
        "\n",
        "3. If you want to regularize a ```Conv```/```Dense``` layer, you should place a ```Dropout``` layer **before** the ```Conv```/```Dense``` layer.\n",
        "\n",
        "4. An accuracy above 70% is considered reasonable. An accuracy above 80% is considered good. Without data augmentation, achieving 80% accuracy is difficult.\n",
        "\n",
        "\n",
        "## Google Colab\n",
        "\n",
        "- If you do not have GPU, the training of a CNN can be slow. Google Colab is a good option.\n",
        "\n",
        "- Keep in mind that you must download it as an IPYNB file and then use IPython Notebook to convert it to HTML.\n",
        "\n",
        "- Also keep in mind that the IPYNB and HTML files must contain the outputs. (Otherwise, the instructor will not be able to know the correctness and performance.) Do the followings to keep the outputs.\n",
        "\n",
        "- In Colab, go to ```Runtime``` --> ```Change runtime type``` --> Do NOT check ```Omit code cell output when saving this notebook```. In this way, the downloaded IPYNB file contains the outputs."
      ]
    },
    {
      "cell_type": "markdown",
      "metadata": {
        "id": "S4n2ObdtqMOI"
      },
      "source": [
        "## 1. Data preparation"
      ]
    },
    {
      "cell_type": "markdown",
      "metadata": {
        "id": "IB66E1p0qMOJ"
      },
      "source": [
        "### 1.1. Load data\n"
      ]
    },
    {
      "cell_type": "code",
      "source": [
        "from google.colab import drive\n",
        "drive.mount('drive')"
      ],
      "metadata": {
        "colab": {
          "base_uri": "https://localhost:8080/"
        },
        "id": "MAghz6VG1rnj",
        "outputId": "822b61c9-b69b-42bb-8017-c16af79f9556"
      },
      "execution_count": 1,
      "outputs": [
        {
          "output_type": "stream",
          "name": "stdout",
          "text": [
            "Mounted at drive\n"
          ]
        }
      ]
    },
    {
      "cell_type": "code",
      "execution_count": 2,
      "metadata": {
        "colab": {
          "base_uri": "https://localhost:8080/"
        },
        "id": "soZqwfjJqMOK",
        "outputId": "bea02416-c54b-4ad1-8d36-a9309c91afed"
      },
      "outputs": [
        {
          "output_type": "stream",
          "name": "stdout",
          "text": [
            "Downloading data from https://www.cs.toronto.edu/~kriz/cifar-10-python.tar.gz\n",
            "170500096/170498071 [==============================] - 11s 0us/step\n",
            "170508288/170498071 [==============================] - 11s 0us/step\n",
            "Training (train) and Testings (test) Sets:\n",
            "shape of x_train: (50000, 32, 32, 3)\n",
            "shape of y_train: (50000, 1)\n",
            "shape of x_test: (10000, 32, 32, 3)\n",
            "shape of y_test: (10000, 1)\n",
            "number of classes: 10\n"
          ]
        }
      ],
      "source": [
        "from keras.datasets import cifar10\n",
        "import numpy\n",
        "import pandas as pd\n",
        "\n",
        "(x_train, y_train), (x_test, y_test) = cifar10.load_data()\n",
        "\n",
        "print('Training (train) and Testings (test) Sets:')\n",
        "print('shape of x_train: ' + str(x_train.shape))\n",
        "print('shape of y_train: ' + str(y_train.shape))\n",
        "print('shape of x_test: ' + str(x_test.shape))\n",
        "print('shape of y_test: ' + str(y_test.shape))\n",
        "print('number of classes: ' + str(numpy.max(y_train) - numpy.min(y_train) + 1))"
      ]
    },
    {
      "cell_type": "markdown",
      "metadata": {
        "id": "h3KkvJkHqMON"
      },
      "source": [
        "### 1.2. One-hot encode the labels\n",
        "\n",
        "In the input, a label is a scalar in $\\{0, 1, \\cdots , 9\\}$. One-hot encode transform such a scalar to a $10$-dim vector. E.g., a scalar ```y_train[j]=3``` is transformed to the vector ```y_train_vec[j]=[0, 0, 0, 1, 0, 0, 0, 0, 0, 0]```.\n",
        "\n",
        "1. Define a function ```to_one_hot``` that transforms an $n\\times 1$ array to a $n\\times 10$ matrix.\n",
        "\n",
        "2. Apply the function to ```y_train``` and ```y_test```."
      ]
    },
    {
      "cell_type": "code",
      "execution_count": 3,
      "metadata": {
        "colab": {
          "base_uri": "https://localhost:8080/"
        },
        "id": "_SZqMRNWqMOQ",
        "outputId": "2c1155ce-c413-480a-9772-74d3c06b9c70"
      },
      "outputs": [
        {
          "output_type": "stream",
          "name": "stdout",
          "text": [
            "Shape of y_train_vec: (50000, 10)\n",
            "Shape of y_test_vec: (10000, 10)\n",
            "[6]\n",
            "[0. 0. 0. 0. 0. 0. 1. 0. 0. 0.]\n"
          ]
        }
      ],
      "source": [
        "def to_one_hot(y, num_class=10):\n",
        "    '''\n",
        "    Covnert integer classes in a one-hot encoding vector. i.e 3 = [0,0,0,1,0]\n",
        "\n",
        "    Parameters\n",
        "    ----------\n",
        "    y : numpy.ndarray\n",
        "        label vector.\n",
        "    num_class : int, optional\n",
        "        number of classes in multi-class classifcation. The default is 10.\n",
        "\n",
        "    Returns\n",
        "    -------\n",
        "    y_one_hot : numpy.ndarray\n",
        "        one-hot encoding matrix of y.\n",
        "\n",
        "    '''\n",
        "    y_one_hot = numpy.zeros((len(y), num_class))\n",
        "    for i, y_i in enumerate(y):\n",
        "        y_one_hot[i, y_i] = 1\n",
        "    return y_one_hot\n",
        "\n",
        "y_train_vec = to_one_hot(y_train)\n",
        "y_test_vec = to_one_hot(y_test)\n",
        "\n",
        "print('Shape of y_train_vec: ' + str(y_train_vec.shape))\n",
        "print('Shape of y_test_vec: ' + str(y_test_vec.shape))\n",
        "\n",
        "print(y_train[0])\n",
        "print(y_train_vec[0])"
      ]
    },
    {
      "cell_type": "markdown",
      "metadata": {
        "id": "cC_uBHPCqMOR"
      },
      "source": [
        "#### Remark: the outputs should be\n",
        "* Shape of y_train_vec: (50000, 10)\n",
        "* Shape of y_test_vec: (10000, 10)\n",
        "* [6]\n",
        "* [0. 0. 0. 0. 0. 0. 1. 0. 0. 0.]"
      ]
    },
    {
      "cell_type": "markdown",
      "metadata": {
        "id": "n0Y6c1IzqMOR"
      },
      "source": [
        "### 1.3. Randomly partition the training set to training and validation sets\n",
        "\n",
        "Randomly partition the 50K training samples to 2 sets:\n",
        "* a training set containing 40K samples\n",
        "* a validation set containing 10K samples\n"
      ]
    },
    {
      "cell_type": "code",
      "execution_count": 4,
      "metadata": {
        "id": "OhG_8-qMqMOX",
        "colab": {
          "base_uri": "https://localhost:8080/"
        },
        "outputId": "4ad25271-b073-45bc-a501-7c33052db583"
      },
      "outputs": [
        {
          "output_type": "stream",
          "name": "stdout",
          "text": [
            "Train (tr) and Validation (val) Sets:\n",
            "Shape of x_tr: (40000, 32, 32, 3)\n",
            "Shape of y_tr: (40000, 10)\n",
            "Shape of x_val: (10000, 32, 32, 3)\n",
            "Shape of y_val: (10000, 10)\n"
          ]
        }
      ],
      "source": [
        "rand_indices = numpy.random.permutation(50000)\n",
        "train_indices = rand_indices[0:40000]\n",
        "valid_indices = rand_indices[40000:50000]\n",
        "\n",
        "x_val = x_train[valid_indices, :]\n",
        "y_val = y_train_vec[valid_indices, :]\n",
        "\n",
        "x_tr = x_train[train_indices, :]\n",
        "y_tr = y_train_vec[train_indices, :]\n",
        "\n",
        "print('Train (tr) and Validation (val) Sets:')\n",
        "print('Shape of x_tr: ' + str(x_tr.shape))\n",
        "print('Shape of y_tr: ' + str(y_tr.shape))\n",
        "print('Shape of x_val: ' + str(x_val.shape))\n",
        "print('Shape of y_val: ' + str(y_val.shape))"
      ]
    },
    {
      "cell_type": "markdown",
      "metadata": {
        "id": "3LIZYAZyqMOY"
      },
      "source": [
        "## 2. Build a CNN and tune its hyper-parameters\n",
        "\n",
        "1. Build a convolutional neural network model\n",
        "2. Use the validation data to tune the hyper-parameters (e.g., network structure, and optimization algorithm)\n",
        "    * Do NOT use test data for hyper-parameter tuning!!!\n",
        "3. Try to achieve a validation accuracy as high as possible."
      ]
    },
    {
      "cell_type": "markdown",
      "metadata": {
        "id": "qy1A0RoSqMOY"
      },
      "source": [
        "### Remark: \n",
        "\n",
        "The following CNN is just an example. You are supposed to make **substantial improvements** such as:\n",
        "* Add more layers.\n",
        "* Use regularizations, e.g., dropout.\n",
        "* Use batch normalization."
      ]
    },
    {
      "cell_type": "code",
      "execution_count": 5,
      "metadata": {
        "id": "G0QDYPX-qMOZ",
        "colab": {
          "base_uri": "https://localhost:8080/"
        },
        "outputId": "73f7deb0-8520-4f4c-cff1-adda01064446"
      },
      "outputs": [
        {
          "output_type": "stream",
          "name": "stdout",
          "text": [
            "Model: \"sequential\"\n",
            "_________________________________________________________________\n",
            " Layer (type)                Output Shape              Param #   \n",
            "=================================================================\n",
            " conv2d (Conv2D)             (None, 32, 32, 32)        896       \n",
            "                                                                 \n",
            " batch_normalization (BatchN  (None, 32, 32, 32)       128       \n",
            " ormalization)                                                   \n",
            "                                                                 \n",
            " activation (Activation)     (None, 32, 32, 32)        0         \n",
            "                                                                 \n",
            " conv2d_1 (Conv2D)           (None, 32, 32, 32)        9248      \n",
            "                                                                 \n",
            " batch_normalization_1 (Batc  (None, 32, 32, 32)       128       \n",
            " hNormalization)                                                 \n",
            "                                                                 \n",
            " activation_1 (Activation)   (None, 32, 32, 32)        0         \n",
            "                                                                 \n",
            " max_pooling2d (MaxPooling2D  (None, 16, 16, 32)       0         \n",
            " )                                                               \n",
            "                                                                 \n",
            " dropout (Dropout)           (None, 16, 16, 32)        0         \n",
            "                                                                 \n",
            " conv2d_2 (Conv2D)           (None, 16, 16, 64)        18496     \n",
            "                                                                 \n",
            " batch_normalization_2 (Batc  (None, 16, 16, 64)       256       \n",
            " hNormalization)                                                 \n",
            "                                                                 \n",
            " activation_2 (Activation)   (None, 16, 16, 64)        0         \n",
            "                                                                 \n",
            " conv2d_3 (Conv2D)           (None, 16, 16, 64)        36928     \n",
            "                                                                 \n",
            " batch_normalization_3 (Batc  (None, 16, 16, 64)       256       \n",
            " hNormalization)                                                 \n",
            "                                                                 \n",
            " activation_3 (Activation)   (None, 16, 16, 64)        0         \n",
            "                                                                 \n",
            " max_pooling2d_1 (MaxPooling  (None, 8, 8, 64)         0         \n",
            " 2D)                                                             \n",
            "                                                                 \n",
            " dropout_1 (Dropout)         (None, 8, 8, 64)          0         \n",
            "                                                                 \n",
            " conv2d_4 (Conv2D)           (None, 8, 8, 128)         73856     \n",
            "                                                                 \n",
            " batch_normalization_4 (Batc  (None, 8, 8, 128)        512       \n",
            " hNormalization)                                                 \n",
            "                                                                 \n",
            " activation_4 (Activation)   (None, 8, 8, 128)         0         \n",
            "                                                                 \n",
            " conv2d_5 (Conv2D)           (None, 8, 8, 128)         147584    \n",
            "                                                                 \n",
            " batch_normalization_5 (Batc  (None, 8, 8, 128)        512       \n",
            " hNormalization)                                                 \n",
            "                                                                 \n",
            " activation_5 (Activation)   (None, 8, 8, 128)         0         \n",
            "                                                                 \n",
            " max_pooling2d_2 (MaxPooling  (None, 4, 4, 128)        0         \n",
            " 2D)                                                             \n",
            "                                                                 \n",
            " flatten (Flatten)           (None, 2048)              0         \n",
            "                                                                 \n",
            " dropout_2 (Dropout)         (None, 2048)              0         \n",
            "                                                                 \n",
            " dense (Dense)               (None, 512)               1049088   \n",
            "                                                                 \n",
            " batch_normalization_6 (Batc  (None, 512)              2048      \n",
            " hNormalization)                                                 \n",
            "                                                                 \n",
            " activation_6 (Activation)   (None, 512)               0         \n",
            "                                                                 \n",
            " dense_1 (Dense)             (None, 10)                5130      \n",
            "                                                                 \n",
            "=================================================================\n",
            "Total params: 1,345,066\n",
            "Trainable params: 1,343,146\n",
            "Non-trainable params: 1,920\n",
            "_________________________________________________________________\n"
          ]
        }
      ],
      "source": [
        "from keras.layers import Conv2D, MaxPooling2D, Flatten, Dense, Dropout, BatchNormalization, Activation\n",
        "from keras.models import Sequential\n",
        "\n",
        "def create_model():\n",
        "  # Model\n",
        "  model = Sequential()\n",
        "  # set 1\n",
        "  model.add(Conv2D(32, (3, 3), activation='relu', padding='same', input_shape=(32, 32, 3)))\n",
        "  model.add(BatchNormalization())\n",
        "  model.add(Activation('relu')) \n",
        "  model.add(Conv2D(32, (3, 3), padding='same'))\n",
        "  model.add(BatchNormalization())\n",
        "  model.add(Activation('relu'))\n",
        "  model.add(MaxPooling2D((2, 2)))\n",
        "\n",
        "  # set 2\n",
        "  model.add(Dropout(0.2))\n",
        "  model.add(Conv2D(64, (3, 3), activation='relu', padding='same'))\n",
        "  model.add(BatchNormalization())\n",
        "  model.add(Activation('relu'))\n",
        "  model.add(Conv2D(64, (3, 3), padding='same'))\n",
        "  model.add(BatchNormalization())\n",
        "  model.add(Activation('relu'))\n",
        "  model.add(MaxPooling2D((2, 2)))\n",
        "\n",
        "  # set 3\n",
        "  model.add(Dropout(0.3)) \n",
        "  model.add(Conv2D(128, (3, 3), activation='relu', padding='same'))\n",
        "  model.add(BatchNormalization())\n",
        "  model.add(Activation('relu'))\n",
        "  model.add(Conv2D(128, (3, 3), padding='same'))\n",
        "  model.add(BatchNormalization())\n",
        "  model.add(Activation('relu'))\n",
        "  model.add(MaxPooling2D((2, 2)))\n",
        "\n",
        "  # (final set)\n",
        "  model.add(Flatten())\n",
        "  model.add(Dropout(0.4)) # before first dense layer\n",
        "  model.add(Dense(512, activation='relu'))\n",
        "  model.add(BatchNormalization())\n",
        "  model.add(Activation('relu'))\n",
        "  model.add(Dense(10, activation='softmax'))  # multi-class classifcation\n",
        "\n",
        "  return model\n",
        "\n",
        "# model summary\n",
        "model = create_model()\n",
        "model.summary()"
      ]
    },
    {
      "cell_type": "code",
      "execution_count": 6,
      "metadata": {
        "id": "FHo5pBU0qMOZ"
      },
      "outputs": [],
      "source": [
        "#from keras import optimizers\n",
        "from tensorflow.keras import optimizers\n",
        "from keras.preprocessing.image import ImageDataGenerator\n",
        "\n",
        "# Hyperparams\n",
        "batch_size = 32\n",
        "epochs = 40\n",
        "\n",
        "# Data Augmentation \n",
        "rescale = 1./255\n",
        "rotation_range = 10\n",
        "width_shift_range = 0.2\n",
        "height_shift_range = 0.2\n",
        "shear_range = 0.2\n",
        "zoom_range = 0.2\n",
        "horizontal_flip=True\n",
        "\n",
        "# Model Parameters\n",
        "learning_rate = 1E-3 # to be tuned!\n",
        "loss='categorical_crossentropy'\n",
        "metrics = ['acc']\n",
        "\n",
        "# Data Augmenation\n",
        "train_datagen = ImageDataGenerator(\n",
        "    rescale = rescale,\n",
        "    rotation_range = rotation_range,\n",
        "    width_shift_range = width_shift_range,\n",
        "    height_shift_range = height_shift_range,\n",
        "    shear_range = shear_range,\n",
        "    zoom_range = zoom_range,\n",
        "    horizontal_flip = horizontal_flip)\n",
        "\n",
        "val_datagen = ImageDataGenerator(rescale= rescale)\n",
        "\n",
        "train_datagen.fit(x_tr)\n",
        "train_generator = train_datagen.flow(x_tr, y_tr, batch_size=batch_size)\n",
        "test_generator = val_datagen.flow(x_val, y_val, batch_size=batch_size)\n",
        "\n",
        "# Compile Model\n",
        "model.compile(\n",
        "    loss=loss,\n",
        "    optimizer= optimizers.RMSprop(\n",
        "        learning_rate= learning_rate),\n",
        "    metrics = metrics\n",
        ")\n"
      ]
    },
    {
      "cell_type": "code",
      "source": [
        "# epoch breakdown\n",
        "model_wgt_path = '/content/drive/My Drive/Colab Notebooks/checkpoints'\n",
        "\n",
        "\n",
        "epochs_to_run = 20  # number of epochs per round\n"
      ],
      "metadata": {
        "id": "dxUKG1VUYtRF"
      },
      "execution_count": 7,
      "outputs": []
    },
    {
      "cell_type": "code",
      "source": [
        "# Accuracy and Validation Accuracy\n",
        "acc_list = []\n",
        "val_acc_list = []"
      ],
      "metadata": {
        "id": "TvfIKVxF6owG"
      },
      "execution_count": 8,
      "outputs": []
    },
    {
      "cell_type": "code",
      "execution_count": 10,
      "metadata": {
        "id": "MmV12qgjqMOa",
        "colab": {
          "base_uri": "https://localhost:8080/"
        },
        "outputId": "05e741bc-6dad-4e11-93e5-b2a03f66391b"
      },
      "outputs": [
        {
          "output_type": "stream",
          "name": "stdout",
          "text": [
            "Epoch 1/20\n",
            "1250/1250 [==============================] - 356s 283ms/step - loss: 1.7493 - acc: 0.3738 - val_loss: 1.7651 - val_acc: 0.4433\n",
            "Epoch 2/20\n",
            "1250/1250 [==============================] - 354s 283ms/step - loss: 1.3799 - acc: 0.5048 - val_loss: 1.8853 - val_acc: 0.4687\n",
            "Epoch 3/20\n",
            "1250/1250 [==============================] - 354s 283ms/step - loss: 1.2051 - acc: 0.5733 - val_loss: 1.3124 - val_acc: 0.5750\n",
            "Epoch 4/20\n",
            "1250/1250 [==============================] - 349s 279ms/step - loss: 1.1006 - acc: 0.6161 - val_loss: 1.1210 - val_acc: 0.6263\n",
            "Epoch 5/20\n",
            "1250/1250 [==============================] - 345s 276ms/step - loss: 1.0209 - acc: 0.6426 - val_loss: 1.0969 - val_acc: 0.6438\n",
            "Epoch 6/20\n",
            "1250/1250 [==============================] - 343s 275ms/step - loss: 0.9778 - acc: 0.6629 - val_loss: 1.2246 - val_acc: 0.6191\n",
            "Epoch 7/20\n",
            "1250/1250 [==============================] - 353s 282ms/step - loss: 0.9329 - acc: 0.6785 - val_loss: 0.9214 - val_acc: 0.6912\n",
            "Epoch 8/20\n",
            "1250/1250 [==============================] - 353s 283ms/step - loss: 0.9059 - acc: 0.6903 - val_loss: 1.0409 - val_acc: 0.6633\n",
            "Epoch 9/20\n",
            "1250/1250 [==============================] - 348s 278ms/step - loss: 0.8750 - acc: 0.7000 - val_loss: 0.9736 - val_acc: 0.6951\n",
            "Epoch 10/20\n",
            "1250/1250 [==============================] - 345s 276ms/step - loss: 0.8495 - acc: 0.7073 - val_loss: 0.8131 - val_acc: 0.7217\n",
            "Epoch 11/20\n",
            "1250/1250 [==============================] - 348s 278ms/step - loss: 0.8252 - acc: 0.7203 - val_loss: 0.9569 - val_acc: 0.6934\n",
            "Epoch 12/20\n",
            "1250/1250 [==============================] - 349s 279ms/step - loss: 0.8133 - acc: 0.7214 - val_loss: 0.8570 - val_acc: 0.7131\n",
            "Epoch 13/20\n",
            "1250/1250 [==============================] - 352s 281ms/step - loss: 0.7949 - acc: 0.7292 - val_loss: 1.0149 - val_acc: 0.7025\n",
            "Epoch 14/20\n",
            "1250/1250 [==============================] - 345s 276ms/step - loss: 0.7823 - acc: 0.7334 - val_loss: 0.7702 - val_acc: 0.7405\n",
            "Epoch 15/20\n",
            "1250/1250 [==============================] - 350s 280ms/step - loss: 0.7612 - acc: 0.7441 - val_loss: 0.7742 - val_acc: 0.7416\n",
            "Epoch 16/20\n",
            "1250/1250 [==============================] - 352s 281ms/step - loss: 0.7562 - acc: 0.7423 - val_loss: 0.7719 - val_acc: 0.7314\n",
            "Epoch 17/20\n",
            "1250/1250 [==============================] - 353s 282ms/step - loss: 0.7383 - acc: 0.7487 - val_loss: 0.7035 - val_acc: 0.7746\n",
            "Epoch 18/20\n",
            "1250/1250 [==============================] - 352s 282ms/step - loss: 0.7327 - acc: 0.7530 - val_loss: 0.6913 - val_acc: 0.7998\n",
            "Epoch 19/20\n",
            "1250/1250 [==============================] - 345s 276ms/step - loss: 0.7238 - acc: 0.7540 - val_loss: 0.8465 - val_acc: 0.7348\n",
            "Epoch 20/20\n",
            "1250/1250 [==============================] - 348s 278ms/step - loss: 0.7174 - acc: 0.7568 - val_loss: 0.8797 - val_acc: 0.7262\n",
            "Model weights 0 to disk\n",
            "Accuracy appended\n"
          ]
        }
      ],
      "source": [
        "# Run the Model\n",
        "# TRAIN\n",
        "# epoch start point\n",
        "epoch_i = 0\n",
        "epochs_to_run = 20  # number of epochs per round\n",
        "\n",
        "history = model.fit(train_generator, epochs=epochs_to_run, validation_data=test_generator)\n",
        "model.save_weights(f'{model_wgt_path}/my_checkpoint{epoch_i}')\n",
        "print(f\"Model weights {epoch_i} to disk\")\n",
        "\n",
        "# Append Accuracy\n",
        "acc_list += history.history['acc']\n",
        "val_acc_list += history.history['val_acc']\n",
        "df = pd.DataFrame({'acc' : acc_list, 'val_acc' : val_acc_list})\n",
        "df.to_csv(f'{model_wgt_path}/acc{epoch_i}.csv') \n",
        "print(\"Accuracy appended\")"
      ]
    },
    {
      "cell_type": "code",
      "source": [
        "# TRAIN 1\n",
        "epoch_i = 1\n",
        "epochs_to_run = 20  # number of epochs per round\n",
        "\n",
        "epoch_i -= 1\n",
        "# Load Accuracy Data\n",
        "df = pd.read_csv(f'{model_wgt_path}/acc{epoch_i}.csv')\n",
        "acc_list = list(df.loc[:, 'acc'])\n",
        "val_acc_list = list(df.loc[:, 'val_acc'])\n",
        "\n",
        "# load model wgts\n",
        "model.load_weights(f'{model_wgt_path}/my_checkpoint{epoch_i}')\n",
        "print(f'Model weights {epoch_i} loaded')\n",
        "\n",
        "#train model\n",
        "history = model.fit(train_generator, epochs=epochs_to_run, validation_data=test_generator)\n",
        "\n",
        "# save model wgts to next iteration\n",
        "epoch_i += 1\n",
        "print(epoch_i)\n",
        "model.save_weights(f'{model_wgt_path}/my_checkpoint{epoch_i}')\n",
        "print(f\"Model weights {epoch_i} to disk\")\n",
        "\n",
        "# append accuracy\n",
        "acc_list += history.history['acc']\n",
        "val_acc_list += history.history['val_acc']\n",
        "df = pd.DataFrame({'acc' : acc_list, 'val_acc' : val_acc_list})\n",
        "df.to_csv(f'{model_wgt_path}/acc{epoch_i}.csv')\n",
        "print(\"Accuracy appended\")"
      ],
      "metadata": {
        "colab": {
          "base_uri": "https://localhost:8080/"
        },
        "id": "DENWqR1taqx2",
        "outputId": "4cfd3aed-4562-4b7e-990d-c8a74cec0191"
      },
      "execution_count": 9,
      "outputs": [
        {
          "output_type": "stream",
          "name": "stdout",
          "text": [
            "Model weights 0 loaded\n",
            "Epoch 1/20\n",
            "1250/1250 [==============================] - 383s 305ms/step - loss: 0.6209 - acc: 0.7910 - val_loss: 0.5484 - val_acc: 0.8213\n",
            "Epoch 2/20\n",
            "1250/1250 [==============================] - 367s 293ms/step - loss: 0.6176 - acc: 0.7944 - val_loss: 0.6385 - val_acc: 0.7911\n",
            "Epoch 3/20\n",
            "1250/1250 [==============================] - 364s 291ms/step - loss: 0.6111 - acc: 0.7916 - val_loss: 0.5363 - val_acc: 0.8227\n",
            "Epoch 4/20\n",
            "1250/1250 [==============================] - 360s 288ms/step - loss: 0.6062 - acc: 0.7939 - val_loss: 0.4455 - val_acc: 0.8489\n",
            "Epoch 5/20\n",
            "1250/1250 [==============================] - 361s 289ms/step - loss: 0.6001 - acc: 0.7953 - val_loss: 0.5349 - val_acc: 0.8197\n",
            "Epoch 6/20\n",
            "1250/1250 [==============================] - 360s 288ms/step - loss: 0.5975 - acc: 0.7985 - val_loss: 0.5439 - val_acc: 0.8284\n",
            "Epoch 7/20\n",
            "1250/1250 [==============================] - 361s 289ms/step - loss: 0.5969 - acc: 0.7993 - val_loss: 0.4563 - val_acc: 0.8503\n",
            "Epoch 8/20\n",
            "1250/1250 [==============================] - 367s 294ms/step - loss: 0.5880 - acc: 0.8025 - val_loss: 0.6154 - val_acc: 0.8083\n",
            "Epoch 9/20\n",
            "1250/1250 [==============================] - 369s 295ms/step - loss: 0.5913 - acc: 0.8000 - val_loss: 0.5814 - val_acc: 0.8197\n",
            "Epoch 10/20\n",
            "1250/1250 [==============================] - 370s 296ms/step - loss: 0.5848 - acc: 0.8030 - val_loss: 0.5227 - val_acc: 0.8261\n",
            "Epoch 11/20\n",
            "1250/1250 [==============================] - 370s 296ms/step - loss: 0.5894 - acc: 0.8022 - val_loss: 0.6950 - val_acc: 0.7871\n",
            "Epoch 12/20\n",
            "1250/1250 [==============================] - 369s 295ms/step - loss: 0.5810 - acc: 0.8029 - val_loss: 0.5085 - val_acc: 0.8454\n",
            "Epoch 13/20\n",
            "1250/1250 [==============================] - 370s 296ms/step - loss: 0.5804 - acc: 0.8025 - val_loss: 0.5078 - val_acc: 0.8359\n",
            "Epoch 14/20\n",
            "1250/1250 [==============================] - 371s 296ms/step - loss: 0.5797 - acc: 0.8054 - val_loss: 0.5641 - val_acc: 0.8181\n",
            "Epoch 15/20\n",
            "1250/1250 [==============================] - 372s 297ms/step - loss: 0.5715 - acc: 0.8074 - val_loss: 0.6033 - val_acc: 0.8111\n",
            "Epoch 16/20\n",
            "1250/1250 [==============================] - 373s 298ms/step - loss: 0.5722 - acc: 0.8058 - val_loss: 0.4828 - val_acc: 0.8470\n",
            "Epoch 17/20\n",
            "1250/1250 [==============================] - 372s 298ms/step - loss: 0.5729 - acc: 0.8085 - val_loss: 0.6787 - val_acc: 0.7921\n",
            "Epoch 18/20\n",
            "1250/1250 [==============================] - 373s 299ms/step - loss: 0.5669 - acc: 0.8061 - val_loss: 0.4419 - val_acc: 0.8556\n",
            "Epoch 19/20\n",
            "1250/1250 [==============================] - 373s 299ms/step - loss: 0.5626 - acc: 0.8098 - val_loss: 0.4588 - val_acc: 0.8526\n",
            "Epoch 20/20\n",
            "1250/1250 [==============================] - 373s 298ms/step - loss: 0.5636 - acc: 0.8094 - val_loss: 0.5122 - val_acc: 0.8373\n",
            "1\n",
            "Model weights 1 to disk\n",
            "Accuracy appended\n"
          ]
        }
      ]
    },
    {
      "cell_type": "code",
      "source": [
        "# TRAIN 2\n",
        "epoch_i = 2\n",
        "epochs_to_run = 10  # number of epochs per round\n",
        "\n",
        "epoch_i -= 1\n",
        "# Load Accuracy Data\n",
        "df = pd.read_csv(f'{model_wgt_path}/acc{epoch_i}.csv')\n",
        "acc_list = list(df.loc[:, 'acc'])\n",
        "val_acc_list = list(df.loc[:, 'val_acc'])\n",
        "\n",
        "# load model wgts\n",
        "model.load_weights(f'{model_wgt_path}/my_checkpoint{epoch_i}')\n",
        "print(f'Model weights {epoch_i} loaded')\n",
        "\n",
        "#train model\n",
        "history = model.fit(train_generator, epochs=epochs_to_run, validation_data=test_generator)\n",
        "\n",
        "# save model wgts to next iteration\n",
        "epoch_i += 1\n",
        "print(epoch_i)\n",
        "model.save_weights(f'{model_wgt_path}/my_checkpoint{epoch_i}')\n",
        "print(f\"Model weights {epoch_i} to disk\")\n",
        "\n",
        "# append accuracy\n",
        "acc_list += history.history['acc']\n",
        "val_acc_list += history.history['val_acc']\n",
        "df = pd.DataFrame({'acc' : acc_list, 'val_acc' : val_acc_list})\n",
        "df.to_csv(f'{model_wgt_path}/acc{epoch_i}.csv')\n",
        "print(\"Accuracy appended\")"
      ],
      "metadata": {
        "colab": {
          "base_uri": "https://localhost:8080/"
        },
        "id": "6i7Izkk0V_3t",
        "outputId": "6d789439-7030-4430-df12-8816b699a99f"
      },
      "execution_count": 16,
      "outputs": [
        {
          "output_type": "stream",
          "name": "stdout",
          "text": [
            "Model weights 1 loaded\n",
            "Epoch 1/10\n",
            "1250/1250 [==============================] - 399s 319ms/step - loss: 0.5662 - acc: 0.8081 - val_loss: 0.4924 - val_acc: 0.8418\n",
            "Epoch 2/10\n",
            "1250/1250 [==============================] - 378s 302ms/step - loss: 0.5537 - acc: 0.8137 - val_loss: 0.4496 - val_acc: 0.8519\n",
            "Epoch 3/10\n",
            "1250/1250 [==============================] - 370s 296ms/step - loss: 0.5604 - acc: 0.8106 - val_loss: 0.5634 - val_acc: 0.8183\n",
            "Epoch 4/10\n",
            "1250/1250 [==============================] - 370s 296ms/step - loss: 0.5619 - acc: 0.8110 - val_loss: 0.5010 - val_acc: 0.8334\n",
            "Epoch 5/10\n",
            "1250/1250 [==============================] - 369s 295ms/step - loss: 0.5573 - acc: 0.8135 - val_loss: 0.4092 - val_acc: 0.8683\n",
            "Epoch 6/10\n",
            "1250/1250 [==============================] - 386s 309ms/step - loss: 0.5559 - acc: 0.8130 - val_loss: 0.5391 - val_acc: 0.8295\n",
            "Epoch 7/10\n",
            "1250/1250 [==============================] - 369s 295ms/step - loss: 0.5501 - acc: 0.8128 - val_loss: 0.4271 - val_acc: 0.8551\n",
            "Epoch 8/10\n",
            "1250/1250 [==============================] - 368s 294ms/step - loss: 0.5572 - acc: 0.8145 - val_loss: 0.5186 - val_acc: 0.8436\n",
            "Epoch 9/10\n",
            "1250/1250 [==============================] - 371s 297ms/step - loss: 0.5486 - acc: 0.8157 - val_loss: 0.4946 - val_acc: 0.8381\n",
            "Epoch 10/10\n",
            "1250/1250 [==============================] - 370s 296ms/step - loss: 0.5475 - acc: 0.8145 - val_loss: 0.4390 - val_acc: 0.8554\n",
            "2\n",
            "Model weights 2 to disk\n",
            "Accuracy appended\n"
          ]
        }
      ]
    },
    {
      "cell_type": "code",
      "source": [
        "# Save model\n",
        "#model.save('cnn_model3')\n",
        "from keras.models import model_from_json\n",
        "\n",
        "# serialize model to JSON\n",
        "model_json = model.to_json()\n",
        "with open(f\"{model_wgt_path}/model.json\", \"w\") as json_file:\n",
        "    json_file.write(model_json)\n",
        "# serialize weights to HDF5\n",
        "model.save_weights(f\"{model_wgt_path}/model.h5\")\n",
        "print(\"Saved model to disk\")"
      ],
      "metadata": {
        "colab": {
          "base_uri": "https://localhost:8080/"
        },
        "id": "WeMV6k9tg9ug",
        "outputId": "80465df9-70b6-48f6-fdc4-4cc3eaf324f7"
      },
      "execution_count": 19,
      "outputs": [
        {
          "output_type": "stream",
          "name": "stdout",
          "text": [
            "Saved model to disk\n"
          ]
        }
      ]
    },
    {
      "cell_type": "code",
      "execution_count": 20,
      "metadata": {
        "id": "LyCWGjvHqMOa",
        "colab": {
          "base_uri": "https://localhost:8080/",
          "height": 360
        },
        "outputId": "6070cc1b-d681-4fea-8811-9d142668cd1e"
      },
      "outputs": [
        {
          "output_type": "display_data",
          "data": {
            "text/plain": [
              "<Figure size 432x288 with 1 Axes>"
            ],
            "image/png": "[encoded data removed]"
          },
          "metadata": {}
        },
        {
          "output_type": "stream",
          "name": "stdout",
          "text": [
            "Training Accuracy: 0.8145250082015991\n",
            "Validation Accuracy: 0.855400025844574\n"
          ]
        }
      ],
      "source": [
        "import matplotlib.pyplot as plt\n",
        "%matplotlib inline\n",
        "plt.style.use('fivethirtyeight')\n",
        "\n",
        "#acc = history.history['acc']\n",
        "#val_acc = history.history['val_acc']\n",
        "acc = acc_list\n",
        "val_acc =  val_acc_list\n",
        "\n",
        "epochs = range(len(acc))\n",
        "\n",
        "# Plot Training vs. Validation\n",
        "plt.plot(epochs, acc, 'bo', label='Training acc')\n",
        "plt.plot(epochs, val_acc, 'r', label='Validation acc')\n",
        "plt.title('Training and Validation Accuracy')\n",
        "plt.xlabel('Epochs')\n",
        "plt.ylabel('Accuracy')\n",
        "plt.legend()\n",
        "plt.show()\n",
        "\n",
        "print(f\"Training Accuracy: {acc[-1]}\")\n",
        "print(f\"Validation Accuracy: {val_acc[-1]}\")"
      ]
    },
    {
      "cell_type": "markdown",
      "metadata": {
        "id": "HKBxSDUwqMOb"
      },
      "source": [
        "## 3. Train (again) and evaluate the model\n",
        "\n",
        "- To this end, you have found the \"best\" hyper-parameters. \n",
        "- Now, fix the hyper-parameters and train the network on the entire training set (all the 50K training samples)\n",
        "- Evaluate your model on the test set."
      ]
    },
    {
      "cell_type": "markdown",
      "metadata": {
        "id": "GHMEj9bLqMOb"
      },
      "source": [
        "### 3.1. Train the model on the entire training set\n",
        "\n",
        "Why? Previously, you used 40K samples for training; you wasted 10K samples for the sake of hyper-parameter tuning. Now you already know the hyper-parameters, so why not using all the 50K samples for training?"
      ]
    },
    {
      "cell_type": "code",
      "source": [
        "# load json and create model\n",
        "load_model = False\n",
        "\n",
        "if load_model:\n",
        "  json_file = open('model.json', 'r')\n",
        "  loaded_model_json = json_file.read()\n",
        "  json_file.close()\n",
        "  loaded_model = model_from_json(loaded_model_json)\n",
        "  # load weights into new model\n",
        "  loaded_model.load_weights(\"model.h5\")\n",
        "  print(\"Loaded model from disk\")"
      ],
      "metadata": {
        "id": "TW6Mu3pNw0mo"
      },
      "execution_count": 21,
      "outputs": []
    },
    {
      "cell_type": "code",
      "execution_count": 7,
      "metadata": {
        "id": "UyImhVjzqMOb"
      },
      "outputs": [],
      "source": [
        "#from keras import optimizers\n",
        "from tensorflow.keras import optimizers\n",
        "from keras.preprocessing.image import ImageDataGenerator\n",
        "\n",
        "# Data Augmentation\n",
        "train_datagen = ImageDataGenerator(\n",
        "    rescale= rescale,\n",
        "    rotation_range=rotation_range,\n",
        "    width_shift_range=width_shift_range,\n",
        "    height_shift_range=height_shift_range,\n",
        "    shear_range=shear_range,\n",
        "    zoom_range=zoom_range,\n",
        "    horizontal_flip=horizontal_flip\n",
        ")\n",
        "train_datagen.fit(x_train)\n",
        "train_generator = train_datagen.flow(x_train, y_train_vec, batch_size=batch_size)\n",
        "\n",
        "# test data\n",
        "val_datagen = ImageDataGenerator(rescale= rescale)\n",
        "test_generator = val_datagen.flow(x_test, y_test_vec)\n",
        "\n",
        "model.compile(\n",
        "    loss=loss,\n",
        "    optimizer= optimizers.RMSprop(\n",
        "        learning_rate= learning_rate),\n",
        "    metrics = metrics\n",
        ")"
      ]
    },
    {
      "cell_type": "code",
      "execution_count": 29,
      "metadata": {
        "id": "-B2zeIzgqMOc"
      },
      "outputs": [],
      "source": [
        "#history = model.fit(train_generator, epochs=40)"
      ]
    },
    {
      "cell_type": "code",
      "source": [
        "# Run the Model\n",
        "# TRAIN\n",
        "# epoch start point\n",
        "epoch_i = 0\n",
        "epochs_to_run = 10  # number of epochs per round\n",
        "\n",
        "history = model.fit(train_generator, epochs=epochs_to_run)\n",
        "model.save_weights(f'{model_wgt_path}/my_checkpoint_tr{epoch_i}')\n",
        "print(f\"Model weights {epoch_i} to disk\")"
      ],
      "metadata": {
        "colab": {
          "base_uri": "https://localhost:8080/"
        },
        "id": "JQM47IOTbb36",
        "outputId": "e57bde38-85d5-4edf-ac3c-c34d943dc5ad"
      },
      "execution_count": 30,
      "outputs": [
        {
          "output_type": "stream",
          "name": "stdout",
          "text": [
            "Epoch 1/10\n",
            "1563/1563 [==============================] - 460s 292ms/step - loss: 1.6997 - acc: 0.3900\n",
            "Epoch 2/10\n",
            "1563/1563 [==============================] - 459s 293ms/step - loss: 1.3168 - acc: 0.5299\n",
            "Epoch 3/10\n",
            "1563/1563 [==============================] - 460s 294ms/step - loss: 1.1482 - acc: 0.5957\n",
            "Epoch 4/10\n",
            "1563/1563 [==============================] - 457s 292ms/step - loss: 1.0627 - acc: 0.6302\n",
            "Epoch 5/10\n",
            "1563/1563 [==============================] - 457s 292ms/step - loss: 0.9871 - acc: 0.6568\n",
            "Epoch 6/10\n",
            "1563/1563 [==============================] - 458s 293ms/step - loss: 0.9433 - acc: 0.6763\n",
            "Epoch 7/10\n",
            "1563/1563 [==============================] - 457s 292ms/step - loss: 0.9059 - acc: 0.6883\n",
            "Epoch 8/10\n",
            "1563/1563 [==============================] - 455s 291ms/step - loss: 0.8679 - acc: 0.7010\n",
            "Epoch 9/10\n",
            "1563/1563 [==============================] - 459s 294ms/step - loss: 0.8422 - acc: 0.7094\n",
            "Epoch 10/10\n",
            "1563/1563 [==============================] - 455s 291ms/step - loss: 0.8166 - acc: 0.7201\n",
            "Model weights 0 to disk\n"
          ]
        }
      ]
    },
    {
      "cell_type": "code",
      "source": [
        "# TRAIN 1\n",
        "epoch_i = 1\n",
        "epochs_to_run = 10  # number of epochs per round\n",
        "\n",
        "epoch_i -= 1\n",
        "\n",
        "# load model wgts\n",
        "model.load_weights(f'{model_wgt_path}/my_checkpoint_tr{epoch_i}')\n",
        "print(f'Model weights {epoch_i} loaded')\n",
        "\n",
        "#train model\n",
        "history = model.fit(train_generator, epochs=epochs_to_run)\n",
        "\n",
        "# save model wgts to next iteration\n",
        "epoch_i += 1\n",
        "print(epoch_i)\n",
        "model.save_weights(f'{model_wgt_path}/my_checkpoint_tr{epoch_i}')\n",
        "print(f\"Model weights {epoch_i} to disk\")"
      ],
      "metadata": {
        "colab": {
          "base_uri": "https://localhost:8080/"
        },
        "id": "HhCD2L2QcCoT",
        "outputId": "f1c54ad7-8a49-486d-fc6b-42653919cd23"
      },
      "execution_count": 31,
      "outputs": [
        {
          "output_type": "stream",
          "name": "stdout",
          "text": [
            "Model weights 0 loaded\n",
            "Epoch 1/10\n",
            "1563/1563 [==============================] - 460s 294ms/step - loss: 0.8018 - acc: 0.7266\n",
            "Epoch 2/10\n",
            "1563/1563 [==============================] - 459s 293ms/step - loss: 0.7807 - acc: 0.7353\n",
            "Epoch 3/10\n",
            "1563/1563 [==============================] - 454s 290ms/step - loss: 0.7672 - acc: 0.7392\n",
            "Epoch 4/10\n",
            "1563/1563 [==============================] - 456s 292ms/step - loss: 0.7501 - acc: 0.7451\n",
            "Epoch 5/10\n",
            "1563/1563 [==============================] - 452s 289ms/step - loss: 0.7372 - acc: 0.7471\n",
            "Epoch 6/10\n",
            "1563/1563 [==============================] - 446s 286ms/step - loss: 0.7293 - acc: 0.7520\n",
            "Epoch 7/10\n",
            "1563/1563 [==============================] - 441s 282ms/step - loss: 0.7140 - acc: 0.7565\n",
            "Epoch 8/10\n",
            "1563/1563 [==============================] - 442s 283ms/step - loss: 0.6987 - acc: 0.7605\n",
            "Epoch 9/10\n",
            "1563/1563 [==============================] - 441s 282ms/step - loss: 0.6982 - acc: 0.7646\n",
            "Epoch 10/10\n",
            "1563/1563 [==============================] - 447s 286ms/step - loss: 0.6854 - acc: 0.7682\n",
            "1\n",
            "Model weights 1 to disk\n"
          ]
        }
      ]
    },
    {
      "cell_type": "code",
      "source": [
        "# TRAIN 2\n",
        "epoch_i = 2\n",
        "epochs_to_run = 10  # number of epochs per round\n",
        "\n",
        "epoch_i -= 1\n",
        "\n",
        "# load model wgts\n",
        "model.load_weights(f'{model_wgt_path}/my_checkpoint_tr{epoch_i}')\n",
        "print(f'Model weights {epoch_i} loaded')\n",
        "\n",
        "#train model\n",
        "history = model.fit(train_generator, epochs=epochs_to_run)\n",
        "\n",
        "# save model wgts to next iteration\n",
        "epoch_i += 1\n",
        "print(epoch_i)\n",
        "model.save_weights(f'{model_wgt_path}/my_checkpoint_tr{epoch_i}')\n",
        "print(f\"Model weights {epoch_i} to disk\")"
      ],
      "metadata": {
        "colab": {
          "base_uri": "https://localhost:8080/"
        },
        "id": "MAzjK5r-e5oD",
        "outputId": "36d8a971-242c-4192-cff3-1389644d3404"
      },
      "execution_count": 32,
      "outputs": [
        {
          "output_type": "stream",
          "name": "stdout",
          "text": [
            "Model weights 1 loaded\n",
            "Epoch 1/10\n",
            "1563/1563 [==============================] - 451s 288ms/step - loss: 0.6794 - acc: 0.7688\n",
            "Epoch 2/10\n",
            "1563/1563 [==============================] - 442s 283ms/step - loss: 0.6769 - acc: 0.7704\n",
            "Epoch 3/10\n",
            "1563/1563 [==============================] - 449s 287ms/step - loss: 0.6617 - acc: 0.7751\n",
            "Epoch 4/10\n",
            "1563/1563 [==============================] - 452s 289ms/step - loss: 0.6566 - acc: 0.7764\n",
            "Epoch 5/10\n",
            "1563/1563 [==============================] - 453s 290ms/step - loss: 0.6554 - acc: 0.7778\n",
            "Epoch 6/10\n",
            "1563/1563 [==============================] - 453s 290ms/step - loss: 0.6470 - acc: 0.7810\n",
            "Epoch 7/10\n",
            "1563/1563 [==============================] - 453s 290ms/step - loss: 0.6409 - acc: 0.7823\n",
            "Epoch 8/10\n",
            "1563/1563 [==============================] - 453s 290ms/step - loss: 0.6353 - acc: 0.7848\n",
            "Epoch 9/10\n",
            "1563/1563 [==============================] - 452s 289ms/step - loss: 0.6298 - acc: 0.7856\n",
            "Epoch 10/10\n",
            "1563/1563 [==============================] - 449s 288ms/step - loss: 0.6266 - acc: 0.7871\n",
            "2\n",
            "Model weights 2 to disk\n"
          ]
        }
      ]
    },
    {
      "cell_type": "code",
      "source": [
        "# TRAIN 3\n",
        "epoch_i = 3\n",
        "epochs_to_run = 10  # number of epochs per round\n",
        "\n",
        "epoch_i -= 1\n",
        "\n",
        "# load model wgts\n",
        "model.load_weights(f'{model_wgt_path}/my_checkpoint_tr{epoch_i}')\n",
        "print(f'Model weights {epoch_i} loaded')\n",
        "\n",
        "#train model\n",
        "history = model.fit(train_generator, epochs=epochs_to_run)\n",
        "\n",
        "# save model wgts to next iteration\n",
        "epoch_i += 1\n",
        "print(epoch_i)\n",
        "model.save_weights(f'{model_wgt_path}/my_checkpoint_tr{epoch_i}')\n",
        "print(f\"Model weights {epoch_i} to disk\")"
      ],
      "metadata": {
        "colab": {
          "base_uri": "https://localhost:8080/"
        },
        "id": "ZzibrkeEy1iO",
        "outputId": "5700a9a3-8c62-4c76-b57c-7a11a4d764c2"
      },
      "execution_count": 11,
      "outputs": [
        {
          "output_type": "stream",
          "name": "stdout",
          "text": [
            "Model weights 2 loaded\n",
            "Epoch 1/10\n",
            "1563/1563 [==============================] - 511s 325ms/step - loss: 0.6232 - acc: 0.7891\n",
            "Epoch 2/10\n",
            "1563/1563 [==============================] - 505s 323ms/step - loss: 0.6233 - acc: 0.7874\n",
            "Epoch 3/10\n",
            "1563/1563 [==============================] - 502s 321ms/step - loss: 0.6134 - acc: 0.7924\n",
            "Epoch 4/10\n",
            "1563/1563 [==============================] - 521s 333ms/step - loss: 0.6065 - acc: 0.7947\n",
            "Epoch 5/10\n",
            "1563/1563 [==============================] - 526s 336ms/step - loss: 0.6062 - acc: 0.7958\n",
            "Epoch 6/10\n",
            "1563/1563 [==============================] - 520s 332ms/step - loss: 0.6049 - acc: 0.7950\n",
            "Epoch 7/10\n",
            "1563/1563 [==============================] - 520s 333ms/step - loss: 0.6021 - acc: 0.7960\n",
            "Epoch 8/10\n",
            "1563/1563 [==============================] - 519s 332ms/step - loss: 0.6022 - acc: 0.7972\n",
            "Epoch 9/10\n",
            "1563/1563 [==============================] - 524s 335ms/step - loss: 0.5987 - acc: 0.7985\n",
            "Epoch 10/10\n",
            "1563/1563 [==============================] - 515s 329ms/step - loss: 0.5872 - acc: 0.8004\n",
            "3\n",
            "Model weights 3 to disk\n"
          ]
        }
      ]
    },
    {
      "cell_type": "code",
      "source": [
        "# TRAIN 4\n",
        "epoch_i = 4\n",
        "epochs_to_run = 10  # number of epochs per round\n",
        "\n",
        "epoch_i -= 1\n",
        "\n",
        "# load model wgts\n",
        "model.load_weights(f'{model_wgt_path}/my_checkpoint_tr{epoch_i}')\n",
        "print(f'Model weights {epoch_i} loaded')\n",
        "\n",
        "#train model\n",
        "history = model.fit(train_generator, epochs=epochs_to_run)\n",
        "\n",
        "# save model wgts to next iteration\n",
        "epoch_i += 1\n",
        "print(epoch_i)\n",
        "model.save_weights(f'{model_wgt_path}/my_checkpoint_tr{epoch_i}')\n",
        "print(f\"Model weights {epoch_i} to disk\")"
      ],
      "metadata": {
        "colab": {
          "base_uri": "https://localhost:8080/"
        },
        "id": "tj2lSRmmLPju",
        "outputId": "ba20868c-fc91-4a8c-f5d4-0ec65b3b8406"
      },
      "execution_count": 12,
      "outputs": [
        {
          "output_type": "stream",
          "name": "stdout",
          "text": [
            "Model weights 3 loaded\n",
            "Epoch 1/10\n",
            "1563/1563 [==============================] - 512s 327ms/step - loss: 0.5881 - acc: 0.7999\n",
            "Epoch 2/10\n",
            "1563/1563 [==============================] - 518s 331ms/step - loss: 0.5816 - acc: 0.8027\n",
            "Epoch 3/10\n",
            "1563/1563 [==============================] - 515s 329ms/step - loss: 0.5848 - acc: 0.8039\n",
            "Epoch 4/10\n",
            "1563/1563 [==============================] - 513s 328ms/step - loss: 0.5795 - acc: 0.8039\n",
            "Epoch 5/10\n",
            "1563/1563 [==============================] - 509s 326ms/step - loss: 0.5778 - acc: 0.8069\n",
            "Epoch 6/10\n",
            "1563/1563 [==============================] - 510s 326ms/step - loss: 0.5749 - acc: 0.8051\n",
            "Epoch 7/10\n",
            "1563/1563 [==============================] - 509s 326ms/step - loss: 0.5761 - acc: 0.8058\n",
            "Epoch 8/10\n",
            "1563/1563 [==============================] - 517s 331ms/step - loss: 0.5733 - acc: 0.8080\n",
            "Epoch 9/10\n",
            "1563/1563 [==============================] - 520s 333ms/step - loss: 0.5687 - acc: 0.8076\n",
            "Epoch 10/10\n",
            "1563/1563 [==============================] - 506s 324ms/step - loss: 0.5696 - acc: 0.8064\n",
            "4\n",
            "Model weights 4 to disk\n"
          ]
        }
      ]
    },
    {
      "cell_type": "code",
      "source": [
        "# TRAIN 5\n",
        "epoch_i = 5\n",
        "epochs_to_run = 10  # number of epochs per round\n",
        "\n",
        "epoch_i -= 1\n",
        "\n",
        "# load model wgts\n",
        "model.load_weights(f'{model_wgt_path}/my_checkpoint_tr{epoch_i}')\n",
        "print(f'Model weights {epoch_i} loaded')\n",
        "\n",
        "#train model\n",
        "history = model.fit(train_generator, epochs=epochs_to_run)\n",
        "\n",
        "# save model wgts to next iteration\n",
        "epoch_i += 1\n",
        "print(epoch_i)\n",
        "model.save_weights(f'{model_wgt_path}/my_checkpoint_tr{epoch_i}')\n",
        "print(f\"Model weights {epoch_i} to disk\")"
      ],
      "metadata": {
        "colab": {
          "base_uri": "https://localhost:8080/"
        },
        "id": "TZWeHMvDCuZ9",
        "outputId": "dd8d8269-e6d1-4660-a92b-2b64a121d6c0"
      },
      "execution_count": 10,
      "outputs": [
        {
          "output_type": "stream",
          "name": "stdout",
          "text": [
            "Model weights 4 loaded\n",
            "Epoch 1/10\n",
            "1563/1563 [==============================] - 490s 312ms/step - loss: 0.5719 - acc: 0.8081\n",
            "Epoch 2/10\n",
            "1563/1563 [==============================] - 484s 309ms/step - loss: 0.5631 - acc: 0.8087\n",
            "Epoch 3/10\n",
            "1563/1563 [==============================] - 483s 309ms/step - loss: 0.5627 - acc: 0.8087\n",
            "Epoch 4/10\n",
            "1563/1563 [==============================] - 484s 310ms/step - loss: 0.5553 - acc: 0.8129\n",
            "Epoch 5/10\n",
            "1563/1563 [==============================] - 483s 309ms/step - loss: 0.5587 - acc: 0.8115\n",
            "Epoch 6/10\n",
            "1563/1563 [==============================] - 483s 309ms/step - loss: 0.5602 - acc: 0.8108\n",
            "Epoch 7/10\n",
            "1563/1563 [==============================] - 485s 310ms/step - loss: 0.5500 - acc: 0.8141\n",
            "Epoch 8/10\n",
            "1563/1563 [==============================] - 483s 309ms/step - loss: 0.5582 - acc: 0.8116\n",
            "Epoch 9/10\n",
            "1563/1563 [==============================] - 499s 319ms/step - loss: 0.5518 - acc: 0.8124\n",
            "Epoch 10/10\n",
            "1563/1563 [==============================] - 498s 318ms/step - loss: 0.5454 - acc: 0.8159\n",
            "5\n",
            "Model weights 5 to disk\n"
          ]
        }
      ]
    },
    {
      "cell_type": "code",
      "source": [
        "# TRAIN 6\n",
        "epoch_i = 6\n",
        "epochs_to_run = 5  # number of epochs per round\n",
        "\n",
        "epoch_i -= 1\n",
        "\n",
        "# load model wgts\n",
        "model.load_weights(f'{model_wgt_path}/my_checkpoint_tr{epoch_i}')\n",
        "print(f'Model weights {epoch_i} loaded')\n",
        "\n",
        "#train model\n",
        "history = model.fit(train_generator, epochs=epochs_to_run)\n",
        "\n",
        "# save model wgts to next iteration\n",
        "epoch_i += 1\n",
        "print(epoch_i)\n",
        "model.save_weights(f'{model_wgt_path}/my_checkpoint_tr{epoch_i}')\n",
        "print(f\"Model weights {epoch_i} to disk\")"
      ],
      "metadata": {
        "colab": {
          "base_uri": "https://localhost:8080/"
        },
        "id": "E0ifMEM425V4",
        "outputId": "d64b2c89-2192-4149-c600-a57f494f083f"
      },
      "execution_count": 8,
      "outputs": [
        {
          "output_type": "stream",
          "name": "stdout",
          "text": [
            "Model weights 5 loaded\n",
            "Epoch 1/5\n",
            "1250/1250 [==============================] - 437s 346ms/step - loss: 0.5483 - acc: 0.8152\n",
            "Epoch 2/5\n",
            "1250/1250 [==============================] - 425s 340ms/step - loss: 0.5421 - acc: 0.8166\n",
            "Epoch 3/5\n",
            "1250/1250 [==============================] - 421s 337ms/step - loss: 0.5461 - acc: 0.8167\n",
            "Epoch 4/5\n",
            "1250/1250 [==============================] - 413s 330ms/step - loss: 0.5388 - acc: 0.8189\n",
            "Epoch 5/5\n",
            "1250/1250 [==============================] - 413s 331ms/step - loss: 0.5423 - acc: 0.8170\n",
            "6\n",
            "Model weights 6 to disk\n"
          ]
        }
      ]
    },
    {
      "cell_type": "code",
      "source": [
        "# TRAIN 7\n",
        "epoch_i = 7\n",
        "epochs_to_run = 10  # number of epochs per round\n",
        "\n",
        "epoch_i -= 1\n",
        "\n",
        "# load model wgts\n",
        "model.load_weights(f'{model_wgt_path}/my_checkpoint_tr{epoch_i}')\n",
        "print(f'Model weights {epoch_i} loaded')\n",
        "\n",
        "#train model\n",
        "history = model.fit(train_generator, epochs=epochs_to_run)\n",
        "\n",
        "# save model wgts to next iteration\n",
        "epoch_i += 1\n",
        "print(epoch_i)\n",
        "model.save_weights(f'{model_wgt_path}/my_checkpoint_tr{epoch_i}')\n",
        "print(f\"Model weights {epoch_i} to disk\")"
      ],
      "metadata": {
        "colab": {
          "base_uri": "https://localhost:8080/"
        },
        "id": "OC7KR2ziCJhP",
        "outputId": "cea7e27d-0c3f-45bc-fadd-eefb4779d004"
      },
      "execution_count": 16,
      "outputs": [
        {
          "output_type": "stream",
          "name": "stdout",
          "text": [
            "Model weights 6 loaded\n",
            "Epoch 1/10\n",
            "1250/1250 [==============================] - 409s 327ms/step - loss: 0.5472 - acc: 0.8165\n",
            "Epoch 2/10\n",
            "1250/1250 [==============================] - 406s 325ms/step - loss: 0.5357 - acc: 0.8203\n",
            "Epoch 3/10\n",
            "1250/1250 [==============================] - 424s 339ms/step - loss: 0.5312 - acc: 0.8211\n",
            "Epoch 4/10\n",
            "1250/1250 [==============================] - 420s 336ms/step - loss: 0.5352 - acc: 0.8181\n",
            "Epoch 5/10\n",
            "1250/1250 [==============================] - 431s 345ms/step - loss: 0.5368 - acc: 0.8159\n",
            "Epoch 6/10\n",
            "1250/1250 [==============================] - 426s 341ms/step - loss: 0.5353 - acc: 0.8174\n",
            "Epoch 7/10\n",
            "1250/1250 [==============================] - 425s 340ms/step - loss: 0.5298 - acc: 0.8207\n",
            "Epoch 8/10\n",
            "1250/1250 [==============================] - 425s 340ms/step - loss: 0.5298 - acc: 0.8197\n",
            "Epoch 9/10\n",
            "1250/1250 [==============================] - 426s 341ms/step - loss: 0.5272 - acc: 0.8230\n",
            "Epoch 10/10\n",
            "1250/1250 [==============================] - 432s 345ms/step - loss: 0.5261 - acc: 0.8240\n",
            "7\n",
            "Model weights 7 to disk\n"
          ]
        }
      ]
    },
    {
      "cell_type": "code",
      "source": [
        "# TRAIN 8\n",
        "epoch_i = 8\n",
        "epochs_to_run = 10  # number of epochs per round\n",
        "\n",
        "epoch_i -= 1\n",
        "\n",
        "# load model wgts\n",
        "model.load_weights(f'{model_wgt_path}/my_checkpoint_tr{epoch_i}')\n",
        "print(f'Model weights {epoch_i} loaded')\n",
        "\n",
        "#train model\n",
        "history = model.fit(train_generator, epochs=epochs_to_run)\n",
        "\n",
        "# save model wgts to next iteration\n",
        "epoch_i += 1\n",
        "print(epoch_i)\n",
        "model.save_weights(f'{model_wgt_path}/my_checkpoint_tr{epoch_i}')\n",
        "print(f\"Model weights {epoch_i} to disk\")"
      ],
      "metadata": {
        "colab": {
          "base_uri": "https://localhost:8080/"
        },
        "id": "yzwiHThBZU_f",
        "outputId": "0e905094-87d9-41f1-ff24-b7c3e73f1c81"
      },
      "execution_count": 18,
      "outputs": [
        {
          "output_type": "stream",
          "name": "stdout",
          "text": [
            "Model weights 7 loaded\n",
            "Epoch 1/10\n",
            "1250/1250 [==============================] - 442s 354ms/step - loss: 0.5246 - acc: 0.8245\n",
            "Epoch 2/10\n",
            "1250/1250 [==============================] - 429s 343ms/step - loss: 0.5225 - acc: 0.8232\n",
            "Epoch 3/10\n",
            "1250/1250 [==============================] - 428s 342ms/step - loss: 0.5300 - acc: 0.8244\n",
            "Epoch 4/10\n",
            "1250/1250 [==============================] - 427s 342ms/step - loss: 0.5232 - acc: 0.8251\n",
            "Epoch 5/10\n",
            "1250/1250 [==============================] - 453s 363ms/step - loss: 0.5259 - acc: 0.8250\n",
            "Epoch 6/10\n",
            "1250/1250 [==============================] - 442s 353ms/step - loss: 0.5206 - acc: 0.8223\n",
            "Epoch 7/10\n",
            "1250/1250 [==============================] - 435s 348ms/step - loss: 0.5198 - acc: 0.8255\n",
            "Epoch 8/10\n",
            "1250/1250 [==============================] - 430s 344ms/step - loss: 0.5195 - acc: 0.8256\n",
            "Epoch 9/10\n",
            "1250/1250 [==============================] - 428s 342ms/step - loss: 0.5182 - acc: 0.8260\n",
            "Epoch 10/10\n",
            "1250/1250 [==============================] - 434s 347ms/step - loss: 0.5185 - acc: 0.8260\n",
            "8\n",
            "Model weights 8 to disk\n"
          ]
        }
      ]
    },
    {
      "cell_type": "code",
      "source": [
        "# TRAIN 9\n",
        "epoch_i = 9\n",
        "epochs_to_run = 5  # number of epochs per round\n",
        "\n",
        "epoch_i -= 1\n",
        "\n",
        "# load model wgts\n",
        "model.load_weights(f'{model_wgt_path}/my_checkpoint_tr{epoch_i}')\n",
        "print(f'Model weights {epoch_i} loaded')\n",
        "\n",
        "#train model\n",
        "history = model.fit(train_generator, epochs=epochs_to_run)\n",
        "\n",
        "# save model wgts to next iteration\n",
        "epoch_i += 1\n",
        "print(epoch_i)\n",
        "model.save_weights(f'{model_wgt_path}/my_checkpoint_tr{epoch_i}')\n",
        "print(f\"Model weights {epoch_i} to disk\")"
      ],
      "metadata": {
        "colab": {
          "base_uri": "https://localhost:8080/"
        },
        "id": "PKizRwNNZacu",
        "outputId": "ded750bc-9724-40d9-a49f-573702571baa"
      },
      "execution_count": 19,
      "outputs": [
        {
          "output_type": "stream",
          "name": "stdout",
          "text": [
            "Model weights 8 loaded\n",
            "Epoch 1/5\n",
            "1250/1250 [==============================] - 430s 344ms/step - loss: 0.5211 - acc: 0.8269\n",
            "Epoch 2/5\n",
            "1250/1250 [==============================] - 425s 340ms/step - loss: 0.5184 - acc: 0.8257\n",
            "Epoch 3/5\n",
            "1250/1250 [==============================] - 436s 349ms/step - loss: 0.5171 - acc: 0.8258\n",
            "Epoch 4/5\n",
            "1250/1250 [==============================] - 428s 342ms/step - loss: 0.5165 - acc: 0.8258\n",
            "Epoch 5/5\n",
            "1250/1250 [==============================] - 429s 343ms/step - loss: 0.5064 - acc: 0.8309\n",
            "9\n",
            "Model weights 9 to disk\n"
          ]
        }
      ]
    },
    {
      "cell_type": "code",
      "source": [
        "# Save fully trained model\n",
        "# serialize model to JSON\n",
        "model_json = model.to_json()\n",
        "with open(\"model.json\", \"w\") as json_file:\n",
        "    json_file.write(model_json)\n",
        "# serialize weights to HDF5\n",
        "model.save_weights(\"model.h5\")\n",
        "print(\"Saved model to disk\")"
      ],
      "metadata": {
        "colab": {
          "base_uri": "https://localhost:8080/"
        },
        "id": "hJLBeYZPihK5",
        "outputId": "4057e806-542a-45c3-faf7-7322b55509ed"
      },
      "execution_count": 20,
      "outputs": [
        {
          "output_type": "stream",
          "name": "stdout",
          "text": [
            "Saved model to disk\n"
          ]
        }
      ]
    },
    {
      "cell_type": "markdown",
      "metadata": {
        "id": "Kzkm1BS_qMOc"
      },
      "source": [
        "### 3.2. Evaluate the model on the test set\n",
        "\n",
        "Do NOT used the test set until now. Make sure that your model parameters and hyper-parameters are independent of the test set."
      ]
    },
    {
      "cell_type": "code",
      "execution_count": 21,
      "metadata": {
        "id": "cMjUqGypqMOe",
        "colab": {
          "base_uri": "https://localhost:8080/"
        },
        "outputId": "4aea234b-54a8-49b1-8d1f-79e16eb221d0"
      },
      "outputs": [
        {
          "output_type": "stream",
          "name": "stdout",
          "text": [
            "313/313 [==============================] - 24s 76ms/step - loss: 0.4729 - acc: 0.8480\n",
            "loss = 0.47292205691337585\n",
            "accuracy = 0.8479999899864197\n"
          ]
        }
      ],
      "source": [
        "\n",
        "loss_and_acc = model.evaluate(test_generator)\n",
        "#loss_and_acc = model.evaluate(x_test, y_test_vec)\n",
        "print('loss = ' + str(loss_and_acc[0]))\n",
        "print('accuracy = ' + str(loss_and_acc[1]))"
      ]
    },
    {
      "cell_type": "code",
      "execution_count": null,
      "metadata": {
        "id": "lWXb2aWcqMOg"
      },
      "outputs": [],
      "source": [
        ""
      ]
    }
  ],
  "metadata": {
    "kernelspec": {
      "display_name": "Python 3",
      "language": "python",
      "name": "python3"
    },
    "language_info": {
      "codemirror_mode": {
        "name": "ipython",
        "version": 3
      },
      "file_extension": ".py",
      "mimetype": "text/x-python",
      "name": "python",
      "nbconvert_exporter": "python",
      "pygments_lexer": "ipython3",
      "version": "3.8.8"
    },
    "colab": {
      "name": "Programming2.ipynb",
      "provenance": [],
      "collapsed_sections": [],
      "include_colab_link": true
    }
  },
  "nbformat": 4,
  "nbformat_minor": 0
}