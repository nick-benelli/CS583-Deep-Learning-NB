{
 "cells": [
  {
   "cell_type": "markdown",
   "metadata": {},
   "source": [
    "# Programming Assignment: Numerical Optimization for Logistic Regression.\n",
    "\n",
    "### Name: Nick Benelli\n"
   ]
  },
  {
   "cell_type": "markdown",
   "metadata": {},
   "source": [
    "## 0. You will do the following:\n",
    "\n",
    "1. Read the lecture note: [click here](https://github.com/wangshusen/DeepLearning/blob/master/LectureNotes/Logistic/paper/logistic.pdf)\n",
    "\n",
    "2. Read, complete, and run my code.\n",
    "\n",
    "3. **Implement mini-batch SGD** and evaluate the performance.\n",
    "\n",
    "4. Convert the .IPYNB file to .HTML file.\n",
    "\n",
    "    * The HTML file must contain **the code** and **the output after execution**.\n",
    "    \n",
    "    * Missing **the output after execution** will not be graded.\n",
    "    \n",
    "    \n",
    "5. Upload this .HTML file to your Google Drive, Dropbox, or your Github repo.  (If you submit the file to Google Drive or Dropbox, you must make the file \"open-access\". The delay caused by \"deny of access\" may result in late penalty.)\n",
    "\n",
    "6. On Canvas, submit the Google Drive/Dropbox/Github link to the HTML file.\n",
    "\n",
    "\n",
    "## Grading criteria:\n",
    "\n",
    "1. When computing the ```gradient``` and ```objective function value``` using a batch of samples, use **matrix-vector multiplication** rather than a FOR LOOP of **vector-vector multiplications**.\n",
    "\n",
    "2. Plot ```objective function value``` against ```epochs```. In the plot, compare GD, SGD, and MB-SGD (with $b=8$ and $b=64$). The plot must look reasonable."
   ]
  },
  {
   "cell_type": "code",
   "execution_count": null,
   "metadata": {},
   "outputs": [],
   "source": []
  },
  {
   "cell_type": "markdown",
   "metadata": {},
   "source": [
    "# 1. Data processing\n",
    "\n",
    "- Download the Diabete dataset from https://www.csie.ntu.edu.tw/~cjlin/libsvmtools/datasets/binary/diabetes\n",
    "- Load the data using sklearn.\n",
    "- Preprocess the data."
   ]
  },
  {
   "cell_type": "markdown",
   "metadata": {},
   "source": [
    "## 1.1. Load the data"
   ]
  },
  {
   "cell_type": "code",
   "execution_count": 1,
   "metadata": {},
   "outputs": [
    {
     "name": "stdout",
     "output_type": "stream",
     "text": [
      "Shape of x: (768, 8)\n",
      "Shape of y: (768,)\n"
     ]
    }
   ],
   "source": [
    "from sklearn import datasets\n",
    "import numpy\n",
    "import warnings\n",
    "warnings.filterwarnings(\"ignore\", category=UserWarning)\n",
    "\n",
    "x_sparse, y = datasets.load_svmlight_file('diabetes.txt')\n",
    "x = x_sparse.todense()\n",
    "\n",
    "print('Shape of x: ' + str(x.shape))\n",
    "print('Shape of y: ' + str(y.shape))"
   ]
  },
  {
   "cell_type": "markdown",
   "metadata": {},
   "source": [
    "## 1.2. Partition to training and test sets"
   ]
  },
  {
   "cell_type": "code",
   "execution_count": 2,
   "metadata": {},
   "outputs": [
    {
     "name": "stdout",
     "output_type": "stream",
     "text": [
      "Shape of x_train: (640, 8)\n",
      "Shape of x_test: (128, 8)\n",
      "Shape of y_train: (640, 1)\n",
      "Shape of y_test: (128, 1)\n"
     ]
    }
   ],
   "source": [
    "# partition the data to training and test sets\n",
    "n = x.shape[0]\n",
    "n_train = 640\n",
    "n_test = n - n_train\n",
    "\n",
    "rand_indices = numpy.random.permutation(n)\n",
    "train_indices = rand_indices[0:n_train]\n",
    "test_indices = rand_indices[n_train:n]\n",
    "\n",
    "x_train = x[train_indices, :]\n",
    "x_test = x[test_indices, :]\n",
    "y_train = y[train_indices].reshape(n_train, 1)\n",
    "y_test = y[test_indices].reshape(n_test, 1)\n",
    "\n",
    "print('Shape of x_train: ' + str(x_train.shape))\n",
    "print('Shape of x_test: ' + str(x_test.shape))\n",
    "print('Shape of y_train: ' + str(y_train.shape))\n",
    "print('Shape of y_test: ' + str(y_test.shape))"
   ]
  },
  {
   "cell_type": "markdown",
   "metadata": {},
   "source": [
    "## 1.3. Feature scaling"
   ]
  },
  {
   "cell_type": "markdown",
   "metadata": {},
   "source": [
    "Use the standardization to trainsform both training and test features"
   ]
  },
  {
   "cell_type": "code",
   "execution_count": 3,
   "metadata": {},
   "outputs": [
    {
     "name": "stdout",
     "output_type": "stream",
     "text": [
      "test mean = \n",
      "[[ 0.16245785 -0.02097862 -0.1580922  -0.02091155  0.10803989 -0.16290386\n",
      "   0.09737051  0.0732707 ]]\n",
      "test std = \n",
      "[[1.04225143 1.08208613 1.03888597 0.98161317 1.28500117 0.90073669\n",
      "  1.20255918 0.97709841]]\n"
     ]
    }
   ],
   "source": [
    "# Standardization\n",
    "import numpy\n",
    "\n",
    "# calculate mu and sig using the training set\n",
    "d = x_train.shape[1]\n",
    "mu = numpy.mean(x_train, axis=0).reshape(1, d)\n",
    "sig = numpy.std(x_train, axis=0).reshape(1, d)\n",
    "\n",
    "# transform the training features\n",
    "x_train = (x_train - mu) / (sig + 1E-6)\n",
    "\n",
    "# transform the test features\n",
    "x_test = (x_test - mu) / (sig + 1E-6)\n",
    "\n",
    "print('test mean = ')\n",
    "print(numpy.mean(x_test, axis=0))\n",
    "\n",
    "print('test std = ')\n",
    "print(numpy.std(x_test, axis=0))"
   ]
  },
  {
   "cell_type": "markdown",
   "metadata": {},
   "source": [
    "## 1.4. Add a dimension of all ones"
   ]
  },
  {
   "cell_type": "code",
   "execution_count": 4,
   "metadata": {},
   "outputs": [
    {
     "name": "stdout",
     "output_type": "stream",
     "text": [
      "Shape of x_train: (640, 9)\n",
      "Shape of x_test: (128, 9)\n"
     ]
    }
   ],
   "source": [
    "n_train, d = x_train.shape\n",
    "x_train = numpy.concatenate((x_train, numpy.ones((n_train, 1))), axis=1)\n",
    "\n",
    "n_test, d = x_test.shape\n",
    "x_test = numpy.concatenate((x_test, numpy.ones((n_test, 1))), axis=1)\n",
    "\n",
    "print('Shape of x_train: ' + str(x_train.shape))\n",
    "print('Shape of x_test: ' + str(x_test.shape))"
   ]
  },
  {
   "cell_type": "markdown",
   "metadata": {},
   "source": [
    "# 2. Logistic regression model\n",
    "\n",
    "The objective function is $Q (w; X, y) = \\frac{1}{n} \\sum_{i=1}^n \\log \\Big( 1 + \\exp \\big( - y_i x_i^T w \\big) \\Big) + \\frac{\\lambda}{2} \\| w \\|_2^2 $."
   ]
  },
  {
   "cell_type": "code",
   "execution_count": 5,
   "metadata": {},
   "outputs": [],
   "source": [
    "# Calculate the objective function value\n",
    "# Inputs:\n",
    "#     w: d-by-1 matrix\n",
    "#     x: n-by-d matrix\n",
    "#     y: n-by-1 matrix\n",
    "#     lam: scalar, the regularization parameter\n",
    "# Return:\n",
    "#     objective function value (scalar)\n",
    "def objective(w, x, y, lam):\n",
    "    n, d = x.shape\n",
    "    yx = numpy.multiply(y, x) # n-by-d matrix\n",
    "    yxw = numpy.dot(yx, w) # n-by-1 matrix\n",
    "    vec1 = numpy.exp(-yxw) # n-by-1 matrix\n",
    "    vec2 = numpy.log(1 + vec1) # n-by-1 matrix\n",
    "    loss = numpy.mean(vec2) # scalar\n",
    "    reg = lam / 2 * numpy.sum(w * w) # scalar\n",
    "    return loss + reg\n",
    "    "
   ]
  },
  {
   "cell_type": "code",
   "execution_count": 6,
   "metadata": {},
   "outputs": [
    {
     "name": "stdout",
     "output_type": "stream",
     "text": [
      "Initial objective function value = 0.6931471805599453\n"
     ]
    }
   ],
   "source": [
    "# initialize w\n",
    "d = x_train.shape[1]\n",
    "w = numpy.zeros((d, 1))\n",
    "\n",
    "# evaluate the objective function value at w\n",
    "lam = 1E-6\n",
    "objval0 = objective(w, x_train, y_train, lam)\n",
    "print('Initial objective function value = ' + str(objval0))"
   ]
  },
  {
   "cell_type": "markdown",
   "metadata": {},
   "source": [
    "# 3. Numerical optimization"
   ]
  },
  {
   "cell_type": "markdown",
   "metadata": {},
   "source": [
    "## 3.1. Gradient descent\n"
   ]
  },
  {
   "cell_type": "markdown",
   "metadata": {},
   "source": [
    "The gradient at $w$ is $g = - \\frac{1}{n} \\sum_{i=1}^n \\frac{y_i x_i }{1 + \\exp ( y_i x_i^T w)} + \\lambda w$"
   ]
  },
  {
   "cell_type": "code",
   "execution_count": 7,
   "metadata": {},
   "outputs": [],
   "source": [
    "# Calculate the gradient\n",
    "# Inputs:\n",
    "#     w: d-by-1 matrix\n",
    "#     x: n-by-d matrix\n",
    "#     y: n-by-1 matrix\n",
    "#     lam: scalar, the regularization parameter\n",
    "# Return:\n",
    "#     g: g: d-by-1 matrix, full gradient\n",
    "def gradient(w, x, y, lam):\n",
    "    n, d = x.shape\n",
    "    yx = numpy.multiply(y, x) # n-by-d matrix\n",
    "    yxw = numpy.dot(yx, w) # n-by-1 matrix\n",
    "    vec1 = numpy.exp(yxw) # n-by-1 matrix\n",
    "    vec2 = numpy.divide(yx, 1+vec1) # n-by-d matrix\n",
    "    vec3 = -numpy.mean(vec2, axis=0).reshape(d, 1) # d-by-1 matrix\n",
    "    g = vec3 + lam * w\n",
    "    return g"
   ]
  },
  {
   "cell_type": "code",
   "execution_count": 8,
   "metadata": {},
   "outputs": [],
   "source": [
    "# Gradient descent for solving logistic regression\n",
    "# Inputs:\n",
    "#     x: n-by-d matrix\n",
    "#     y: n-by-1 matrix\n",
    "#     lam: scalar, the regularization parameter\n",
    "#     stepsize: scalar\n",
    "#     max_iter: integer, the maximal iterations\n",
    "#     w: d-by-1 matrix, initialization of w\n",
    "# Return:\n",
    "#     w: d-by-1 matrix, the solution\n",
    "#     objvals: a record of each iteration's objective value\n",
    "def grad_descent(x, y, lam, stepsize, max_iter=100, w=None):\n",
    "    n, d = x.shape\n",
    "    objvals = numpy.zeros(max_iter) # store the objective values\n",
    "    if w is None:\n",
    "        w = numpy.zeros((d, 1)) # zero initialization\n",
    "    \n",
    "    for t in range(max_iter):\n",
    "        objval = objective(w, x, y, lam)\n",
    "        objvals[t] = objval\n",
    "        print('Objective value at t=' + str(t) + ' is ' + str(objval))\n",
    "        g = gradient(w, x, y, lam)\n",
    "        w -= stepsize * g\n",
    "    \n",
    "    return w, objvals"
   ]
  },
  {
   "cell_type": "markdown",
   "metadata": {},
   "source": [
    "Run gradient descent."
   ]
  },
  {
   "cell_type": "code",
   "execution_count": 9,
   "metadata": {},
   "outputs": [
    {
     "name": "stdout",
     "output_type": "stream",
     "text": [
      "Objective value at t=0 is 0.6931471805599453\n",
      "Objective value at t=1 is 0.5874287754926292\n",
      "Objective value at t=2 is 0.543029130490009\n",
      "Objective value at t=3 is 0.5187483192627562\n",
      "Objective value at t=4 is 0.5034446546129732\n",
      "Objective value at t=5 is 0.49301385097062606\n",
      "Objective value at t=6 is 0.48555258303636445\n",
      "Objective value at t=7 is 0.48003751584354165\n",
      "Objective value at t=8 is 0.47586194466290016\n",
      "Objective value at t=9 is 0.47264123128473007\n",
      "Objective value at t=10 is 0.4701195477331615\n",
      "Objective value at t=11 is 0.46812052823362243\n",
      "Objective value at t=12 is 0.46651913616238694\n",
      "Objective value at t=13 is 0.46522469128220717\n",
      "Objective value at t=14 is 0.4641701718822136\n",
      "Objective value at t=15 is 0.46330523417120395\n",
      "Objective value at t=16 is 0.4625915269565722\n",
      "Objective value at t=17 is 0.4619994718506002\n",
      "Objective value at t=18 is 0.4615060054544975\n",
      "Objective value at t=19 is 0.461092967930824\n",
      "Objective value at t=20 is 0.46074593477267684\n",
      "Objective value at t=21 is 0.4604533579016579\n",
      "Objective value at t=22 is 0.46020592611662237\n",
      "Objective value at t=23 is 0.45999608333513786\n",
      "Objective value at t=24 is 0.4598176618383398\n",
      "Objective value at t=25 is 0.45966560034386655\n",
      "Objective value at t=26 is 0.4595357253439696\n",
      "Objective value at t=27 is 0.4594245801113343\n",
      "Objective value at t=28 is 0.4593292899621365\n",
      "Objective value at t=29 is 0.45924745534077316\n",
      "Objective value at t=30 is 0.4591770664286444\n",
      "Objective value at t=31 is 0.45911643453221307\n",
      "Objective value at t=32 is 0.4590641366447557\n",
      "Objective value at t=33 is 0.45901897041979806\n",
      "Objective value at t=34 is 0.4589799174244204\n",
      "Objective value at t=35 is 0.45894611301533544\n",
      "Objective value at t=36 is 0.4589168215410372\n",
      "Objective value at t=37 is 0.45889141584896465\n",
      "Objective value at t=38 is 0.4588693602889169\n",
      "Objective value at t=39 is 0.458850196568549\n",
      "Objective value at t=40 is 0.45883353194517434\n",
      "Objective value at t=41 is 0.45881902933887864\n",
      "Objective value at t=42 is 0.4588063990314633\n",
      "Objective value at t=43 is 0.45879539167883693\n",
      "Objective value at t=44 is 0.45878579241478307\n",
      "Objective value at t=45 is 0.4587774158643414\n",
      "Objective value at t=46 is 0.45877010191747986\n",
      "Objective value at t=47 is 0.4587637121399665\n",
      "Objective value at t=48 is 0.4587581267196266\n",
      "Objective value at t=49 is 0.4587532418635163\n",
      "Objective value at t=50 is 0.45874896757572736\n",
      "Objective value at t=51 is 0.45874522575717114\n",
      "Objective value at t=52 is 0.45874194857827555\n",
      "Objective value at t=53 is 0.45873907708344475\n",
      "Objective value at t=54 is 0.45873655999268126\n",
      "Objective value at t=55 is 0.4587343526712279\n",
      "Objective value at t=56 is 0.4587324162426147\n",
      "Objective value at t=57 is 0.4587307168242915\n",
      "Objective value at t=58 is 0.45872922486819945\n",
      "Objective value at t=59 is 0.45872791459129375\n",
      "Objective value at t=60 is 0.458726763483275\n",
      "Objective value at t=61 is 0.4587257518806656\n",
      "Objective value at t=62 is 0.4587248625979705\n",
      "Objective value at t=63 is 0.4587240806080013\n",
      "Objective value at t=64 is 0.4587233927645909\n",
      "Objective value at t=65 is 0.45872278756189305\n",
      "Objective value at t=66 is 0.45872225492528923\n",
      "Objective value at t=67 is 0.45872178602962255\n",
      "Objective value at t=68 is 0.4587213731410842\n",
      "Objective value at t=69 is 0.4587210094795848\n",
      "Objective value at t=70 is 0.4587206890988841\n",
      "Objective value at t=71 is 0.4587204067821239\n",
      "Objective value at t=72 is 0.4587201579507355\n",
      "Objective value at t=73 is 0.4587199385849651\n",
      "Objective value at t=74 is 0.4587197451544971\n",
      "Objective value at t=75 is 0.45871957455786544\n",
      "Objective value at t=76 is 0.458719424069509\n",
      "Objective value at t=77 is 0.4587192912934894\n",
      "Objective value at t=78 is 0.45871917412301194\n",
      "Objective value at t=79 is 0.458719070705006\n",
      "Objective value at t=80 is 0.45871897940912165\n",
      "Objective value at t=81 is 0.45871889880057837\n",
      "Objective value at t=82 is 0.4587188276163789\n",
      "Objective value at t=83 is 0.4587187647444635\n",
      "Objective value at t=84 is 0.4587187092054332\n",
      "Objective value at t=85 is 0.45871866013652013\n",
      "Objective value at t=86 is 0.45871861677752485\n",
      "Objective value at t=87 is 0.4587185784584729\n",
      "Objective value at t=88 is 0.45871854458877825\n",
      "Objective value at t=89 is 0.4587185146477277\n",
      "Objective value at t=90 is 0.4587184881761193\n",
      "Objective value at t=91 is 0.458718464768916\n",
      "Objective value at t=92 is 0.4587184440687884\n",
      "Objective value at t=93 is 0.4587184257604351\n",
      "Objective value at t=94 is 0.45871840956559\n",
      "Objective value at t=95 is 0.4587183952386279\n",
      "Objective value at t=96 is 0.4587183825626986\n",
      "Objective value at t=97 is 0.4587183713463238\n",
      "Objective value at t=98 is 0.458718361420401\n",
      "Objective value at t=99 is 0.4587183526355655\n"
     ]
    }
   ],
   "source": [
    "lam = 1E-6\n",
    "stepsize = 1.0\n",
    "w, objvals_gd = grad_descent(x_train, y_train, lam, stepsize)"
   ]
  },
  {
   "cell_type": "markdown",
   "metadata": {},
   "source": [
    "## 3.2. Stochastic gradient descent (SGD)\n",
    "\n",
    "Define $Q_i (w) = \\log \\Big( 1 + \\exp \\big( - y_i x_i^T w \\big) \\Big) + \\frac{\\lambda}{2} \\| w \\|_2^2 $.\n",
    "\n",
    "The stochastic gradient at $w$ is $g_i = \\frac{\\partial Q_i }{ \\partial w} = -\\frac{y_i x_i }{1 + \\exp ( y_i x_i^T w)} + \\lambda w$."
   ]
  },
  {
   "cell_type": "code",
   "execution_count": 10,
   "metadata": {},
   "outputs": [],
   "source": [
    "# Calculate the objective Q_i and the gradient of Q_i\n",
    "# Inputs:\n",
    "#     w: d-by-1 matrix\n",
    "#     xi: 1-by-d matrix\n",
    "#     yi: scalar\n",
    "#     lam: scalar, the regularization parameter\n",
    "# Return:\n",
    "#     obj: scalar, the objective Q_i\n",
    "#     g: d-by-1 matrix, gradient of Q_i\n",
    "def stochastic_objective_gradient(w, xi, yi, lam):\n",
    "    yx = yi * xi # 1-by-d matrix\n",
    "    yxw = float(numpy.dot(yx, w)) # scalar\n",
    "    \n",
    "    # calculate objective function Q_i\n",
    "    loss = numpy.log(1 + numpy.exp(-yxw)) # scalar\n",
    "    reg = lam / 2 * numpy.sum(w * w) # scalar\n",
    "    obj = loss + reg\n",
    "    \n",
    "    # calculate stochastic gradient\n",
    "    g_loss = -yx.T / (1 + numpy.exp(yxw)) # d-by-1 matrix\n",
    "    g = g_loss + lam * w # d-by-1 matrix\n",
    "    \n",
    "    return obj, g"
   ]
  },
  {
   "cell_type": "code",
   "execution_count": 11,
   "metadata": {},
   "outputs": [],
   "source": [
    "# SGD for solving logistic regression\n",
    "# Inputs:\n",
    "#     x: n-by-d matrix\n",
    "#     y: n-by-1 matrix\n",
    "#     lam: scalar, the regularization parameter\n",
    "#     stepsize: scalar\n",
    "#     max_epoch: integer, the maximal epochs\n",
    "#     w: d-by-1 matrix, initialization of w\n",
    "# Return:\n",
    "#     w: the solution\n",
    "#     objvals: record of each iteration's objective value\n",
    "def sgd(x, y, lam, stepsize, max_epoch=100, w=None):\n",
    "    n, d = x.shape\n",
    "    objvals = numpy.zeros(max_epoch) # store the objective values\n",
    "    if w is None:\n",
    "        w = numpy.zeros((d, 1)) # zero initialization\n",
    "    \n",
    "    for t in range(max_epoch):\n",
    "        # randomly shuffle the samples\n",
    "        rand_indices = numpy.random.permutation(n)\n",
    "        x_rand = x[rand_indices, :]\n",
    "        y_rand = y[rand_indices, :]\n",
    "        \n",
    "        objval = 0 # accumulate the objective values\n",
    "        for i in range(n):\n",
    "            xi = x_rand[i, :] # 1-by-d matrix\n",
    "            yi = float(y_rand[i, :]) # scalar\n",
    "            obj, g = stochastic_objective_gradient(w, xi, yi, lam)\n",
    "            objval += obj\n",
    "            w -= stepsize * g\n",
    "        \n",
    "        stepsize *= 0.9 # decrease step size\n",
    "        objval /= n\n",
    "        objvals[t] = objval\n",
    "        print('Objective value at epoch t=' + str(t) + ' is ' + str(objval))\n",
    "    \n",
    "    return w, objvals"
   ]
  },
  {
   "cell_type": "markdown",
   "metadata": {},
   "source": [
    "Run SGD."
   ]
  },
  {
   "cell_type": "code",
   "execution_count": 12,
   "metadata": {},
   "outputs": [
    {
     "name": "stdout",
     "output_type": "stream",
     "text": [
      "Objective value at epoch t=0 is 0.5149972575011297\n",
      "Objective value at epoch t=1 is 0.5080980111578215\n",
      "Objective value at epoch t=2 is 0.4999724005343301\n",
      "Objective value at epoch t=3 is 0.49403259571745084\n",
      "Objective value at epoch t=4 is 0.49280583796316935\n",
      "Objective value at epoch t=5 is 0.49128694068744555\n",
      "Objective value at epoch t=6 is 0.48771617756828506\n",
      "Objective value at epoch t=7 is 0.47906856939684694\n",
      "Objective value at epoch t=8 is 0.4850984689200537\n",
      "Objective value at epoch t=9 is 0.47994258691684155\n",
      "Objective value at epoch t=10 is 0.4711376945414596\n",
      "Objective value at epoch t=11 is 0.47792899168672165\n",
      "Objective value at epoch t=12 is 0.4723082363982284\n",
      "Objective value at epoch t=13 is 0.46961312161595303\n",
      "Objective value at epoch t=14 is 0.4732231570736397\n",
      "Objective value at epoch t=15 is 0.4693845600249693\n",
      "Objective value at epoch t=16 is 0.4701415058386308\n",
      "Objective value at epoch t=17 is 0.46859722320757397\n",
      "Objective value at epoch t=18 is 0.4675594867860088\n",
      "Objective value at epoch t=19 is 0.4669500734683029\n",
      "Objective value at epoch t=20 is 0.46626184983164515\n",
      "Objective value at epoch t=21 is 0.4656547201123106\n",
      "Objective value at epoch t=22 is 0.46431497565582935\n",
      "Objective value at epoch t=23 is 0.4643096307627991\n",
      "Objective value at epoch t=24 is 0.4636926688635965\n",
      "Objective value at epoch t=25 is 0.4633184682978623\n",
      "Objective value at epoch t=26 is 0.4628077500973012\n",
      "Objective value at epoch t=27 is 0.46247285596503057\n",
      "Objective value at epoch t=28 is 0.46205962499721254\n",
      "Objective value at epoch t=29 is 0.46160219140585373\n",
      "Objective value at epoch t=30 is 0.461552954660564\n",
      "Objective value at epoch t=31 is 0.4611500444828274\n",
      "Objective value at epoch t=32 is 0.46104389108237065\n",
      "Objective value at epoch t=33 is 0.46066744962627204\n",
      "Objective value at epoch t=34 is 0.4604820772620594\n",
      "Objective value at epoch t=35 is 0.46040218640588704\n",
      "Objective value at epoch t=36 is 0.4602077488036449\n",
      "Objective value at epoch t=37 is 0.4600659438902716\n",
      "Objective value at epoch t=38 is 0.45994030976549805\n",
      "Objective value at epoch t=39 is 0.4598113664904896\n",
      "Objective value at epoch t=40 is 0.45972355097021145\n",
      "Objective value at epoch t=41 is 0.45961509932598776\n",
      "Objective value at epoch t=42 is 0.4595118628541786\n",
      "Objective value at epoch t=43 is 0.4594540746843971\n",
      "Objective value at epoch t=44 is 0.45937017738659025\n",
      "Objective value at epoch t=45 is 0.4593055770846591\n",
      "Objective value at epoch t=46 is 0.45925534741548724\n",
      "Objective value at epoch t=47 is 0.4592015566622026\n",
      "Objective value at epoch t=48 is 0.45915052055135935\n",
      "Objective value at epoch t=49 is 0.45910973613623157\n",
      "Objective value at epoch t=50 is 0.459067338835934\n",
      "Objective value at epoch t=51 is 0.4590359209727146\n",
      "Objective value at epoch t=52 is 0.45900410715915524\n",
      "Objective value at epoch t=53 is 0.4589747028146881\n",
      "Objective value at epoch t=54 is 0.45894967553695026\n",
      "Objective value at epoch t=55 is 0.45892736432075676\n",
      "Objective value at epoch t=56 is 0.4589066368362967\n",
      "Objective value at epoch t=57 is 0.4588871912093044\n",
      "Objective value at epoch t=58 is 0.4588706665918238\n",
      "Objective value at epoch t=59 is 0.458855702272039\n",
      "Objective value at epoch t=60 is 0.45884188122753206\n",
      "Objective value at epoch t=61 is 0.4588296492559917\n",
      "Objective value at epoch t=62 is 0.4588185995078856\n",
      "Objective value at epoch t=63 is 0.45880854273481786\n",
      "Objective value at epoch t=64 is 0.4587995347101086\n",
      "Objective value at epoch t=65 is 0.4587914654353803\n",
      "Objective value at epoch t=66 is 0.4587841605505939\n",
      "Objective value at epoch t=67 is 0.4587776901200991\n",
      "Objective value at epoch t=68 is 0.458771758422987\n",
      "Objective value at epoch t=69 is 0.4587664562678717\n",
      "Objective value at epoch t=70 is 0.4587616557083753\n",
      "Objective value at epoch t=71 is 0.458757378811237\n",
      "Objective value at epoch t=72 is 0.4587534954215009\n",
      "Objective value at epoch t=73 is 0.458750027443276\n",
      "Objective value at epoch t=74 is 0.4587468836536906\n",
      "Objective value at epoch t=75 is 0.45874405565687393\n",
      "Objective value at epoch t=76 is 0.458741518588152\n",
      "Objective value at epoch t=77 is 0.45873922559486313\n",
      "Objective value at epoch t=78 is 0.45873716657407276\n",
      "Objective value at epoch t=79 is 0.4587353133942983\n",
      "Objective value at epoch t=80 is 0.4587336427485248\n",
      "Objective value at epoch t=81 is 0.45873214212943286\n",
      "Objective value at epoch t=82 is 0.4587307864511699\n",
      "Objective value at epoch t=83 is 0.4587295711950022\n",
      "Objective value at epoch t=84 is 0.4587284769280896\n",
      "Objective value at epoch t=85 is 0.4587274912686795\n",
      "Objective value at epoch t=86 is 0.4587266057201432\n",
      "Objective value at epoch t=87 is 0.4587258070567282\n",
      "Objective value at epoch t=88 is 0.45872508799118095\n",
      "Objective value at epoch t=89 is 0.4587244408080727\n",
      "Objective value at epoch t=90 is 0.45872385867818466\n",
      "Objective value at epoch t=91 is 0.45872333458691683\n",
      "Objective value at epoch t=92 is 0.4587228634597431\n",
      "Objective value at epoch t=93 is 0.45872243843746574\n",
      "Objective value at epoch t=94 is 0.45872205681809347\n",
      "Objective value at epoch t=95 is 0.45872171299942366\n",
      "Objective value at epoch t=96 is 0.45872140374874376\n",
      "Objective value at epoch t=97 is 0.45872112505389734\n",
      "Objective value at epoch t=98 is 0.4587208746795869\n",
      "Objective value at epoch t=99 is 0.45872064903813836\n"
     ]
    }
   ],
   "source": [
    "lam = 1E-6\n",
    "stepsize = 0.1\n",
    "w, objvals_sgd = sgd(x_train, y_train, lam, stepsize)"
   ]
  },
  {
   "cell_type": "markdown",
   "metadata": {},
   "source": [
    "# 4. Compare GD with SGD\n",
    "\n",
    "Plot objective function values against epochs."
   ]
  },
  {
   "cell_type": "code",
   "execution_count": 13,
   "metadata": {},
   "outputs": [
    {
     "data": {
      "image/png": "[encoded data removed]",
      "text/plain": [
       "<Figure size 432x288 with 1 Axes>"
      ]
     },
     "metadata": {
      "needs_background": "light"
     },
     "output_type": "display_data"
    }
   ],
   "source": [
    "import matplotlib.pyplot as plt\n",
    "%matplotlib inline\n",
    "\n",
    "fig = plt.figure(figsize=(6, 4))\n",
    "\n",
    "epochs_gd = range(len(objvals_gd))\n",
    "epochs_sgd = range(len(objvals_sgd))\n",
    "\n",
    "line0, = plt.plot(epochs_gd, objvals_gd, '--b', LineWidth=4)\n",
    "line1, = plt.plot(epochs_sgd, objvals_sgd, '-r', LineWidth=2)\n",
    "plt.xlabel('Epochs', FontSize=20)\n",
    "plt.ylabel('Objective Value', FontSize=20)\n",
    "plt.xticks(FontSize=16)\n",
    "plt.yticks(FontSize=16)\n",
    "plt.legend([line0, line1], ['GD', 'SGD'], fontsize=20)\n",
    "plt.tight_layout()\n",
    "plt.show()\n",
    "fig.savefig('compare_gd_sgd.pdf', format='pdf', dpi=1200)"
   ]
  },
  {
   "cell_type": "markdown",
   "metadata": {},
   "source": [
    "# 5. Prediction"
   ]
  },
  {
   "cell_type": "code",
   "execution_count": 14,
   "metadata": {},
   "outputs": [],
   "source": [
    "# Predict class label\n",
    "# Inputs:\n",
    "#     w: d-by-1 matrix\n",
    "#     X: m-by-d matrix\n",
    "# Return:\n",
    "#     f: m-by-1 matrix, the predictions\n",
    "def predict(w, X):\n",
    "    xw = numpy.dot(X, w)\n",
    "    f = numpy.sign(xw)\n",
    "    return f"
   ]
  },
  {
   "cell_type": "code",
   "execution_count": 15,
   "metadata": {},
   "outputs": [
    {
     "name": "stdout",
     "output_type": "stream",
     "text": [
      "Training classification error is 0.2140625\n"
     ]
    }
   ],
   "source": [
    "# evaluate training error\n",
    "f_train = predict(w, x_train)\n",
    "diff = numpy.abs(f_train - y_train) / 2\n",
    "error_train = numpy.mean(diff)\n",
    "print('Training classification error is ' + str(error_train))"
   ]
  },
  {
   "cell_type": "code",
   "execution_count": 16,
   "metadata": {},
   "outputs": [
    {
     "name": "stdout",
     "output_type": "stream",
     "text": [
      "Test classification error is 0.25\n"
     ]
    }
   ],
   "source": [
    "# evaluate test error\n",
    "f_test = predict(w, x_test)\n",
    "diff = numpy.abs(f_test - y_test) / 2\n",
    "error_test = numpy.mean(diff)\n",
    "print('Test classification error is ' + str(error_test))"
   ]
  },
  {
   "cell_type": "markdown",
   "metadata": {},
   "source": [
    "# 6. Mini-batch SGD (fill the code)\n",
    "\n"
   ]
  },
  {
   "cell_type": "markdown",
   "metadata": {},
   "source": [
    "## 6.1. Compute the objective $Q_I$ and its gradient using a batch of samples\n",
    "\n",
    "Define $Q_I (w) = \\frac{1}{b} \\sum_{i \\in I} \\log \\Big( 1 + \\exp \\big( - y_i x_i^T w \\big) \\Big) + \\frac{\\lambda}{2} \\| w \\|_2^2 $, where $I$ is a set containing $b$ indices randomly drawn from $\\{ 1, \\cdots , n \\}$ without replacement.\n",
    "\n",
    "The stochastic gradient at $w$ is $g_I = \\frac{\\partial Q_I }{ \\partial w} = \\frac{1}{b} \\sum_{i \\in I} \\frac{- y_i x_i }{1 + \\exp ( y_i x_i^T w)} + \\lambda w$."
   ]
  },
  {
   "cell_type": "code",
   "execution_count": 17,
   "metadata": {},
   "outputs": [],
   "source": [
    "# Calculate the objective Q_I and the gradient of Q_I\n",
    "# Inputs:\n",
    "#     w: d-by-1 matrix\n",
    "#     xi: b-by-d matrix\n",
    "#     yi: b-by-1 matrix\n",
    "#     lam: scalar, the regularization parameter\n",
    "#     b: integer, the batch size\n",
    "# Return:\n",
    "#     obj: scalar, the objective Q_i\n",
    "#     g: d-by-1 matrix, gradient of Q_i\n",
    "def mb_stochastic_objective_gradient(w, xi, yi, lam, b):\n",
    "    '''\n",
    "    Multi-batch stochastic objection function and gradient\n",
    "\n",
    "    Parameters\n",
    "    ----------\n",
    "    w : numpy.matrix\n",
    "        d-by-1 matrx.\n",
    "    xi : numpy.matrix\n",
    "        b-by-d matrix.\n",
    "    yi : numpy.matrix\n",
    "        b-by-1 matrix.\n",
    "    lam : float\n",
    "        regularization parameter.\n",
    "    b : int\n",
    "        batch size.\n",
    "\n",
    "    Returns\n",
    "    -------\n",
    "    obj : float\n",
    "        objection function Q_i().\n",
    "    g : numpy.matrix\n",
    "        d-by-1 matrix, gradient of Q_i.\n",
    "\n",
    "    '''\n",
    "    # Fill the function\n",
    "    # Follow the implementation of stochastic_objective_gradient\n",
    "    # Use matrix-vector multiplication; do not use FOR LOOP of vector-vector multiplications\n",
    "    n, d = xi.shape\n",
    "    yx = numpy.multiply(yi, xi) # n-by-d matrix\n",
    "    yxw = numpy.dot(yx, w)      # n-by-1 matrix\n",
    "    \n",
    "    # calculate objective function Q_i\n",
    "    loss = numpy.mean( numpy.log( 1 + numpy.exp(-yxw))) # scalar\n",
    "    reg = lam / 2 * numpy.sum(w * w) # scalar (regularization term)\n",
    "    obj = loss + reg # scalar\n",
    "    \n",
    "    # calculate mini-batch stochastic gradient dQ_i\n",
    "    g_loss0 = -yx / (1+ numpy.exp(yxw)) # b-by-d matrix (summation section)\n",
    "    g_loss = numpy.mean((g_loss0), axis=0).reshape(d,1) # d-by-1 matrix\n",
    "    g = g_loss + lam * w # d-by-1 matrix\n",
    "    \n",
    "    return obj, g"
   ]
  },
  {
   "cell_type": "markdown",
   "metadata": {},
   "source": [
    "## 6.2. Implement mini-batch SGD\n",
    "\n",
    "Hints:\n",
    "1. In every epoch, randomly permute the $n$ samples (just like SGD).\n",
    "2. Each epoch has $\\frac{n}{b}$ iterations. In every iteration, use $b$ samples, and compute the gradient and objective using the ``mb_stochastic_objective_gradient`` function. In the next iteration, use the next $b$ samples, and so on.\n"
   ]
  },
  {
   "cell_type": "code",
   "execution_count": 18,
   "metadata": {},
   "outputs": [],
   "source": [
    "# Mini-Batch SGD for solving logistic regression\n",
    "# Inputs:\n",
    "#     x: n-by-d matrix\n",
    "#     y: n-by-1 matrix\n",
    "#     lam: scalar, the regularization parameter\n",
    "#     b: integer, the batch size\n",
    "#     stepsize: scalar\n",
    "#     max_epoch: integer, the maximal epochs\n",
    "#     w: d-by-1 matrix, initialization of w\n",
    "# Return:\n",
    "#     w: the solution\n",
    "#     objvals: record of each iteration's objective value\n",
    "def mb_sgd(x, y, lam, b, stepsize, max_epoch=100, w=None):\n",
    "    '''\n",
    "    Multi-Batch Stochasitc Gradient Descent\n",
    "\n",
    "    Parameters\n",
    "    ----------\n",
    "    x : numpy.matrix\n",
    "        n-by-d matrix.\n",
    "    y : numpy.ndarray\n",
    "        n-by-1 matrix.\n",
    "    lam : float\n",
    "         the regularization parameter.\n",
    "    b : integer\n",
    "        the batch size.\n",
    "    stepsize : float\n",
    "        stepsize.\n",
    "    max_epoch : int, optional\n",
    "        the maximal epochs. The default is 100.\n",
    "    w : numpy.matrix, optional\n",
    "        d-by-1 matrix, initialization of w. The default is None.\n",
    "\n",
    "    Returns\n",
    "    -------\n",
    "    w : numpy.ndarray\n",
    "        the solution weights.\n",
    "    objvals : numpy.ndarray\n",
    "         record of each iteration's objective value.\n",
    "\n",
    "    '''\n",
    "    # Fill the function\n",
    "    # Follow the implementation of sgd\n",
    "    # Record one objective value per epoch (not per iteration!)\n",
    "    n, d = x.shape\n",
    "    objvals = numpy.zeros(max_epoch) # store the objective values\n",
    "    if w is None:\n",
    "        w = numpy.zeros((d, 1)) # zero initialization\n",
    "        \n",
    "    for t in range(max_epoch):\n",
    "        # randomly shuffle the samples\n",
    "        rand_indices = numpy.random.permutation(n)\n",
    "        x_rand = x[rand_indices, :]\n",
    "        y_rand = y[rand_indices, :]\n",
    "        \n",
    "        # create batches from randomization\n",
    "        num_batches = x_rand.shape[0] // b     # Get number of batches with remainder \n",
    "        batch_remainder =  x_rand.shape[0] % b # Remainder value\n",
    "        # Loop through randomized data and partition batch\n",
    "        batches = []\n",
    "        for b_i in range(num_batches):\n",
    "            start_idx = b_i * b\n",
    "            end_idx = (b_i + 1) * b\n",
    "            x_b = x_rand[start_idx:end_idx, :]\n",
    "            y_b = y_rand[start_idx:end_idx, :]\n",
    "            batches.append([x_b, y_b])\n",
    "            \n",
    "        # If remainder then add final batch smaller than designated size\n",
    "        if batch_remainder > 0:\n",
    "            x_b = x_rand[-batch_remainder:, :]\n",
    "            y_b = y_rand[-batch_remainder:, :]\n",
    "            batches.append([x_b, y_b])\n",
    "            \n",
    "        # Calculate objective value\n",
    "        objval = 0 # accumulate the objective values\n",
    "        for batch_i in batches:\n",
    "            x_i, y_i = batch_i\n",
    "            batch_size = x_i.shape[0] # batch_size = b (except remainder)\n",
    "            obj, g = mb_stochastic_objective_gradient(w, x_i, y_i, lam, batch_size)\n",
    "            objval += obj\n",
    "            w -= stepsize * g\n",
    "            \n",
    "        stepsize *= 0.9\n",
    "        objval /= (n/b)\n",
    "        objvals[t] = objval \n",
    "        print(f'Objective value at epoch t={str(t)} is {str(objval)}')\n",
    "    \n",
    "    return w, objvals"
   ]
  },
  {
   "cell_type": "markdown",
   "metadata": {},
   "source": [
    "## 6.3. Run MB-SGD"
   ]
  },
  {
   "cell_type": "code",
   "execution_count": 19,
   "metadata": {},
   "outputs": [
    {
     "name": "stdout",
     "output_type": "stream",
     "text": [
      "Objective value at epoch t=0 is 0.5366055345253647\n",
      "Objective value at epoch t=1 is 0.476720619150821\n",
      "Objective value at epoch t=2 is 0.4677575809516023\n",
      "Objective value at epoch t=3 is 0.4647044351852149\n",
      "Objective value at epoch t=4 is 0.46394997404486205\n",
      "Objective value at epoch t=5 is 0.4639736246693091\n",
      "Objective value at epoch t=6 is 0.46295003143670704\n",
      "Objective value at epoch t=7 is 0.4628430716496584\n",
      "Objective value at epoch t=8 is 0.46173632894017913\n",
      "Objective value at epoch t=9 is 0.46210246692222057\n",
      "Objective value at epoch t=10 is 0.4616508423181626\n",
      "Objective value at epoch t=11 is 0.46130784373437245\n",
      "Objective value at epoch t=12 is 0.46085961953319776\n",
      "Objective value at epoch t=13 is 0.4608033792818741\n",
      "Objective value at epoch t=14 is 0.4604690559983594\n",
      "Objective value at epoch t=15 is 0.46040827442582727\n",
      "Objective value at epoch t=16 is 0.4601673053213807\n",
      "Objective value at epoch t=17 is 0.4600824181655233\n",
      "Objective value at epoch t=18 is 0.4598726803761334\n",
      "Objective value at epoch t=19 is 0.4597932274443588\n",
      "Objective value at epoch t=20 is 0.45982180659421995\n",
      "Objective value at epoch t=21 is 0.45964028110033545\n",
      "Objective value at epoch t=22 is 0.4595492215294267\n",
      "Objective value at epoch t=23 is 0.4594950978722917\n",
      "Objective value at epoch t=24 is 0.4593479128636\n",
      "Objective value at epoch t=25 is 0.45928212615603786\n",
      "Objective value at epoch t=26 is 0.45921616231730294\n",
      "Objective value at epoch t=27 is 0.4591891861511951\n",
      "Objective value at epoch t=28 is 0.45919230344771667\n",
      "Objective value at epoch t=29 is 0.45913474544778443\n",
      "Objective value at epoch t=30 is 0.45908577829699276\n",
      "Objective value at epoch t=31 is 0.4590746007993479\n",
      "Objective value at epoch t=32 is 0.4590450676007373\n",
      "Objective value at epoch t=33 is 0.45900538863997087\n",
      "Objective value at epoch t=34 is 0.4589412337989701\n",
      "Objective value at epoch t=35 is 0.4589289199624843\n",
      "Objective value at epoch t=36 is 0.45890600429914696\n",
      "Objective value at epoch t=37 is 0.458893656094164\n",
      "Objective value at epoch t=38 is 0.4588822768922002\n",
      "Objective value at epoch t=39 is 0.45887525179104455\n",
      "Objective value at epoch t=40 is 0.4588378108084557\n",
      "Objective value at epoch t=41 is 0.45883494892401755\n",
      "Objective value at epoch t=42 is 0.45882636293789786\n",
      "Objective value at epoch t=43 is 0.4588113272227191\n",
      "Objective value at epoch t=44 is 0.45880490199685325\n",
      "Objective value at epoch t=45 is 0.45878544091635287\n",
      "Objective value at epoch t=46 is 0.45878239854856345\n",
      "Objective value at epoch t=47 is 0.4587788085085349\n",
      "Objective value at epoch t=48 is 0.45877798401914693\n",
      "Objective value at epoch t=49 is 0.4587637628435072\n",
      "Objective value at epoch t=50 is 0.4587634552887178\n",
      "Objective value at epoch t=51 is 0.4587610127905588\n",
      "Objective value at epoch t=52 is 0.45875472617189733\n",
      "Objective value at epoch t=53 is 0.45875215144261033\n",
      "Objective value at epoch t=54 is 0.4587480092857585\n",
      "Objective value at epoch t=55 is 0.45874449260160227\n",
      "Objective value at epoch t=56 is 0.45873979196962866\n",
      "Objective value at epoch t=57 is 0.4587412793451401\n",
      "Objective value at epoch t=58 is 0.45873822120738367\n",
      "Objective value at epoch t=59 is 0.45873470758675855\n",
      "Objective value at epoch t=60 is 0.4587334044248241\n",
      "Objective value at epoch t=61 is 0.4587324081958717\n",
      "Objective value at epoch t=62 is 0.45873106279307974\n",
      "Objective value at epoch t=63 is 0.4587305847767459\n",
      "Objective value at epoch t=64 is 0.4587290103847286\n",
      "Objective value at epoch t=65 is 0.4587282718125782\n",
      "Objective value at epoch t=66 is 0.45872716884895465\n",
      "Objective value at epoch t=67 is 0.4587264602141892\n",
      "Objective value at epoch t=68 is 0.4587256441044459\n",
      "Objective value at epoch t=69 is 0.45872486071426677\n",
      "Objective value at epoch t=70 is 0.4587241091468295\n",
      "Objective value at epoch t=71 is 0.45872380054905193\n",
      "Objective value at epoch t=72 is 0.4587231792874939\n",
      "Objective value at epoch t=73 is 0.4587232913296222\n",
      "Objective value at epoch t=74 is 0.4587222600067985\n",
      "Objective value at epoch t=75 is 0.45872212740959944\n",
      "Objective value at epoch t=76 is 0.45872200862279816\n",
      "Objective value at epoch t=77 is 0.45872139056499783\n",
      "Objective value at epoch t=78 is 0.4587213047010474\n",
      "Objective value at epoch t=79 is 0.45872061637849404\n",
      "Objective value at epoch t=80 is 0.4587207936599443\n",
      "Objective value at epoch t=81 is 0.4587205448104258\n",
      "Objective value at epoch t=82 is 0.4587204994846948\n",
      "Objective value at epoch t=83 is 0.45872025593259763\n",
      "Objective value at epoch t=84 is 0.45872022095661535\n",
      "Objective value at epoch t=85 is 0.4587200619297412\n",
      "Objective value at epoch t=86 is 0.4587198566498262\n",
      "Objective value at epoch t=87 is 0.458719856622703\n",
      "Objective value at epoch t=88 is 0.4587197451633317\n",
      "Objective value at epoch t=89 is 0.45871968277291736\n",
      "Objective value at epoch t=90 is 0.45871965891580746\n",
      "Objective value at epoch t=91 is 0.4587196066660483\n",
      "Objective value at epoch t=92 is 0.4587194963371736\n",
      "Objective value at epoch t=93 is 0.4587194311435191\n",
      "Objective value at epoch t=94 is 0.4587194185871599\n",
      "Objective value at epoch t=95 is 0.45871936129623025\n",
      "Objective value at epoch t=96 is 0.4587193263215724\n",
      "Objective value at epoch t=97 is 0.4587192898776299\n",
      "Objective value at epoch t=98 is 0.45871921712369373\n",
      "Objective value at epoch t=99 is 0.4587192217686578\n"
     ]
    }
   ],
   "source": [
    "# MB-SGD with batch size b=8\n",
    "lam = 1E-6 # do not change\n",
    "b = 8 # do not change\n",
    "stepsize = 0.1 # you must tune this parameter\n",
    "\n",
    "w, objvals_mbsgd8 = mb_sgd(x_train, y_train, lam, b, stepsize)"
   ]
  },
  {
   "cell_type": "code",
   "execution_count": 20,
   "metadata": {},
   "outputs": [
    {
     "name": "stdout",
     "output_type": "stream",
     "text": [
      "Objective value at epoch t=0 is 0.6464567351132272\n",
      "Objective value at epoch t=1 is 0.5796305382467046\n",
      "Objective value at epoch t=2 is 0.5460952767288939\n",
      "Objective value at epoch t=3 is 0.5268246115676585\n",
      "Objective value at epoch t=4 is 0.5146053297093582\n",
      "Objective value at epoch t=5 is 0.5057569420798924\n",
      "Objective value at epoch t=6 is 0.4992077374922704\n",
      "Objective value at epoch t=7 is 0.49462074713515436\n",
      "Objective value at epoch t=8 is 0.49080066029384406\n",
      "Objective value at epoch t=9 is 0.48790949770766173\n",
      "Objective value at epoch t=10 is 0.48549637425276204\n",
      "Objective value at epoch t=11 is 0.48369109001910715\n",
      "Objective value at epoch t=12 is 0.4820274774717278\n",
      "Objective value at epoch t=13 is 0.48065570431735194\n",
      "Objective value at epoch t=14 is 0.47965844239171285\n",
      "Objective value at epoch t=15 is 0.4786403394542922\n",
      "Objective value at epoch t=16 is 0.4778065107869277\n",
      "Objective value at epoch t=17 is 0.4771513827999094\n",
      "Objective value at epoch t=18 is 0.47655182243233946\n",
      "Objective value at epoch t=19 is 0.47601813266508064\n",
      "Objective value at epoch t=20 is 0.4755345821283144\n",
      "Objective value at epoch t=21 is 0.47517444722326985\n",
      "Objective value at epoch t=22 is 0.4748259845210228\n",
      "Objective value at epoch t=23 is 0.47450926146653816\n",
      "Objective value at epoch t=24 is 0.4742350932653666\n",
      "Objective value at epoch t=25 is 0.4740249880232164\n",
      "Objective value at epoch t=26 is 0.4737872522792134\n",
      "Objective value at epoch t=27 is 0.4736119465729322\n",
      "Objective value at epoch t=28 is 0.4734578611176249\n",
      "Objective value at epoch t=29 is 0.4732894167854022\n",
      "Objective value at epoch t=30 is 0.47315652379231565\n",
      "Objective value at epoch t=31 is 0.4730439295958817\n",
      "Objective value at epoch t=32 is 0.4729446550381867\n",
      "Objective value at epoch t=33 is 0.47285773976809364\n",
      "Objective value at epoch t=34 is 0.47275886742665174\n",
      "Objective value at epoch t=35 is 0.47269239069501784\n",
      "Objective value at epoch t=36 is 0.4726330900688708\n",
      "Objective value at epoch t=37 is 0.47256763865207585\n",
      "Objective value at epoch t=38 is 0.4725105076416236\n",
      "Objective value at epoch t=39 is 0.47246333507740124\n",
      "Objective value at epoch t=40 is 0.47242058383420255\n",
      "Objective value at epoch t=41 is 0.47237955628204575\n",
      "Objective value at epoch t=42 is 0.4723465364304948\n",
      "Objective value at epoch t=43 is 0.47231363572834717\n",
      "Objective value at epoch t=44 is 0.4722861107474813\n",
      "Objective value at epoch t=45 is 0.4722628606359029\n",
      "Objective value at epoch t=46 is 0.47224003202758197\n",
      "Objective value at epoch t=47 is 0.47221773177683285\n",
      "Objective value at epoch t=48 is 0.47220140033196667\n",
      "Objective value at epoch t=49 is 0.47218424913813334\n",
      "Objective value at epoch t=50 is 0.4721693673823501\n",
      "Objective value at epoch t=51 is 0.4721572373768887\n",
      "Objective value at epoch t=52 is 0.4721449630400354\n",
      "Objective value at epoch t=53 is 0.4721331054710717\n",
      "Objective value at epoch t=54 is 0.47212431999905247\n",
      "Objective value at epoch t=55 is 0.4721159526609554\n",
      "Objective value at epoch t=56 is 0.4721077519567161\n",
      "Objective value at epoch t=57 is 0.472101115615115\n",
      "Objective value at epoch t=58 is 0.47209409820666454\n",
      "Objective value at epoch t=59 is 0.47208953027338046\n",
      "Objective value at epoch t=60 is 0.4720835832353819\n",
      "Objective value at epoch t=61 is 0.47207905018293683\n",
      "Objective value at epoch t=62 is 0.4720752664942549\n",
      "Objective value at epoch t=63 is 0.4720711800983229\n",
      "Objective value at epoch t=64 is 0.4720679911181794\n",
      "Objective value at epoch t=65 is 0.47206538319563435\n",
      "Objective value at epoch t=66 is 0.4720623468110561\n",
      "Objective value at epoch t=67 is 0.47206015583980293\n",
      "Objective value at epoch t=68 is 0.47205803053429063\n",
      "Objective value at epoch t=69 is 0.4720559049279802\n",
      "Objective value at epoch t=70 is 0.47205397252358666\n",
      "Objective value at epoch t=71 is 0.4720524174997685\n",
      "Objective value at epoch t=72 is 0.47205104193163405\n",
      "Objective value at epoch t=73 is 0.4720498133274214\n",
      "Objective value at epoch t=74 is 0.4720486888874406\n",
      "Objective value at epoch t=75 is 0.4720475440749892\n",
      "Objective value at epoch t=76 is 0.47204662482154786\n",
      "Objective value at epoch t=77 is 0.47204574840928093\n",
      "Objective value at epoch t=78 is 0.472045026510734\n",
      "Objective value at epoch t=79 is 0.47204429891360666\n",
      "Objective value at epoch t=80 is 0.47204366335848624\n",
      "Objective value at epoch t=81 is 0.47204308601401623\n",
      "Objective value at epoch t=82 is 0.4720426309390244\n",
      "Objective value at epoch t=83 is 0.47204215233355623\n",
      "Objective value at epoch t=84 is 0.4720417624099297\n",
      "Objective value at epoch t=85 is 0.472041406438962\n",
      "Objective value at epoch t=86 is 0.4720410632217857\n",
      "Objective value at epoch t=87 is 0.4720407619903343\n",
      "Objective value at epoch t=88 is 0.4720404942496549\n",
      "Objective value at epoch t=89 is 0.47204028695644684\n",
      "Objective value at epoch t=90 is 0.4720400518353712\n",
      "Objective value at epoch t=91 is 0.47203985977342666\n",
      "Objective value at epoch t=92 is 0.472039689824905\n",
      "Objective value at epoch t=93 is 0.4720395249389118\n",
      "Objective value at epoch t=94 is 0.4720393720992372\n",
      "Objective value at epoch t=95 is 0.47203925601279667\n",
      "Objective value at epoch t=96 is 0.4720391424173681\n",
      "Objective value at epoch t=97 is 0.4720390395309897\n",
      "Objective value at epoch t=98 is 0.47203894833682397\n",
      "Objective value at epoch t=99 is 0.4720388677913375\n"
     ]
    }
   ],
   "source": [
    "# MB-SGD with batch size b=64\n",
    "lam = 1E-6 # do not change\n",
    "b = 64 # do not change\n",
    "stepsize = 0.1 # you must tune this parameter\n",
    "\n",
    "w, objvals_mbsgd64 = mb_sgd(x_train, y_train, lam, b, stepsize)"
   ]
  },
  {
   "cell_type": "markdown",
   "metadata": {},
   "source": [
    "# 7. Plot and compare GD, SGD, and MB-SGD"
   ]
  },
  {
   "cell_type": "markdown",
   "metadata": {},
   "source": [
    "You are required to compare the following algorithms:\n",
    "\n",
    "- Gradient descent (GD)\n",
    "\n",
    "- SGD\n",
    "\n",
    "- MB-SGD with b=8\n",
    "\n",
    "- MB-SGD with b=64\n",
    "\n",
    "Follow the code in Section 4 to plot ```objective function value``` against ```epochs```. There should be four curves in the plot; each curve corresponds to one algorithm."
   ]
  },
  {
   "cell_type": "markdown",
   "metadata": {},
   "source": [
    "Hint: Logistic regression with $\\ell_2$-norm regularization is a strongly convex optimization problem. All the algorithms will converge to the same solution. **In the end, the ``objective function value`` of the 4 algorithms will be the same. If not the same, your implementation must be wrong. Do NOT submit wrong code and wrong result!**"
   ]
  },
  {
   "cell_type": "code",
   "execution_count": 26,
   "metadata": {
    "scrolled": false
   },
   "outputs": [
    {
     "data": {
      "image/png": "[encoded data removed]",
      "text/plain": [
       "<Figure size 432x288 with 1 Axes>"
      ]
     },
     "metadata": {
      "needs_background": "light"
     },
     "output_type": "display_data"
    }
   ],
   "source": [
    "# plot the 4 curves:\n",
    "import matplotlib.pyplot as plt\n",
    "plt.style.use('fivethirtyeight')\n",
    "get_ipython().run_line_magic('matplotlib', 'inline')\n",
    "%matplotlib inline\n",
    "\n",
    "fig = plt.figure(figsize=(6, 4))\n",
    "\n",
    "epochs_gd = range(len(objvals_gd))\n",
    "epochs_sgd = range(len(objvals_sgd))\n",
    "epochs_mbsgd8 = range(len(objvals_mbsgd8))\n",
    "epochs_mbsgd64 = range(len(objvals_mbsgd64))\n",
    "\n",
    "line0, = plt.plot(epochs_gd, objvals_gd, '--b', LineWidth=4, label='GD')\n",
    "line1, = plt.plot(epochs_sgd, objvals_sgd, '-r', LineWidth=2, label='SGD')\n",
    "line2, = plt.plot(epochs_mbsgd8, objvals_mbsgd8, '-g', LineWidth=2, label='MB-SGD w/ b=8')\n",
    "line3, = plt.plot(epochs_mbsgd64, objvals_mbsgd64, '--m', LineWidth=2, label='MB-SGD w/ b=64')\n",
    "\n",
    "plt.title('Logistic Regression GD Comparison', FontSize=20)\n",
    "plt.xlabel('Epochs', FontSize=20)\n",
    "plt.ylabel('Objective Value', FontSize=20)\n",
    "plt.xticks(FontSize=16)\n",
    "plt.yticks(FontSize=16)\n",
    "plt.legend(fontsize=20)\n",
    "plt.tight_layout()\n",
    "plt.show()\n",
    "fig.savefig('compare_gd_sgd_mbsgd.pdf', format='pdf', dpi=1200)    "
   ]
  },
  {
   "cell_type": "markdown",
   "metadata": {},
   "source": [
    "### Discussion\n",
    "From the graph, it appears mini-batch gradient descent appears to converge the fastest. The batch size of 8 is the optimal size. Convergence actually slows down when the batch size gets too large. "
   ]
  },
  {
   "cell_type": "markdown",
   "metadata": {},
   "source": []
  }
 ],
 "metadata": {
  "kernelspec": {
   "display_name": "Python 3",
   "language": "python",
   "name": "python3"
  },
  "language_info": {
   "codemirror_mode": {
    "name": "ipython",
    "version": 3
   },
   "file_extension": ".py",
   "mimetype": "text/x-python",
   "name": "python",
   "nbconvert_exporter": "python",
   "pygments_lexer": "ipython3",
   "version": "3.8.8"
  }
 },
 "nbformat": 4,
 "nbformat_minor": 2
}
